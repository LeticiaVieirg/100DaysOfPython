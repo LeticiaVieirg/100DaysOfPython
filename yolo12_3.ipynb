{
  "cells": [
    {
      "cell_type": "markdown",
      "metadata": {
        "id": "view-in-github",
        "colab_type": "text"
      },
      "source": [
        "<a href=\"https://colab.research.google.com/github/LeticiaVieirg/100DaysOfPython/blob/main/yolo12_3.ipynb\" target=\"_parent\"><img src=\"https://colab.research.google.com/assets/colab-badge.svg\" alt=\"Open In Colab\"/></a>"
      ]
    },
    {
      "cell_type": "markdown",
      "metadata": {
        "id": "FqRJP_2iYM-t"
      },
      "source": [
        "Treinamento do Yolo"
      ]
    },
    {
      "cell_type": "markdown",
      "metadata": {
        "id": "X6hrsg5nWTn7"
      },
      "source": [
        "1. Configurar ambiente"
      ]
    },
    {
      "cell_type": "code",
      "execution_count": 39,
      "metadata": {
        "colab": {
          "base_uri": "https://localhost:8080/"
        },
        "id": "NDOrzkbJVJ2X",
        "outputId": "dd3eba20-fde5-45ed-fd4d-ba770ec21851"
      },
      "outputs": [
        {
          "output_type": "stream",
          "name": "stdout",
          "text": [
            "Requirement already satisfied: ultralytics in /usr/local/lib/python3.11/dist-packages (8.3.104)\n",
            "Requirement already satisfied: numpy<=2.1.1,>=1.23.0 in /usr/local/lib/python3.11/dist-packages (from ultralytics) (2.0.2)\n",
            "Requirement already satisfied: matplotlib>=3.3.0 in /usr/local/lib/python3.11/dist-packages (from ultralytics) (3.10.0)\n",
            "Requirement already satisfied: opencv-python>=4.6.0 in /usr/local/lib/python3.11/dist-packages (from ultralytics) (4.11.0.86)\n",
            "Requirement already satisfied: pillow>=7.1.2 in /usr/local/lib/python3.11/dist-packages (from ultralytics) (11.1.0)\n",
            "Requirement already satisfied: pyyaml>=5.3.1 in /usr/local/lib/python3.11/dist-packages (from ultralytics) (6.0.2)\n",
            "Requirement already satisfied: requests>=2.23.0 in /usr/local/lib/python3.11/dist-packages (from ultralytics) (2.32.3)\n",
            "Requirement already satisfied: scipy>=1.4.1 in /usr/local/lib/python3.11/dist-packages (from ultralytics) (1.14.1)\n",
            "Requirement already satisfied: torch>=1.8.0 in /usr/local/lib/python3.11/dist-packages (from ultralytics) (2.6.0+cu124)\n",
            "Requirement already satisfied: torchvision>=0.9.0 in /usr/local/lib/python3.11/dist-packages (from ultralytics) (0.21.0+cu124)\n",
            "Requirement already satisfied: tqdm>=4.64.0 in /usr/local/lib/python3.11/dist-packages (from ultralytics) (4.67.1)\n",
            "Requirement already satisfied: psutil in /usr/local/lib/python3.11/dist-packages (from ultralytics) (5.9.5)\n",
            "Requirement already satisfied: py-cpuinfo in /usr/local/lib/python3.11/dist-packages (from ultralytics) (9.0.0)\n",
            "Requirement already satisfied: pandas>=1.1.4 in /usr/local/lib/python3.11/dist-packages (from ultralytics) (2.2.2)\n",
            "Requirement already satisfied: seaborn>=0.11.0 in /usr/local/lib/python3.11/dist-packages (from ultralytics) (0.13.2)\n",
            "Requirement already satisfied: ultralytics-thop>=2.0.0 in /usr/local/lib/python3.11/dist-packages (from ultralytics) (2.0.14)\n",
            "Requirement already satisfied: contourpy>=1.0.1 in /usr/local/lib/python3.11/dist-packages (from matplotlib>=3.3.0->ultralytics) (1.3.1)\n",
            "Requirement already satisfied: cycler>=0.10 in /usr/local/lib/python3.11/dist-packages (from matplotlib>=3.3.0->ultralytics) (0.12.1)\n",
            "Requirement already satisfied: fonttools>=4.22.0 in /usr/local/lib/python3.11/dist-packages (from matplotlib>=3.3.0->ultralytics) (4.57.0)\n",
            "Requirement already satisfied: kiwisolver>=1.3.1 in /usr/local/lib/python3.11/dist-packages (from matplotlib>=3.3.0->ultralytics) (1.4.8)\n",
            "Requirement already satisfied: packaging>=20.0 in /usr/local/lib/python3.11/dist-packages (from matplotlib>=3.3.0->ultralytics) (24.2)\n",
            "Requirement already satisfied: pyparsing>=2.3.1 in /usr/local/lib/python3.11/dist-packages (from matplotlib>=3.3.0->ultralytics) (3.2.3)\n",
            "Requirement already satisfied: python-dateutil>=2.7 in /usr/local/lib/python3.11/dist-packages (from matplotlib>=3.3.0->ultralytics) (2.8.2)\n",
            "Requirement already satisfied: pytz>=2020.1 in /usr/local/lib/python3.11/dist-packages (from pandas>=1.1.4->ultralytics) (2025.2)\n",
            "Requirement already satisfied: tzdata>=2022.7 in /usr/local/lib/python3.11/dist-packages (from pandas>=1.1.4->ultralytics) (2025.2)\n",
            "Requirement already satisfied: charset-normalizer<4,>=2 in /usr/local/lib/python3.11/dist-packages (from requests>=2.23.0->ultralytics) (3.4.1)\n",
            "Requirement already satisfied: idna<4,>=2.5 in /usr/local/lib/python3.11/dist-packages (from requests>=2.23.0->ultralytics) (3.10)\n",
            "Requirement already satisfied: urllib3<3,>=1.21.1 in /usr/local/lib/python3.11/dist-packages (from requests>=2.23.0->ultralytics) (2.3.0)\n",
            "Requirement already satisfied: certifi>=2017.4.17 in /usr/local/lib/python3.11/dist-packages (from requests>=2.23.0->ultralytics) (2025.1.31)\n",
            "Requirement already satisfied: filelock in /usr/local/lib/python3.11/dist-packages (from torch>=1.8.0->ultralytics) (3.18.0)\n",
            "Requirement already satisfied: typing-extensions>=4.10.0 in /usr/local/lib/python3.11/dist-packages (from torch>=1.8.0->ultralytics) (4.13.1)\n",
            "Requirement already satisfied: networkx in /usr/local/lib/python3.11/dist-packages (from torch>=1.8.0->ultralytics) (3.4.2)\n",
            "Requirement already satisfied: jinja2 in /usr/local/lib/python3.11/dist-packages (from torch>=1.8.0->ultralytics) (3.1.6)\n",
            "Requirement already satisfied: fsspec in /usr/local/lib/python3.11/dist-packages (from torch>=1.8.0->ultralytics) (2025.3.2)\n",
            "Requirement already satisfied: nvidia-cuda-nvrtc-cu12==12.4.127 in /usr/local/lib/python3.11/dist-packages (from torch>=1.8.0->ultralytics) (12.4.127)\n",
            "Requirement already satisfied: nvidia-cuda-runtime-cu12==12.4.127 in /usr/local/lib/python3.11/dist-packages (from torch>=1.8.0->ultralytics) (12.4.127)\n",
            "Requirement already satisfied: nvidia-cuda-cupti-cu12==12.4.127 in /usr/local/lib/python3.11/dist-packages (from torch>=1.8.0->ultralytics) (12.4.127)\n",
            "Requirement already satisfied: nvidia-cudnn-cu12==9.1.0.70 in /usr/local/lib/python3.11/dist-packages (from torch>=1.8.0->ultralytics) (9.1.0.70)\n",
            "Requirement already satisfied: nvidia-cublas-cu12==12.4.5.8 in /usr/local/lib/python3.11/dist-packages (from torch>=1.8.0->ultralytics) (12.4.5.8)\n",
            "Requirement already satisfied: nvidia-cufft-cu12==11.2.1.3 in /usr/local/lib/python3.11/dist-packages (from torch>=1.8.0->ultralytics) (11.2.1.3)\n",
            "Requirement already satisfied: nvidia-curand-cu12==10.3.5.147 in /usr/local/lib/python3.11/dist-packages (from torch>=1.8.0->ultralytics) (10.3.5.147)\n",
            "Requirement already satisfied: nvidia-cusolver-cu12==11.6.1.9 in /usr/local/lib/python3.11/dist-packages (from torch>=1.8.0->ultralytics) (11.6.1.9)\n",
            "Requirement already satisfied: nvidia-cusparse-cu12==12.3.1.170 in /usr/local/lib/python3.11/dist-packages (from torch>=1.8.0->ultralytics) (12.3.1.170)\n",
            "Requirement already satisfied: nvidia-cusparselt-cu12==0.6.2 in /usr/local/lib/python3.11/dist-packages (from torch>=1.8.0->ultralytics) (0.6.2)\n",
            "Requirement already satisfied: nvidia-nccl-cu12==2.21.5 in /usr/local/lib/python3.11/dist-packages (from torch>=1.8.0->ultralytics) (2.21.5)\n",
            "Requirement already satisfied: nvidia-nvtx-cu12==12.4.127 in /usr/local/lib/python3.11/dist-packages (from torch>=1.8.0->ultralytics) (12.4.127)\n",
            "Requirement already satisfied: nvidia-nvjitlink-cu12==12.4.127 in /usr/local/lib/python3.11/dist-packages (from torch>=1.8.0->ultralytics) (12.4.127)\n",
            "Requirement already satisfied: triton==3.2.0 in /usr/local/lib/python3.11/dist-packages (from torch>=1.8.0->ultralytics) (3.2.0)\n",
            "Requirement already satisfied: sympy==1.13.1 in /usr/local/lib/python3.11/dist-packages (from torch>=1.8.0->ultralytics) (1.13.1)\n",
            "Requirement already satisfied: mpmath<1.4,>=1.1.0 in /usr/local/lib/python3.11/dist-packages (from sympy==1.13.1->torch>=1.8.0->ultralytics) (1.3.0)\n",
            "Requirement already satisfied: six>=1.5 in /usr/local/lib/python3.11/dist-packages (from python-dateutil>=2.7->matplotlib>=3.3.0->ultralytics) (1.17.0)\n",
            "Requirement already satisfied: MarkupSafe>=2.0 in /usr/local/lib/python3.11/dist-packages (from jinja2->torch>=1.8.0->ultralytics) (3.0.2)\n"
          ]
        }
      ],
      "source": [
        "!pip install ultralytics"
      ]
    },
    {
      "cell_type": "code",
      "execution_count": 40,
      "metadata": {
        "colab": {
          "base_uri": "https://localhost:8080/"
        },
        "id": "nMuLYsYqRY_E",
        "outputId": "ce61d5a5-2b01-419c-c985-44eea7395e05"
      },
      "outputs": [
        {
          "output_type": "stream",
          "name": "stdout",
          "text": [
            "Transferred 499/561 items from pretrained weights\n",
            "Ultralytics 8.3.104 🚀 Python-3.11.11 torch-2.6.0+cu124 CUDA:0 (Tesla T4, 15095MiB)\n",
            "\u001b[34m\u001b[1mengine/trainer: \u001b[0mtask=segment, mode=train, model=yolo11n-seg.yaml, data=coco8-seg.yaml, epochs=100, time=None, patience=100, batch=16, imgsz=640, save=True, save_period=-1, cache=False, device=None, workers=8, project=None, name=train4, exist_ok=False, pretrained=yolo11n.pt, optimizer=auto, verbose=True, seed=0, deterministic=True, single_cls=False, rect=False, cos_lr=False, close_mosaic=10, resume=False, amp=True, fraction=1.0, profile=False, freeze=None, multi_scale=False, overlap_mask=True, mask_ratio=4, dropout=0.0, val=True, split=val, save_json=False, save_hybrid=False, conf=None, iou=0.7, max_det=300, half=False, dnn=False, plots=True, source=None, vid_stride=1, stream_buffer=False, visualize=False, augment=False, agnostic_nms=False, classes=None, retina_masks=False, embed=None, show=False, save_frames=False, save_txt=False, save_conf=False, save_crop=False, show_labels=True, show_conf=True, show_boxes=True, line_width=None, format=torchscript, keras=False, optimize=False, int8=False, dynamic=False, simplify=True, opset=None, workspace=None, nms=False, lr0=0.01, lrf=0.01, momentum=0.937, weight_decay=0.0005, warmup_epochs=3.0, warmup_momentum=0.8, warmup_bias_lr=0.1, box=7.5, cls=0.5, dfl=1.5, pose=12.0, kobj=1.0, nbs=64, hsv_h=0.015, hsv_s=0.7, hsv_v=0.4, degrees=0.0, translate=0.1, scale=0.5, shear=0.0, perspective=0.0, flipud=0.0, fliplr=0.5, bgr=0.0, mosaic=1.0, mixup=0.0, copy_paste=0.0, copy_paste_mode=flip, auto_augment=randaugment, erasing=0.4, crop_fraction=1.0, cfg=None, tracker=botsort.yaml, save_dir=runs/segment/train4\n",
            "\n",
            "                   from  n    params  module                                       arguments                     \n",
            "  0                  -1  1       464  ultralytics.nn.modules.conv.Conv             [3, 16, 3, 2]                 \n",
            "  1                  -1  1      4672  ultralytics.nn.modules.conv.Conv             [16, 32, 3, 2]                \n",
            "  2                  -1  1      6640  ultralytics.nn.modules.block.C3k2            [32, 64, 1, False, 0.25]      \n",
            "  3                  -1  1     36992  ultralytics.nn.modules.conv.Conv             [64, 64, 3, 2]                \n",
            "  4                  -1  1     26080  ultralytics.nn.modules.block.C3k2            [64, 128, 1, False, 0.25]     \n",
            "  5                  -1  1    147712  ultralytics.nn.modules.conv.Conv             [128, 128, 3, 2]              \n",
            "  6                  -1  1     87040  ultralytics.nn.modules.block.C3k2            [128, 128, 1, True]           \n",
            "  7                  -1  1    295424  ultralytics.nn.modules.conv.Conv             [128, 256, 3, 2]              \n",
            "  8                  -1  1    346112  ultralytics.nn.modules.block.C3k2            [256, 256, 1, True]           \n",
            "  9                  -1  1    164608  ultralytics.nn.modules.block.SPPF            [256, 256, 5]                 \n",
            " 10                  -1  1    249728  ultralytics.nn.modules.block.C2PSA           [256, 256, 1]                 \n",
            " 11                  -1  1         0  torch.nn.modules.upsampling.Upsample         [None, 2, 'nearest']          \n",
            " 12             [-1, 6]  1         0  ultralytics.nn.modules.conv.Concat           [1]                           \n",
            " 13                  -1  1    111296  ultralytics.nn.modules.block.C3k2            [384, 128, 1, False]          \n",
            " 14                  -1  1         0  torch.nn.modules.upsampling.Upsample         [None, 2, 'nearest']          \n",
            " 15             [-1, 4]  1         0  ultralytics.nn.modules.conv.Concat           [1]                           \n",
            " 16                  -1  1     32096  ultralytics.nn.modules.block.C3k2            [256, 64, 1, False]           \n",
            " 17                  -1  1     36992  ultralytics.nn.modules.conv.Conv             [64, 64, 3, 2]                \n",
            " 18            [-1, 13]  1         0  ultralytics.nn.modules.conv.Concat           [1]                           \n",
            " 19                  -1  1     86720  ultralytics.nn.modules.block.C3k2            [192, 128, 1, False]          \n",
            " 20                  -1  1    147712  ultralytics.nn.modules.conv.Conv             [128, 128, 3, 2]              \n",
            " 21            [-1, 10]  1         0  ultralytics.nn.modules.conv.Concat           [1]                           \n",
            " 22                  -1  1    378880  ultralytics.nn.modules.block.C3k2            [384, 256, 1, True]           \n",
            " 23        [16, 19, 22]  1    717680  ultralytics.nn.modules.head.Segment          [80, 32, 64, [64, 128, 256]]  \n",
            "YOLO11n-seg summary: 203 layers, 2,876,848 parameters, 2,876,832 gradients, 10.5 GFLOPs\n",
            "\n",
            "Transferred 561/561 items from pretrained weights\n",
            "\u001b[34m\u001b[1mTensorBoard: \u001b[0mStart with 'tensorboard --logdir runs/segment/train4', view at http://localhost:6006/\n",
            "Freezing layer 'model.23.dfl.conv.weight'\n",
            "\u001b[34m\u001b[1mAMP: \u001b[0mrunning Automatic Mixed Precision (AMP) checks...\n",
            "\u001b[34m\u001b[1mAMP: \u001b[0mchecks passed ✅\n"
          ]
        },
        {
          "output_type": "stream",
          "name": "stderr",
          "text": [
            "\u001b[34m\u001b[1mtrain: \u001b[0mScanning /content/datasets/coco8-seg/labels/train.cache... 4 images, 0 backgrounds, 0 corrupt: 100%|██████████| 4/4 [00:00<?, ?it/s]"
          ]
        },
        {
          "output_type": "stream",
          "name": "stdout",
          "text": [
            "\u001b[34m\u001b[1malbumentations: \u001b[0mBlur(p=0.01, blur_limit=(3, 7)), MedianBlur(p=0.01, blur_limit=(3, 7)), ToGray(p=0.01, num_output_channels=3, method='weighted_average'), CLAHE(p=0.01, clip_limit=(1.0, 4.0), tile_grid_size=(8, 8))\n"
          ]
        },
        {
          "output_type": "stream",
          "name": "stderr",
          "text": [
            "\n",
            "\u001b[34m\u001b[1mval: \u001b[0mScanning /content/datasets/coco8-seg/labels/val.cache... 4 images, 0 backgrounds, 0 corrupt: 100%|██████████| 4/4 [00:00<?, ?it/s]\n"
          ]
        },
        {
          "output_type": "stream",
          "name": "stdout",
          "text": [
            "Plotting labels to runs/segment/train4/labels.jpg... \n",
            "\u001b[34m\u001b[1moptimizer:\u001b[0m 'optimizer=auto' found, ignoring 'lr0=0.01' and 'momentum=0.937' and determining best 'optimizer', 'lr0' and 'momentum' automatically... \n",
            "\u001b[34m\u001b[1moptimizer:\u001b[0m AdamW(lr=0.000119, momentum=0.9) with parameter groups 90 weight(decay=0.0), 101 weight(decay=0.0005), 100 bias(decay=0.0)\n",
            "\u001b[34m\u001b[1mTensorBoard: \u001b[0mmodel graph visualization added ✅\n",
            "Image sizes 640 train, 640 val\n",
            "Using 2 dataloader workers\n",
            "Logging results to \u001b[1mruns/segment/train4\u001b[0m\n",
            "Starting training for 100 epochs...\n",
            "\n",
            "      Epoch    GPU_mem   box_loss   seg_loss   cls_loss   dfl_loss  Instances       Size\n"
          ]
        },
        {
          "output_type": "stream",
          "name": "stderr",
          "text": [
            "      1/100     0.961G     0.9323      8.238      2.435      1.246         19        640: 100%|██████████| 1/1 [00:00<00:00,  5.23it/s]\n",
            "                 Class     Images  Instances      Box(P          R      mAP50  mAP50-95)     Mask(P          R      mAP50  mAP50-95): 100%|██████████| 1/1 [00:00<00:00,  7.05it/s]\n"
          ]
        },
        {
          "output_type": "stream",
          "name": "stdout",
          "text": [
            "                   all          4         17      0.583       0.85      0.878      0.634      0.174        0.2      0.182     0.0691\n",
            "\n",
            "      Epoch    GPU_mem   box_loss   seg_loss   cls_loss   dfl_loss  Instances       Size\n"
          ]
        },
        {
          "output_type": "stream",
          "name": "stderr",
          "text": [
            "      2/100     0.961G       1.18      7.223      3.101      1.551         23        640: 100%|██████████| 1/1 [00:00<00:00,  5.23it/s]\n",
            "                 Class     Images  Instances      Box(P          R      mAP50  mAP50-95)     Mask(P          R      mAP50  mAP50-95): 100%|██████████| 1/1 [00:00<00:00,  7.59it/s]"
          ]
        },
        {
          "output_type": "stream",
          "name": "stdout",
          "text": [
            "                   all          4         17      0.588       0.85      0.886      0.634      0.174        0.2      0.187      0.103\n"
          ]
        },
        {
          "output_type": "stream",
          "name": "stderr",
          "text": [
            "\n"
          ]
        },
        {
          "output_type": "stream",
          "name": "stdout",
          "text": [
            "\n",
            "      Epoch    GPU_mem   box_loss   seg_loss   cls_loss   dfl_loss  Instances       Size\n"
          ]
        },
        {
          "output_type": "stream",
          "name": "stderr",
          "text": [
            "      3/100     0.961G      1.171      9.107      2.767      1.366         27        640: 100%|██████████| 1/1 [00:00<00:00,  5.79it/s]\n",
            "                 Class     Images  Instances      Box(P          R      mAP50  mAP50-95)     Mask(P          R      mAP50  mAP50-95): 100%|██████████| 1/1 [00:00<00:00,  6.12it/s]\n"
          ]
        },
        {
          "output_type": "stream",
          "name": "stdout",
          "text": [
            "                   all          4         17      0.572       0.85       0.85      0.649      0.172        0.2      0.189      0.137\n",
            "\n",
            "      Epoch    GPU_mem   box_loss   seg_loss   cls_loss   dfl_loss  Instances       Size\n"
          ]
        },
        {
          "output_type": "stream",
          "name": "stderr",
          "text": [
            "      4/100     0.977G      1.105      8.627      2.661       1.23         34        640: 100%|██████████| 1/1 [00:00<00:00,  5.52it/s]\n",
            "                 Class     Images  Instances      Box(P          R      mAP50  mAP50-95)     Mask(P          R      mAP50  mAP50-95): 100%|██████████| 1/1 [00:00<00:00, 12.95it/s]"
          ]
        },
        {
          "output_type": "stream",
          "name": "stdout",
          "text": [
            "                   all          4         17      0.559       0.85      0.883      0.639       0.17        0.2      0.189      0.137\n"
          ]
        },
        {
          "output_type": "stream",
          "name": "stderr",
          "text": [
            "\n"
          ]
        },
        {
          "output_type": "stream",
          "name": "stdout",
          "text": [
            "\n",
            "      Epoch    GPU_mem   box_loss   seg_loss   cls_loss   dfl_loss  Instances       Size\n"
          ]
        },
        {
          "output_type": "stream",
          "name": "stderr",
          "text": [
            "      5/100     0.977G     0.8563        8.5      2.593      1.194         22        640: 100%|██████████| 1/1 [00:00<00:00,  5.71it/s]\n",
            "                 Class     Images  Instances      Box(P          R      mAP50  mAP50-95)     Mask(P          R      mAP50  mAP50-95): 100%|██████████| 1/1 [00:00<00:00, 12.72it/s]"
          ]
        },
        {
          "output_type": "stream",
          "name": "stdout",
          "text": [
            "                   all          4         17      0.536       0.85      0.891      0.639      0.228      0.283      0.267      0.146\n"
          ]
        },
        {
          "output_type": "stream",
          "name": "stderr",
          "text": [
            "\n"
          ]
        },
        {
          "output_type": "stream",
          "name": "stdout",
          "text": [
            "\n",
            "      Epoch    GPU_mem   box_loss   seg_loss   cls_loss   dfl_loss  Instances       Size\n"
          ]
        },
        {
          "output_type": "stream",
          "name": "stderr",
          "text": [
            "      6/100     0.977G     0.9802      7.597      3.806      1.346         25        640: 100%|██████████| 1/1 [00:00<00:00,  5.31it/s]\n",
            "                 Class     Images  Instances      Box(P          R      mAP50  mAP50-95)     Mask(P          R      mAP50  mAP50-95): 100%|██████████| 1/1 [00:00<00:00, 12.77it/s]"
          ]
        },
        {
          "output_type": "stream",
          "name": "stdout",
          "text": [
            "                   all          4         17      0.532       0.85      0.856      0.635      0.226      0.283      0.268      0.147\n"
          ]
        },
        {
          "output_type": "stream",
          "name": "stderr",
          "text": [
            "\n"
          ]
        },
        {
          "output_type": "stream",
          "name": "stdout",
          "text": [
            "\n",
            "      Epoch    GPU_mem   box_loss   seg_loss   cls_loss   dfl_loss  Instances       Size\n"
          ]
        },
        {
          "output_type": "stream",
          "name": "stderr",
          "text": [
            "      7/100     0.977G     0.8898      8.369      2.817      1.215         25        640: 100%|██████████| 1/1 [00:00<00:00,  5.89it/s]\n",
            "                 Class     Images  Instances      Box(P          R      mAP50  mAP50-95)     Mask(P          R      mAP50  mAP50-95): 100%|██████████| 1/1 [00:00<00:00, 13.25it/s]"
          ]
        },
        {
          "output_type": "stream",
          "name": "stdout",
          "text": [
            "                   all          4         17      0.555      0.856      0.859      0.629      0.226      0.283      0.269      0.147\n"
          ]
        },
        {
          "output_type": "stream",
          "name": "stderr",
          "text": [
            "\n"
          ]
        },
        {
          "output_type": "stream",
          "name": "stdout",
          "text": [
            "\n",
            "      Epoch    GPU_mem   box_loss   seg_loss   cls_loss   dfl_loss  Instances       Size\n"
          ]
        },
        {
          "output_type": "stream",
          "name": "stderr",
          "text": [
            "      8/100      1.02G      1.286       8.14      2.852      1.386         51        640: 100%|██████████| 1/1 [00:00<00:00,  5.66it/s]\n",
            "                 Class     Images  Instances      Box(P          R      mAP50  mAP50-95)     Mask(P          R      mAP50  mAP50-95): 100%|██████████| 1/1 [00:00<00:00, 12.96it/s]"
          ]
        },
        {
          "output_type": "stream",
          "name": "stdout",
          "text": [
            "                   all          4         17      0.557      0.867      0.886       0.63       0.22      0.283      0.293      0.147\n"
          ]
        },
        {
          "output_type": "stream",
          "name": "stderr",
          "text": [
            "\n"
          ]
        },
        {
          "output_type": "stream",
          "name": "stdout",
          "text": [
            "\n",
            "      Epoch    GPU_mem   box_loss   seg_loss   cls_loss   dfl_loss  Instances       Size\n"
          ]
        },
        {
          "output_type": "stream",
          "name": "stderr",
          "text": [
            "      9/100      1.02G      1.016      8.507      3.052      1.263         40        640: 100%|██████████| 1/1 [00:00<00:00,  4.00it/s]\n",
            "                 Class     Images  Instances      Box(P          R      mAP50  mAP50-95)     Mask(P          R      mAP50  mAP50-95): 100%|██████████| 1/1 [00:00<00:00, 10.56it/s]"
          ]
        },
        {
          "output_type": "stream",
          "name": "stdout",
          "text": [
            "                   all          4         17      0.536      0.867      0.895      0.632      0.215      0.283      0.266      0.145\n"
          ]
        },
        {
          "output_type": "stream",
          "name": "stderr",
          "text": [
            "\n"
          ]
        },
        {
          "output_type": "stream",
          "name": "stdout",
          "text": [
            "\n",
            "      Epoch    GPU_mem   box_loss   seg_loss   cls_loss   dfl_loss  Instances       Size\n"
          ]
        },
        {
          "output_type": "stream",
          "name": "stderr",
          "text": [
            "     10/100      1.02G       1.55      7.611      3.221      1.659         32        640: 100%|██████████| 1/1 [00:00<00:00,  3.43it/s]\n",
            "                 Class     Images  Instances      Box(P          R      mAP50  mAP50-95)     Mask(P          R      mAP50  mAP50-95): 100%|██████████| 1/1 [00:00<00:00, 11.51it/s]"
          ]
        },
        {
          "output_type": "stream",
          "name": "stdout",
          "text": [
            "                   all          4         17      0.613      0.943       0.91      0.636      0.254      0.367      0.317       0.15\n"
          ]
        },
        {
          "output_type": "stream",
          "name": "stderr",
          "text": [
            "\n"
          ]
        },
        {
          "output_type": "stream",
          "name": "stdout",
          "text": [
            "\n",
            "      Epoch    GPU_mem   box_loss   seg_loss   cls_loss   dfl_loss  Instances       Size\n"
          ]
        },
        {
          "output_type": "stream",
          "name": "stderr",
          "text": [
            "     11/100      1.02G      1.202      8.104       2.35      1.313         28        640: 100%|██████████| 1/1 [00:00<00:00,  3.13it/s]\n",
            "                 Class     Images  Instances      Box(P          R      mAP50  mAP50-95)     Mask(P          R      mAP50  mAP50-95): 100%|██████████| 1/1 [00:00<00:00,  8.22it/s]"
          ]
        },
        {
          "output_type": "stream",
          "name": "stdout",
          "text": [
            "                   all          4         17      0.623      0.945      0.911      0.641      0.189      0.283       0.23      0.141\n"
          ]
        },
        {
          "output_type": "stream",
          "name": "stderr",
          "text": [
            "\n"
          ]
        },
        {
          "output_type": "stream",
          "name": "stdout",
          "text": [
            "\n",
            "      Epoch    GPU_mem   box_loss   seg_loss   cls_loss   dfl_loss  Instances       Size\n"
          ]
        },
        {
          "output_type": "stream",
          "name": "stderr",
          "text": [
            "     12/100      1.04G     0.7141      7.861      1.901      1.149         21        640: 100%|██████████| 1/1 [00:00<00:00,  4.39it/s]\n",
            "                 Class     Images  Instances      Box(P          R      mAP50  mAP50-95)     Mask(P          R      mAP50  mAP50-95): 100%|██████████| 1/1 [00:00<00:00, 11.17it/s]"
          ]
        },
        {
          "output_type": "stream",
          "name": "stdout",
          "text": [
            "                   all          4         17      0.631      0.779      0.911      0.646      0.176      0.283      0.227      0.144\n"
          ]
        },
        {
          "output_type": "stream",
          "name": "stderr",
          "text": [
            "\n"
          ]
        },
        {
          "output_type": "stream",
          "name": "stdout",
          "text": [
            "\n",
            "      Epoch    GPU_mem   box_loss   seg_loss   cls_loss   dfl_loss  Instances       Size\n"
          ]
        },
        {
          "output_type": "stream",
          "name": "stderr",
          "text": [
            "     13/100      1.04G      1.152      7.774      2.289      1.293         28        640: 100%|██████████| 1/1 [00:00<00:00,  5.38it/s]\n",
            "                 Class     Images  Instances      Box(P          R      mAP50  mAP50-95)     Mask(P          R      mAP50  mAP50-95): 100%|██████████| 1/1 [00:00<00:00, 11.89it/s]"
          ]
        },
        {
          "output_type": "stream",
          "name": "stdout",
          "text": [
            "                   all          4         17      0.659       0.78      0.914      0.656      0.189        0.3      0.241      0.146\n"
          ]
        },
        {
          "output_type": "stream",
          "name": "stderr",
          "text": [
            "\n"
          ]
        },
        {
          "output_type": "stream",
          "name": "stdout",
          "text": [
            "\n",
            "      Epoch    GPU_mem   box_loss   seg_loss   cls_loss   dfl_loss  Instances       Size\n"
          ]
        },
        {
          "output_type": "stream",
          "name": "stderr",
          "text": [
            "     14/100      1.04G     0.8297      7.804      1.787      1.158         24        640: 100%|██████████| 1/1 [00:00<00:00,  5.20it/s]\n",
            "                 Class     Images  Instances      Box(P          R      mAP50  mAP50-95)     Mask(P          R      mAP50  mAP50-95): 100%|██████████| 1/1 [00:00<00:00, 12.82it/s]"
          ]
        },
        {
          "output_type": "stream",
          "name": "stdout",
          "text": [
            "                   all          4         17       0.74      0.767      0.912      0.651      0.182      0.283      0.235      0.144\n"
          ]
        },
        {
          "output_type": "stream",
          "name": "stderr",
          "text": [
            "\n"
          ]
        },
        {
          "output_type": "stream",
          "name": "stdout",
          "text": [
            "\n",
            "      Epoch    GPU_mem   box_loss   seg_loss   cls_loss   dfl_loss  Instances       Size\n"
          ]
        },
        {
          "output_type": "stream",
          "name": "stderr",
          "text": [
            "     15/100      1.04G      1.146      7.042      3.552      1.441         42        640: 100%|██████████| 1/1 [00:00<00:00,  5.93it/s]\n",
            "                 Class     Images  Instances      Box(P          R      mAP50  mAP50-95)     Mask(P          R      mAP50  mAP50-95): 100%|██████████| 1/1 [00:00<00:00, 11.35it/s]"
          ]
        },
        {
          "output_type": "stream",
          "name": "stdout",
          "text": [
            "                   all          4         17      0.735      0.767      0.914      0.659      0.184      0.283      0.213      0.142\n"
          ]
        },
        {
          "output_type": "stream",
          "name": "stderr",
          "text": [
            "\n"
          ]
        },
        {
          "output_type": "stream",
          "name": "stdout",
          "text": [
            "\n",
            "      Epoch    GPU_mem   box_loss   seg_loss   cls_loss   dfl_loss  Instances       Size\n"
          ]
        },
        {
          "output_type": "stream",
          "name": "stderr",
          "text": [
            "     16/100      1.05G     0.8126      7.988      2.064      1.191         15        640: 100%|██████████| 1/1 [00:00<00:00,  3.21it/s]\n",
            "                 Class     Images  Instances      Box(P          R      mAP50  mAP50-95)     Mask(P          R      mAP50  mAP50-95): 100%|██████████| 1/1 [00:00<00:00,  5.60it/s]\n"
          ]
        },
        {
          "output_type": "stream",
          "name": "stdout",
          "text": [
            "                   all          4         17      0.736       0.77      0.916      0.659      0.179      0.283      0.213      0.144\n",
            "\n",
            "      Epoch    GPU_mem   box_loss   seg_loss   cls_loss   dfl_loss  Instances       Size\n"
          ]
        },
        {
          "output_type": "stream",
          "name": "stderr",
          "text": [
            "     17/100      1.06G     0.9146      7.015      3.089      1.315         39        640: 100%|██████████| 1/1 [00:00<00:00,  2.04it/s]\n",
            "                 Class     Images  Instances      Box(P          R      mAP50  mAP50-95)     Mask(P          R      mAP50  mAP50-95): 100%|██████████| 1/1 [00:00<00:00,  6.73it/s]\n"
          ]
        },
        {
          "output_type": "stream",
          "name": "stdout",
          "text": [
            "                   all          4         17      0.626      0.783      0.916      0.638      0.186      0.283      0.213      0.127\n",
            "\n",
            "      Epoch    GPU_mem   box_loss   seg_loss   cls_loss   dfl_loss  Instances       Size\n"
          ]
        },
        {
          "output_type": "stream",
          "name": "stderr",
          "text": [
            "     18/100      1.08G     0.8118       7.25      2.485       1.22         31        640: 100%|██████████| 1/1 [00:00<00:00,  7.01it/s]\n",
            "                 Class     Images  Instances      Box(P          R      mAP50  mAP50-95)     Mask(P          R      mAP50  mAP50-95): 100%|██████████| 1/1 [00:00<00:00,  7.30it/s]"
          ]
        },
        {
          "output_type": "stream",
          "name": "stdout",
          "text": [
            "                   all          4         17      0.626      0.783      0.916      0.638      0.186      0.283      0.213      0.127\n"
          ]
        },
        {
          "output_type": "stream",
          "name": "stderr",
          "text": [
            "\n"
          ]
        },
        {
          "output_type": "stream",
          "name": "stdout",
          "text": [
            "\n",
            "      Epoch    GPU_mem   box_loss   seg_loss   cls_loss   dfl_loss  Instances       Size\n"
          ]
        },
        {
          "output_type": "stream",
          "name": "stderr",
          "text": [
            "     19/100      1.11G      1.047      6.982      2.195      1.344         30        640: 100%|██████████| 1/1 [00:00<00:00,  5.27it/s]\n",
            "                 Class     Images  Instances      Box(P          R      mAP50  mAP50-95)     Mask(P          R      mAP50  mAP50-95): 100%|██████████| 1/1 [00:00<00:00, 12.42it/s]"
          ]
        },
        {
          "output_type": "stream",
          "name": "stdout",
          "text": [
            "                   all          4         17      0.852       0.64      0.913      0.628      0.195      0.283      0.213      0.123\n"
          ]
        },
        {
          "output_type": "stream",
          "name": "stderr",
          "text": [
            "\n"
          ]
        },
        {
          "output_type": "stream",
          "name": "stdout",
          "text": [
            "\n",
            "      Epoch    GPU_mem   box_loss   seg_loss   cls_loss   dfl_loss  Instances       Size\n"
          ]
        },
        {
          "output_type": "stream",
          "name": "stderr",
          "text": [
            "     20/100      1.11G      1.011      6.736      2.888      1.299         42        640: 100%|██████████| 1/1 [00:00<00:00,  6.53it/s]\n",
            "                 Class     Images  Instances      Box(P          R      mAP50  mAP50-95)     Mask(P          R      mAP50  mAP50-95): 100%|██████████| 1/1 [00:00<00:00, 12.34it/s]"
          ]
        },
        {
          "output_type": "stream",
          "name": "stdout",
          "text": [
            "                   all          4         17      0.852       0.64      0.913      0.628      0.195      0.283      0.213      0.123\n"
          ]
        },
        {
          "output_type": "stream",
          "name": "stderr",
          "text": [
            "\n"
          ]
        },
        {
          "output_type": "stream",
          "name": "stdout",
          "text": [
            "\n",
            "      Epoch    GPU_mem   box_loss   seg_loss   cls_loss   dfl_loss  Instances       Size\n"
          ]
        },
        {
          "output_type": "stream",
          "name": "stderr",
          "text": [
            "     21/100      1.11G      1.169      6.821       3.06      1.424         13        640: 100%|██████████| 1/1 [00:00<00:00,  5.55it/s]\n",
            "                 Class     Images  Instances      Box(P          R      mAP50  mAP50-95)     Mask(P          R      mAP50  mAP50-95): 100%|██████████| 1/1 [00:00<00:00, 11.34it/s]"
          ]
        },
        {
          "output_type": "stream",
          "name": "stdout",
          "text": [
            "                   all          4         17       0.85      0.639      0.916      0.627       0.23       0.35       0.31      0.132\n"
          ]
        },
        {
          "output_type": "stream",
          "name": "stderr",
          "text": [
            "\n"
          ]
        },
        {
          "output_type": "stream",
          "name": "stdout",
          "text": [
            "\n",
            "      Epoch    GPU_mem   box_loss   seg_loss   cls_loss   dfl_loss  Instances       Size\n"
          ]
        },
        {
          "output_type": "stream",
          "name": "stderr",
          "text": [
            "     22/100      1.11G      1.157      6.991      2.986      1.465         46        640: 100%|██████████| 1/1 [00:00<00:00,  7.03it/s]\n",
            "                 Class     Images  Instances      Box(P          R      mAP50  mAP50-95)     Mask(P          R      mAP50  mAP50-95): 100%|██████████| 1/1 [00:00<00:00, 12.43it/s]"
          ]
        },
        {
          "output_type": "stream",
          "name": "stdout",
          "text": [
            "                   all          4         17       0.85      0.639      0.916      0.627       0.23       0.35       0.31      0.132\n"
          ]
        },
        {
          "output_type": "stream",
          "name": "stderr",
          "text": [
            "\n"
          ]
        },
        {
          "output_type": "stream",
          "name": "stdout",
          "text": [
            "\n",
            "      Epoch    GPU_mem   box_loss   seg_loss   cls_loss   dfl_loss  Instances       Size\n"
          ]
        },
        {
          "output_type": "stream",
          "name": "stderr",
          "text": [
            "     23/100      1.11G     0.7298      6.639       2.69      1.179         33        640: 100%|██████████| 1/1 [00:00<00:00,  5.03it/s]\n",
            "                 Class     Images  Instances      Box(P          R      mAP50  mAP50-95)     Mask(P          R      mAP50  mAP50-95): 100%|██████████| 1/1 [00:00<00:00, 11.85it/s]"
          ]
        },
        {
          "output_type": "stream",
          "name": "stdout",
          "text": [
            "                   all          4         17      0.847      0.637      0.901      0.625      0.235        0.1      0.297      0.131\n"
          ]
        },
        {
          "output_type": "stream",
          "name": "stderr",
          "text": [
            "\n"
          ]
        },
        {
          "output_type": "stream",
          "name": "stdout",
          "text": [
            "\n",
            "      Epoch    GPU_mem   box_loss   seg_loss   cls_loss   dfl_loss  Instances       Size\n"
          ]
        },
        {
          "output_type": "stream",
          "name": "stderr",
          "text": [
            "     24/100      1.11G      1.043      6.344      2.886      1.348         32        640: 100%|██████████| 1/1 [00:00<00:00,  6.70it/s]\n",
            "                 Class     Images  Instances      Box(P          R      mAP50  mAP50-95)     Mask(P          R      mAP50  mAP50-95): 100%|██████████| 1/1 [00:00<00:00, 12.43it/s]"
          ]
        },
        {
          "output_type": "stream",
          "name": "stdout",
          "text": [
            "                   all          4         17      0.847      0.637      0.901      0.625      0.235        0.1      0.297      0.131\n"
          ]
        },
        {
          "output_type": "stream",
          "name": "stderr",
          "text": [
            "\n"
          ]
        },
        {
          "output_type": "stream",
          "name": "stdout",
          "text": [
            "\n",
            "      Epoch    GPU_mem   box_loss   seg_loss   cls_loss   dfl_loss  Instances       Size\n"
          ]
        },
        {
          "output_type": "stream",
          "name": "stderr",
          "text": [
            "     25/100      1.11G     0.7122      6.782      1.599      1.148         22        640: 100%|██████████| 1/1 [00:00<00:00,  5.79it/s]\n",
            "                 Class     Images  Instances      Box(P          R      mAP50  mAP50-95)     Mask(P          R      mAP50  mAP50-95): 100%|██████████| 1/1 [00:00<00:00, 12.25it/s]"
          ]
        },
        {
          "output_type": "stream",
          "name": "stdout",
          "text": [
            "                   all          4         17      0.854      0.634      0.913      0.624      0.276      0.367      0.322      0.133\n"
          ]
        },
        {
          "output_type": "stream",
          "name": "stderr",
          "text": [
            "\n"
          ]
        },
        {
          "output_type": "stream",
          "name": "stdout",
          "text": [
            "\n",
            "      Epoch    GPU_mem   box_loss   seg_loss   cls_loss   dfl_loss  Instances       Size\n"
          ]
        },
        {
          "output_type": "stream",
          "name": "stderr",
          "text": [
            "     26/100      1.11G      0.717      6.912      1.697      1.144         25        640: 100%|██████████| 1/1 [00:00<00:00,  4.24it/s]\n",
            "                 Class     Images  Instances      Box(P          R      mAP50  mAP50-95)     Mask(P          R      mAP50  mAP50-95): 100%|██████████| 1/1 [00:00<00:00,  8.37it/s]"
          ]
        },
        {
          "output_type": "stream",
          "name": "stdout",
          "text": [
            "                   all          4         17      0.854      0.634      0.913      0.624      0.276      0.367      0.322      0.133\n"
          ]
        },
        {
          "output_type": "stream",
          "name": "stderr",
          "text": [
            "\n"
          ]
        },
        {
          "output_type": "stream",
          "name": "stdout",
          "text": [
            "\n",
            "      Epoch    GPU_mem   box_loss   seg_loss   cls_loss   dfl_loss  Instances       Size\n"
          ]
        },
        {
          "output_type": "stream",
          "name": "stderr",
          "text": [
            "     27/100      1.11G     0.7687      6.927      1.691      1.135         32        640: 100%|██████████| 1/1 [00:00<00:00,  3.61it/s]\n",
            "                 Class     Images  Instances      Box(P          R      mAP50  mAP50-95)     Mask(P          R      mAP50  mAP50-95): 100%|██████████| 1/1 [00:00<00:00,  7.83it/s]"
          ]
        },
        {
          "output_type": "stream",
          "name": "stdout",
          "text": [
            "                   all          4         17       0.85      0.629      0.862      0.616      0.249      0.117      0.268      0.127\n"
          ]
        },
        {
          "output_type": "stream",
          "name": "stderr",
          "text": [
            "\n"
          ]
        },
        {
          "output_type": "stream",
          "name": "stdout",
          "text": [
            "\n",
            "      Epoch    GPU_mem   box_loss   seg_loss   cls_loss   dfl_loss  Instances       Size\n"
          ]
        },
        {
          "output_type": "stream",
          "name": "stderr",
          "text": [
            "     28/100      1.11G      1.011      6.652      1.816      1.278         40        640: 100%|██████████| 1/1 [00:00<00:00,  4.21it/s]\n",
            "                 Class     Images  Instances      Box(P          R      mAP50  mAP50-95)     Mask(P          R      mAP50  mAP50-95): 100%|██████████| 1/1 [00:00<00:00,  8.07it/s]"
          ]
        },
        {
          "output_type": "stream",
          "name": "stdout",
          "text": [
            "                   all          4         17       0.85      0.629      0.862      0.616      0.249      0.117      0.268      0.127\n"
          ]
        },
        {
          "output_type": "stream",
          "name": "stderr",
          "text": [
            "\n"
          ]
        },
        {
          "output_type": "stream",
          "name": "stdout",
          "text": [
            "\n",
            "      Epoch    GPU_mem   box_loss   seg_loss   cls_loss   dfl_loss  Instances       Size\n"
          ]
        },
        {
          "output_type": "stream",
          "name": "stderr",
          "text": [
            "     29/100      1.11G     0.7373      6.753      1.715      1.132         21        640: 100%|██████████| 1/1 [00:00<00:00,  4.86it/s]\n",
            "                 Class     Images  Instances      Box(P          R      mAP50  mAP50-95)     Mask(P          R      mAP50  mAP50-95): 100%|██████████| 1/1 [00:00<00:00, 12.11it/s]"
          ]
        },
        {
          "output_type": "stream",
          "name": "stdout",
          "text": [
            "                   all          4         17      0.868      0.624      0.861      0.618      0.261      0.117      0.268      0.126\n"
          ]
        },
        {
          "output_type": "stream",
          "name": "stderr",
          "text": [
            "\n"
          ]
        },
        {
          "output_type": "stream",
          "name": "stdout",
          "text": [
            "\n",
            "      Epoch    GPU_mem   box_loss   seg_loss   cls_loss   dfl_loss  Instances       Size\n"
          ]
        },
        {
          "output_type": "stream",
          "name": "stderr",
          "text": [
            "     30/100      1.11G     0.6592      6.909      1.368      1.092         23        640: 100%|██████████| 1/1 [00:00<00:00,  6.23it/s]\n",
            "                 Class     Images  Instances      Box(P          R      mAP50  mAP50-95)     Mask(P          R      mAP50  mAP50-95): 100%|██████████| 1/1 [00:00<00:00, 11.43it/s]"
          ]
        },
        {
          "output_type": "stream",
          "name": "stdout",
          "text": [
            "                   all          4         17      0.868      0.624      0.861      0.618      0.261      0.117      0.268      0.126\n"
          ]
        },
        {
          "output_type": "stream",
          "name": "stderr",
          "text": [
            "\n"
          ]
        },
        {
          "output_type": "stream",
          "name": "stdout",
          "text": [
            "\n",
            "      Epoch    GPU_mem   box_loss   seg_loss   cls_loss   dfl_loss  Instances       Size\n"
          ]
        },
        {
          "output_type": "stream",
          "name": "stderr",
          "text": [
            "     31/100      1.12G     0.9371      7.278      1.656      1.115         48        640: 100%|██████████| 1/1 [00:00<00:00,  5.01it/s]\n",
            "                 Class     Images  Instances      Box(P          R      mAP50  mAP50-95)     Mask(P          R      mAP50  mAP50-95): 100%|██████████| 1/1 [00:00<00:00, 12.18it/s]"
          ]
        },
        {
          "output_type": "stream",
          "name": "stdout",
          "text": [
            "                   all          4         17      0.873       0.62      0.854      0.621      0.254        0.1      0.257      0.125\n"
          ]
        },
        {
          "output_type": "stream",
          "name": "stderr",
          "text": [
            "\n"
          ]
        },
        {
          "output_type": "stream",
          "name": "stdout",
          "text": [
            "\n",
            "      Epoch    GPU_mem   box_loss   seg_loss   cls_loss   dfl_loss  Instances       Size\n"
          ]
        },
        {
          "output_type": "stream",
          "name": "stderr",
          "text": [
            "     32/100      1.13G     0.6042      6.543      1.884      1.065         20        640: 100%|██████████| 1/1 [00:00<00:00,  6.41it/s]\n",
            "                 Class     Images  Instances      Box(P          R      mAP50  mAP50-95)     Mask(P          R      mAP50  mAP50-95): 100%|██████████| 1/1 [00:00<00:00, 12.46it/s]"
          ]
        },
        {
          "output_type": "stream",
          "name": "stdout",
          "text": [
            "                   all          4         17      0.873       0.62      0.854      0.621      0.254        0.1      0.257      0.125\n"
          ]
        },
        {
          "output_type": "stream",
          "name": "stderr",
          "text": [
            "\n"
          ]
        },
        {
          "output_type": "stream",
          "name": "stdout",
          "text": [
            "\n",
            "      Epoch    GPU_mem   box_loss   seg_loss   cls_loss   dfl_loss  Instances       Size\n"
          ]
        },
        {
          "output_type": "stream",
          "name": "stderr",
          "text": [
            "     33/100      1.15G     0.8761      6.838      1.779      1.208         35        640: 100%|██████████| 1/1 [00:00<00:00,  5.42it/s]\n",
            "                 Class     Images  Instances      Box(P          R      mAP50  mAP50-95)     Mask(P          R      mAP50  mAP50-95): 100%|██████████| 1/1 [00:00<00:00, 12.51it/s]"
          ]
        },
        {
          "output_type": "stream",
          "name": "stdout",
          "text": [
            "                   all          4         17      0.851      0.631      0.849      0.605      0.264        0.1      0.256      0.125\n"
          ]
        },
        {
          "output_type": "stream",
          "name": "stderr",
          "text": [
            "\n"
          ]
        },
        {
          "output_type": "stream",
          "name": "stdout",
          "text": [
            "\n",
            "      Epoch    GPU_mem   box_loss   seg_loss   cls_loss   dfl_loss  Instances       Size\n"
          ]
        },
        {
          "output_type": "stream",
          "name": "stderr",
          "text": [
            "     34/100      1.16G     0.8898      6.509      1.631      1.199         33        640: 100%|██████████| 1/1 [00:00<00:00,  6.38it/s]\n",
            "                 Class     Images  Instances      Box(P          R      mAP50  mAP50-95)     Mask(P          R      mAP50  mAP50-95): 100%|██████████| 1/1 [00:00<00:00, 12.47it/s]"
          ]
        },
        {
          "output_type": "stream",
          "name": "stdout",
          "text": [
            "                   all          4         17      0.851      0.631      0.849      0.605      0.264        0.1      0.256      0.125\n"
          ]
        },
        {
          "output_type": "stream",
          "name": "stderr",
          "text": [
            "\n"
          ]
        },
        {
          "output_type": "stream",
          "name": "stdout",
          "text": [
            "\n",
            "      Epoch    GPU_mem   box_loss   seg_loss   cls_loss   dfl_loss  Instances       Size\n"
          ]
        },
        {
          "output_type": "stream",
          "name": "stderr",
          "text": [
            "     35/100      1.17G     0.5207      6.865      1.282     0.9998         25        640: 100%|██████████| 1/1 [00:00<00:00,  5.62it/s]\n",
            "                 Class     Images  Instances      Box(P          R      mAP50  mAP50-95)     Mask(P          R      mAP50  mAP50-95): 100%|██████████| 1/1 [00:00<00:00, 12.19it/s]"
          ]
        },
        {
          "output_type": "stream",
          "name": "stdout",
          "text": [
            "                   all          4         17      0.772       0.65      0.849      0.604      0.256     0.0833      0.252      0.125\n"
          ]
        },
        {
          "output_type": "stream",
          "name": "stderr",
          "text": [
            "\n"
          ]
        },
        {
          "output_type": "stream",
          "name": "stdout",
          "text": [
            "\n",
            "      Epoch    GPU_mem   box_loss   seg_loss   cls_loss   dfl_loss  Instances       Size\n"
          ]
        },
        {
          "output_type": "stream",
          "name": "stderr",
          "text": [
            "     36/100      1.17G     0.7239      6.634      1.236      1.149         22        640: 100%|██████████| 1/1 [00:00<00:00,  6.71it/s]\n",
            "                 Class     Images  Instances      Box(P          R      mAP50  mAP50-95)     Mask(P          R      mAP50  mAP50-95): 100%|██████████| 1/1 [00:00<00:00, 12.33it/s]"
          ]
        },
        {
          "output_type": "stream",
          "name": "stdout",
          "text": [
            "                   all          4         17      0.772       0.65      0.849      0.604      0.256     0.0833      0.252      0.125\n"
          ]
        },
        {
          "output_type": "stream",
          "name": "stderr",
          "text": [
            "\n"
          ]
        },
        {
          "output_type": "stream",
          "name": "stdout",
          "text": [
            "\n",
            "      Epoch    GPU_mem   box_loss   seg_loss   cls_loss   dfl_loss  Instances       Size\n"
          ]
        },
        {
          "output_type": "stream",
          "name": "stderr",
          "text": [
            "     37/100      1.17G     0.9069      6.582      1.928      1.277         31        640: 100%|██████████| 1/1 [00:00<00:00,  5.01it/s]\n",
            "                 Class     Images  Instances      Box(P          R      mAP50  mAP50-95)     Mask(P          R      mAP50  mAP50-95): 100%|██████████| 1/1 [00:00<00:00, 11.39it/s]"
          ]
        },
        {
          "output_type": "stream",
          "name": "stdout",
          "text": [
            "                   all          4         17      0.612        0.7      0.849      0.605      0.261     0.0833      0.252      0.125\n"
          ]
        },
        {
          "output_type": "stream",
          "name": "stderr",
          "text": [
            "\n"
          ]
        },
        {
          "output_type": "stream",
          "name": "stdout",
          "text": [
            "\n",
            "      Epoch    GPU_mem   box_loss   seg_loss   cls_loss   dfl_loss  Instances       Size\n"
          ]
        },
        {
          "output_type": "stream",
          "name": "stderr",
          "text": [
            "     38/100      1.17G     0.6831      6.253      1.093      1.152         19        640: 100%|██████████| 1/1 [00:00<00:00,  6.57it/s]\n",
            "                 Class     Images  Instances      Box(P          R      mAP50  mAP50-95)     Mask(P          R      mAP50  mAP50-95): 100%|██████████| 1/1 [00:00<00:00, 12.35it/s]"
          ]
        },
        {
          "output_type": "stream",
          "name": "stdout",
          "text": [
            "                   all          4         17      0.612        0.7      0.849      0.605      0.261     0.0833      0.252      0.125\n"
          ]
        },
        {
          "output_type": "stream",
          "name": "stderr",
          "text": [
            "\n"
          ]
        },
        {
          "output_type": "stream",
          "name": "stdout",
          "text": [
            "\n",
            "      Epoch    GPU_mem   box_loss   seg_loss   cls_loss   dfl_loss  Instances       Size\n"
          ]
        },
        {
          "output_type": "stream",
          "name": "stderr",
          "text": [
            "     39/100      1.17G     0.5869      6.619      1.008       1.04         30        640: 100%|██████████| 1/1 [00:00<00:00,  5.02it/s]\n",
            "                 Class     Images  Instances      Box(P          R      mAP50  mAP50-95)     Mask(P          R      mAP50  mAP50-95): 100%|██████████| 1/1 [00:00<00:00, 11.86it/s]"
          ]
        },
        {
          "output_type": "stream",
          "name": "stdout",
          "text": [
            "                   all          4         17      0.719      0.533      0.765      0.547      0.267     0.0833      0.252      0.125\n"
          ]
        },
        {
          "output_type": "stream",
          "name": "stderr",
          "text": [
            "\n"
          ]
        },
        {
          "output_type": "stream",
          "name": "stdout",
          "text": [
            "\n",
            "      Epoch    GPU_mem   box_loss   seg_loss   cls_loss   dfl_loss  Instances       Size\n"
          ]
        },
        {
          "output_type": "stream",
          "name": "stderr",
          "text": [
            "     40/100      1.17G     0.7894      6.445      1.381      1.166         27        640: 100%|██████████| 1/1 [00:00<00:00,  6.96it/s]\n",
            "                 Class     Images  Instances      Box(P          R      mAP50  mAP50-95)     Mask(P          R      mAP50  mAP50-95): 100%|██████████| 1/1 [00:00<00:00, 12.65it/s]"
          ]
        },
        {
          "output_type": "stream",
          "name": "stdout",
          "text": [
            "                   all          4         17      0.719      0.533      0.765      0.547      0.267     0.0833      0.252      0.125\n"
          ]
        },
        {
          "output_type": "stream",
          "name": "stderr",
          "text": [
            "\n"
          ]
        },
        {
          "output_type": "stream",
          "name": "stdout",
          "text": [
            "\n",
            "      Epoch    GPU_mem   box_loss   seg_loss   cls_loss   dfl_loss  Instances       Size\n"
          ]
        },
        {
          "output_type": "stream",
          "name": "stderr",
          "text": [
            "     41/100      1.17G     0.7238      6.227      1.435      1.115         35        640: 100%|██████████| 1/1 [00:00<00:00,  5.52it/s]\n",
            "                 Class     Images  Instances      Box(P          R      mAP50  mAP50-95)     Mask(P          R      mAP50  mAP50-95): 100%|██████████| 1/1 [00:00<00:00, 12.62it/s]"
          ]
        },
        {
          "output_type": "stream",
          "name": "stdout",
          "text": [
            "                   all          4         17      0.848      0.483      0.703      0.497      0.437     0.0833      0.252      0.125\n"
          ]
        },
        {
          "output_type": "stream",
          "name": "stderr",
          "text": [
            "\n"
          ]
        },
        {
          "output_type": "stream",
          "name": "stdout",
          "text": [
            "\n",
            "      Epoch    GPU_mem   box_loss   seg_loss   cls_loss   dfl_loss  Instances       Size\n"
          ]
        },
        {
          "output_type": "stream",
          "name": "stderr",
          "text": [
            "     42/100      1.17G     0.7467      6.222       1.35      1.055         15        640: 100%|██████████| 1/1 [00:00<00:00,  6.15it/s]\n",
            "                 Class     Images  Instances      Box(P          R      mAP50  mAP50-95)     Mask(P          R      mAP50  mAP50-95): 100%|██████████| 1/1 [00:00<00:00, 12.48it/s]"
          ]
        },
        {
          "output_type": "stream",
          "name": "stdout",
          "text": [
            "                   all          4         17      0.848      0.483      0.703      0.497      0.437     0.0833      0.252      0.125\n"
          ]
        },
        {
          "output_type": "stream",
          "name": "stderr",
          "text": [
            "\n"
          ]
        },
        {
          "output_type": "stream",
          "name": "stdout",
          "text": [
            "\n",
            "      Epoch    GPU_mem   box_loss   seg_loss   cls_loss   dfl_loss  Instances       Size\n"
          ]
        },
        {
          "output_type": "stream",
          "name": "stderr",
          "text": [
            "     43/100      1.17G     0.8946      5.925      2.011      1.224         45        640: 100%|██████████| 1/1 [00:00<00:00,  5.69it/s]\n",
            "                 Class     Images  Instances      Box(P          R      mAP50  mAP50-95)     Mask(P          R      mAP50  mAP50-95): 100%|██████████| 1/1 [00:00<00:00, 12.56it/s]"
          ]
        },
        {
          "output_type": "stream",
          "name": "stdout",
          "text": [
            "                   all          4         17      0.848      0.474      0.698      0.496      0.438     0.0833      0.253      0.125\n"
          ]
        },
        {
          "output_type": "stream",
          "name": "stderr",
          "text": [
            "\n"
          ]
        },
        {
          "output_type": "stream",
          "name": "stdout",
          "text": [
            "\n",
            "      Epoch    GPU_mem   box_loss   seg_loss   cls_loss   dfl_loss  Instances       Size\n"
          ]
        },
        {
          "output_type": "stream",
          "name": "stderr",
          "text": [
            "     44/100      1.17G     0.6456      6.222       1.19      1.075         21        640: 100%|██████████| 1/1 [00:00<00:00,  7.13it/s]\n",
            "                 Class     Images  Instances      Box(P          R      mAP50  mAP50-95)     Mask(P          R      mAP50  mAP50-95): 100%|██████████| 1/1 [00:00<00:00,  7.92it/s]"
          ]
        },
        {
          "output_type": "stream",
          "name": "stdout",
          "text": [
            "                   all          4         17      0.848      0.474      0.698      0.496      0.438     0.0833      0.253      0.125\n"
          ]
        },
        {
          "output_type": "stream",
          "name": "stderr",
          "text": [
            "\n"
          ]
        },
        {
          "output_type": "stream",
          "name": "stdout",
          "text": [
            "\n",
            "      Epoch    GPU_mem   box_loss   seg_loss   cls_loss   dfl_loss  Instances       Size\n"
          ]
        },
        {
          "output_type": "stream",
          "name": "stderr",
          "text": [
            "     45/100      1.17G      0.821      6.248      1.095      1.101         29        640: 100%|██████████| 1/1 [00:00<00:00,  3.72it/s]\n",
            "                 Class     Images  Instances      Box(P          R      mAP50  mAP50-95)     Mask(P          R      mAP50  mAP50-95): 100%|██████████| 1/1 [00:00<00:00,  7.63it/s]"
          ]
        },
        {
          "output_type": "stream",
          "name": "stdout",
          "text": [
            "                   all          4         17      0.789      0.488      0.695      0.484      0.445     0.0833      0.253      0.125\n"
          ]
        },
        {
          "output_type": "stream",
          "name": "stderr",
          "text": [
            "\n"
          ]
        },
        {
          "output_type": "stream",
          "name": "stdout",
          "text": [
            "\n",
            "      Epoch    GPU_mem   box_loss   seg_loss   cls_loss   dfl_loss  Instances       Size\n"
          ]
        },
        {
          "output_type": "stream",
          "name": "stderr",
          "text": [
            "     46/100      1.17G     0.5639       6.38      1.026     0.9673         16        640: 100%|██████████| 1/1 [00:00<00:00,  3.63it/s]\n",
            "                 Class     Images  Instances      Box(P          R      mAP50  mAP50-95)     Mask(P          R      mAP50  mAP50-95): 100%|██████████| 1/1 [00:00<00:00,  7.98it/s]"
          ]
        },
        {
          "output_type": "stream",
          "name": "stdout",
          "text": [
            "                   all          4         17      0.789      0.488      0.695      0.484      0.445     0.0833      0.253      0.125\n"
          ]
        },
        {
          "output_type": "stream",
          "name": "stderr",
          "text": [
            "\n"
          ]
        },
        {
          "output_type": "stream",
          "name": "stdout",
          "text": [
            "\n",
            "      Epoch    GPU_mem   box_loss   seg_loss   cls_loss   dfl_loss  Instances       Size\n"
          ]
        },
        {
          "output_type": "stream",
          "name": "stderr",
          "text": [
            "     47/100      1.17G     0.6673      6.093      1.382       1.07         18        640: 100%|██████████| 1/1 [00:00<00:00,  3.76it/s]\n",
            "                 Class     Images  Instances      Box(P          R      mAP50  mAP50-95)     Mask(P          R      mAP50  mAP50-95): 100%|██████████| 1/1 [00:00<00:00,  7.65it/s]"
          ]
        },
        {
          "output_type": "stream",
          "name": "stdout",
          "text": [
            "                   all          4         17      0.741      0.516      0.688      0.473    0.00934        0.2      0.167      0.116\n"
          ]
        },
        {
          "output_type": "stream",
          "name": "stderr",
          "text": [
            "\n"
          ]
        },
        {
          "output_type": "stream",
          "name": "stdout",
          "text": [
            "\n",
            "      Epoch    GPU_mem   box_loss   seg_loss   cls_loss   dfl_loss  Instances       Size\n"
          ]
        },
        {
          "output_type": "stream",
          "name": "stderr",
          "text": [
            "     48/100      1.17G     0.6385      6.089      1.018      1.027         20        640: 100%|██████████| 1/1 [00:00<00:00,  6.82it/s]\n",
            "                 Class     Images  Instances      Box(P          R      mAP50  mAP50-95)     Mask(P          R      mAP50  mAP50-95): 100%|██████████| 1/1 [00:00<00:00, 11.75it/s]"
          ]
        },
        {
          "output_type": "stream",
          "name": "stdout",
          "text": [
            "                   all          4         17      0.741      0.516      0.688      0.473    0.00934        0.2      0.167      0.116\n"
          ]
        },
        {
          "output_type": "stream",
          "name": "stderr",
          "text": [
            "\n"
          ]
        },
        {
          "output_type": "stream",
          "name": "stdout",
          "text": [
            "\n",
            "      Epoch    GPU_mem   box_loss   seg_loss   cls_loss   dfl_loss  Instances       Size\n"
          ]
        },
        {
          "output_type": "stream",
          "name": "stderr",
          "text": [
            "     49/100      1.17G     0.8127        6.2      1.159      1.159         19        640: 100%|██████████| 1/1 [00:00<00:00,  5.37it/s]\n",
            "                 Class     Images  Instances      Box(P          R      mAP50  mAP50-95)     Mask(P          R      mAP50  mAP50-95): 100%|██████████| 1/1 [00:00<00:00, 12.28it/s]"
          ]
        },
        {
          "output_type": "stream",
          "name": "stdout",
          "text": [
            "                   all          4         17      0.746      0.506      0.686      0.448       0.45     0.0833      0.254      0.125\n"
          ]
        },
        {
          "output_type": "stream",
          "name": "stderr",
          "text": [
            "\n"
          ]
        },
        {
          "output_type": "stream",
          "name": "stdout",
          "text": [
            "\n",
            "      Epoch    GPU_mem   box_loss   seg_loss   cls_loss   dfl_loss  Instances       Size\n"
          ]
        },
        {
          "output_type": "stream",
          "name": "stderr",
          "text": [
            "     50/100      1.17G     0.8991      6.036      1.724      1.193         50        640: 100%|██████████| 1/1 [00:00<00:00,  6.53it/s]\n",
            "                 Class     Images  Instances      Box(P          R      mAP50  mAP50-95)     Mask(P          R      mAP50  mAP50-95): 100%|██████████| 1/1 [00:00<00:00, 10.17it/s]"
          ]
        },
        {
          "output_type": "stream",
          "name": "stdout",
          "text": [
            "                   all          4         17      0.746      0.506      0.686      0.448       0.45     0.0833      0.254      0.125\n"
          ]
        },
        {
          "output_type": "stream",
          "name": "stderr",
          "text": [
            "\n"
          ]
        },
        {
          "output_type": "stream",
          "name": "stdout",
          "text": [
            "\n",
            "      Epoch    GPU_mem   box_loss   seg_loss   cls_loss   dfl_loss  Instances       Size\n"
          ]
        },
        {
          "output_type": "stream",
          "name": "stderr",
          "text": [
            "     51/100      1.17G     0.5365      5.711      1.351      1.089         17        640: 100%|██████████| 1/1 [00:00<00:00,  5.49it/s]\n",
            "                 Class     Images  Instances      Box(P          R      mAP50  mAP50-95)     Mask(P          R      mAP50  mAP50-95): 100%|██████████| 1/1 [00:00<00:00, 12.37it/s]"
          ]
        },
        {
          "output_type": "stream",
          "name": "stdout",
          "text": [
            "                   all          4         17      0.759      0.517      0.685      0.457      0.453     0.0833      0.255      0.125\n"
          ]
        },
        {
          "output_type": "stream",
          "name": "stderr",
          "text": [
            "\n"
          ]
        },
        {
          "output_type": "stream",
          "name": "stdout",
          "text": [
            "\n",
            "      Epoch    GPU_mem   box_loss   seg_loss   cls_loss   dfl_loss  Instances       Size\n"
          ]
        },
        {
          "output_type": "stream",
          "name": "stderr",
          "text": [
            "     52/100      1.17G     0.4696      5.691      0.663      1.019         24        640: 100%|██████████| 1/1 [00:00<00:00,  6.28it/s]\n",
            "                 Class     Images  Instances      Box(P          R      mAP50  mAP50-95)     Mask(P          R      mAP50  mAP50-95): 100%|██████████| 1/1 [00:00<00:00, 11.90it/s]"
          ]
        },
        {
          "output_type": "stream",
          "name": "stdout",
          "text": [
            "                   all          4         17      0.759      0.517      0.685      0.457      0.453     0.0833      0.255      0.125\n"
          ]
        },
        {
          "output_type": "stream",
          "name": "stderr",
          "text": [
            "\n"
          ]
        },
        {
          "output_type": "stream",
          "name": "stdout",
          "text": [
            "\n",
            "      Epoch    GPU_mem   box_loss   seg_loss   cls_loss   dfl_loss  Instances       Size\n"
          ]
        },
        {
          "output_type": "stream",
          "name": "stderr",
          "text": [
            "     53/100      1.17G     0.6852      5.826      1.069      1.133         28        640: 100%|██████████| 1/1 [00:00<00:00,  6.76it/s]\n",
            "                 Class     Images  Instances      Box(P          R      mAP50  mAP50-95)     Mask(P          R      mAP50  mAP50-95): 100%|██████████| 1/1 [00:00<00:00, 11.72it/s]"
          ]
        },
        {
          "output_type": "stream",
          "name": "stdout",
          "text": [
            "                   all          4         17      0.759      0.517      0.685      0.457      0.453     0.0833      0.255      0.125\n"
          ]
        },
        {
          "output_type": "stream",
          "name": "stderr",
          "text": [
            "\n"
          ]
        },
        {
          "output_type": "stream",
          "name": "stdout",
          "text": [
            "\n",
            "      Epoch    GPU_mem   box_loss   seg_loss   cls_loss   dfl_loss  Instances       Size\n"
          ]
        },
        {
          "output_type": "stream",
          "name": "stderr",
          "text": [
            "     54/100      1.17G     0.7556      6.106      1.332      1.107         43        640: 100%|██████████| 1/1 [00:00<00:00,  5.58it/s]\n",
            "                 Class     Images  Instances      Box(P          R      mAP50  mAP50-95)     Mask(P          R      mAP50  mAP50-95): 100%|██████████| 1/1 [00:00<00:00, 12.87it/s]"
          ]
        },
        {
          "output_type": "stream",
          "name": "stdout",
          "text": [
            "                   all          4         17      0.769      0.497      0.607       0.37       0.45     0.0833      0.173     0.0677\n"
          ]
        },
        {
          "output_type": "stream",
          "name": "stderr",
          "text": [
            "\n"
          ]
        },
        {
          "output_type": "stream",
          "name": "stdout",
          "text": [
            "\n",
            "      Epoch    GPU_mem   box_loss   seg_loss   cls_loss   dfl_loss  Instances       Size\n"
          ]
        },
        {
          "output_type": "stream",
          "name": "stderr",
          "text": [
            "     55/100      1.17G      0.875      6.151      1.118       1.25         25        640: 100%|██████████| 1/1 [00:00<00:00,  6.92it/s]\n",
            "                 Class     Images  Instances      Box(P          R      mAP50  mAP50-95)     Mask(P          R      mAP50  mAP50-95): 100%|██████████| 1/1 [00:00<00:00, 12.29it/s]"
          ]
        },
        {
          "output_type": "stream",
          "name": "stdout",
          "text": [
            "                   all          4         17      0.769      0.497      0.607       0.37       0.45     0.0833      0.173     0.0677\n"
          ]
        },
        {
          "output_type": "stream",
          "name": "stderr",
          "text": [
            "\n"
          ]
        },
        {
          "output_type": "stream",
          "name": "stdout",
          "text": [
            "\n",
            "      Epoch    GPU_mem   box_loss   seg_loss   cls_loss   dfl_loss  Instances       Size\n"
          ]
        },
        {
          "output_type": "stream",
          "name": "stderr",
          "text": [
            "     56/100      1.17G     0.6948      5.719      1.107      1.082         41        640: 100%|██████████| 1/1 [00:00<00:00,  6.44it/s]\n",
            "                 Class     Images  Instances      Box(P          R      mAP50  mAP50-95)     Mask(P          R      mAP50  mAP50-95): 100%|██████████| 1/1 [00:00<00:00, 12.33it/s]"
          ]
        },
        {
          "output_type": "stream",
          "name": "stdout",
          "text": [
            "                   all          4         17      0.769      0.497      0.607       0.37       0.45     0.0833      0.173     0.0677\n"
          ]
        },
        {
          "output_type": "stream",
          "name": "stderr",
          "text": [
            "\n"
          ]
        },
        {
          "output_type": "stream",
          "name": "stdout",
          "text": [
            "\n",
            "      Epoch    GPU_mem   box_loss   seg_loss   cls_loss   dfl_loss  Instances       Size\n"
          ]
        },
        {
          "output_type": "stream",
          "name": "stderr",
          "text": [
            "     57/100      1.17G     0.8914      5.681     0.9385      1.297         16        640: 100%|██████████| 1/1 [00:00<00:00,  5.58it/s]\n",
            "                 Class     Images  Instances      Box(P          R      mAP50  mAP50-95)     Mask(P          R      mAP50  mAP50-95): 100%|██████████| 1/1 [00:00<00:00, 12.33it/s]"
          ]
        },
        {
          "output_type": "stream",
          "name": "stdout",
          "text": [
            "                   all          4         17      0.764      0.496      0.612      0.359      0.452     0.0833      0.175     0.0679\n"
          ]
        },
        {
          "output_type": "stream",
          "name": "stderr",
          "text": [
            "\n"
          ]
        },
        {
          "output_type": "stream",
          "name": "stdout",
          "text": [
            "\n",
            "      Epoch    GPU_mem   box_loss   seg_loss   cls_loss   dfl_loss  Instances       Size\n"
          ]
        },
        {
          "output_type": "stream",
          "name": "stderr",
          "text": [
            "     58/100      1.17G     0.5364      5.761      1.256        1.1         19        640: 100%|██████████| 1/1 [00:00<00:00,  6.33it/s]\n",
            "                 Class     Images  Instances      Box(P          R      mAP50  mAP50-95)     Mask(P          R      mAP50  mAP50-95): 100%|██████████| 1/1 [00:00<00:00, 12.14it/s]"
          ]
        },
        {
          "output_type": "stream",
          "name": "stdout",
          "text": [
            "                   all          4         17      0.764      0.496      0.612      0.359      0.452     0.0833      0.175     0.0679\n"
          ]
        },
        {
          "output_type": "stream",
          "name": "stderr",
          "text": [
            "\n"
          ]
        },
        {
          "output_type": "stream",
          "name": "stdout",
          "text": [
            "\n",
            "      Epoch    GPU_mem   box_loss   seg_loss   cls_loss   dfl_loss  Instances       Size\n"
          ]
        },
        {
          "output_type": "stream",
          "name": "stderr",
          "text": [
            "     59/100      1.17G     0.5775      5.737      1.435      1.078         20        640: 100%|██████████| 1/1 [00:00<00:00,  6.88it/s]\n",
            "                 Class     Images  Instances      Box(P          R      mAP50  mAP50-95)     Mask(P          R      mAP50  mAP50-95): 100%|██████████| 1/1 [00:00<00:00, 12.00it/s]"
          ]
        },
        {
          "output_type": "stream",
          "name": "stdout",
          "text": [
            "                   all          4         17      0.764      0.496      0.612      0.359      0.452     0.0833      0.175     0.0679\n"
          ]
        },
        {
          "output_type": "stream",
          "name": "stderr",
          "text": [
            "\n"
          ]
        },
        {
          "output_type": "stream",
          "name": "stdout",
          "text": [
            "\n",
            "      Epoch    GPU_mem   box_loss   seg_loss   cls_loss   dfl_loss  Instances       Size\n"
          ]
        },
        {
          "output_type": "stream",
          "name": "stderr",
          "text": [
            "     60/100      1.17G     0.7698       5.85      1.739      1.148         51        640: 100%|██████████| 1/1 [00:00<00:00,  5.68it/s]\n",
            "                 Class     Images  Instances      Box(P          R      mAP50  mAP50-95)     Mask(P          R      mAP50  mAP50-95): 100%|██████████| 1/1 [00:00<00:00, 12.74it/s]"
          ]
        },
        {
          "output_type": "stream",
          "name": "stdout",
          "text": [
            "                   all          4         17      0.767      0.489      0.587      0.329    0.00842        0.2     0.0576     0.0394\n"
          ]
        },
        {
          "output_type": "stream",
          "name": "stderr",
          "text": [
            "\n"
          ]
        },
        {
          "output_type": "stream",
          "name": "stdout",
          "text": [
            "\n",
            "      Epoch    GPU_mem   box_loss   seg_loss   cls_loss   dfl_loss  Instances       Size\n"
          ]
        },
        {
          "output_type": "stream",
          "name": "stderr",
          "text": [
            "     61/100      1.17G     0.5663      5.668      1.178      1.092         25        640: 100%|██████████| 1/1 [00:00<00:00,  6.49it/s]\n",
            "                 Class     Images  Instances      Box(P          R      mAP50  mAP50-95)     Mask(P          R      mAP50  mAP50-95): 100%|██████████| 1/1 [00:00<00:00, 12.46it/s]"
          ]
        },
        {
          "output_type": "stream",
          "name": "stdout",
          "text": [
            "                   all          4         17      0.767      0.489      0.587      0.329    0.00842        0.2     0.0576     0.0394\n"
          ]
        },
        {
          "output_type": "stream",
          "name": "stderr",
          "text": [
            "\n"
          ]
        },
        {
          "output_type": "stream",
          "name": "stdout",
          "text": [
            "\n",
            "      Epoch    GPU_mem   box_loss   seg_loss   cls_loss   dfl_loss  Instances       Size\n"
          ]
        },
        {
          "output_type": "stream",
          "name": "stderr",
          "text": [
            "     62/100      1.17G     0.6532      5.788     0.9273      1.043         29        640: 100%|██████████| 1/1 [00:00<00:00,  6.63it/s]\n",
            "                 Class     Images  Instances      Box(P          R      mAP50  mAP50-95)     Mask(P          R      mAP50  mAP50-95): 100%|██████████| 1/1 [00:00<00:00, 12.16it/s]"
          ]
        },
        {
          "output_type": "stream",
          "name": "stdout",
          "text": [
            "                   all          4         17      0.767      0.489      0.587      0.329    0.00842        0.2     0.0576     0.0394\n"
          ]
        },
        {
          "output_type": "stream",
          "name": "stderr",
          "text": [
            "\n"
          ]
        },
        {
          "output_type": "stream",
          "name": "stdout",
          "text": [
            "\n",
            "      Epoch    GPU_mem   box_loss   seg_loss   cls_loss   dfl_loss  Instances       Size\n"
          ]
        },
        {
          "output_type": "stream",
          "name": "stderr",
          "text": [
            "     63/100      1.17G     0.6347      5.684     0.8324      1.004         30        640: 100%|██████████| 1/1 [00:00<00:00,  4.62it/s]\n",
            "                 Class     Images  Instances      Box(P          R      mAP50  mAP50-95)     Mask(P          R      mAP50  mAP50-95): 100%|██████████| 1/1 [00:00<00:00,  8.69it/s]"
          ]
        },
        {
          "output_type": "stream",
          "name": "stdout",
          "text": [
            "                   all          4         17      0.778      0.492      0.568        0.3    0.00849        0.2     0.0438     0.0337\n"
          ]
        },
        {
          "output_type": "stream",
          "name": "stderr",
          "text": [
            "\n"
          ]
        },
        {
          "output_type": "stream",
          "name": "stdout",
          "text": [
            "\n",
            "      Epoch    GPU_mem   box_loss   seg_loss   cls_loss   dfl_loss  Instances       Size\n"
          ]
        },
        {
          "output_type": "stream",
          "name": "stderr",
          "text": [
            "     64/100      1.17G      1.121      6.016      1.997       1.35         13        640: 100%|██████████| 1/1 [00:00<00:00,  5.05it/s]\n",
            "                 Class     Images  Instances      Box(P          R      mAP50  mAP50-95)     Mask(P          R      mAP50  mAP50-95): 100%|██████████| 1/1 [00:00<00:00,  9.17it/s]"
          ]
        },
        {
          "output_type": "stream",
          "name": "stdout",
          "text": [
            "                   all          4         17      0.778      0.492      0.568        0.3    0.00849        0.2     0.0438     0.0337\n"
          ]
        },
        {
          "output_type": "stream",
          "name": "stderr",
          "text": [
            "\n"
          ]
        },
        {
          "output_type": "stream",
          "name": "stdout",
          "text": [
            "\n",
            "      Epoch    GPU_mem   box_loss   seg_loss   cls_loss   dfl_loss  Instances       Size\n"
          ]
        },
        {
          "output_type": "stream",
          "name": "stderr",
          "text": [
            "     65/100      1.17G     0.6889      5.666      1.491      1.113         27        640: 100%|██████████| 1/1 [00:00<00:00,  4.84it/s]\n",
            "                 Class     Images  Instances      Box(P          R      mAP50  mAP50-95)     Mask(P          R      mAP50  mAP50-95): 100%|██████████| 1/1 [00:00<00:00,  7.69it/s]"
          ]
        },
        {
          "output_type": "stream",
          "name": "stdout",
          "text": [
            "                   all          4         17      0.778      0.492      0.568        0.3    0.00849        0.2     0.0438     0.0337\n"
          ]
        },
        {
          "output_type": "stream",
          "name": "stderr",
          "text": [
            "\n"
          ]
        },
        {
          "output_type": "stream",
          "name": "stdout",
          "text": [
            "\n",
            "      Epoch    GPU_mem   box_loss   seg_loss   cls_loss   dfl_loss  Instances       Size\n"
          ]
        },
        {
          "output_type": "stream",
          "name": "stderr",
          "text": [
            "     66/100      1.19G     0.5279      5.664     0.7025     0.9877         25        640: 100%|██████████| 1/1 [00:00<00:00,  3.82it/s]\n",
            "                 Class     Images  Instances      Box(P          R      mAP50  mAP50-95)     Mask(P          R      mAP50  mAP50-95): 100%|██████████| 1/1 [00:00<00:00,  8.48it/s]"
          ]
        },
        {
          "output_type": "stream",
          "name": "stdout",
          "text": [
            "                   all          4         17       0.78       0.49      0.565      0.301    0.00859        0.2     0.0438     0.0296\n"
          ]
        },
        {
          "output_type": "stream",
          "name": "stderr",
          "text": [
            "\n"
          ]
        },
        {
          "output_type": "stream",
          "name": "stdout",
          "text": [
            "\n",
            "      Epoch    GPU_mem   box_loss   seg_loss   cls_loss   dfl_loss  Instances       Size\n"
          ]
        },
        {
          "output_type": "stream",
          "name": "stderr",
          "text": [
            "     67/100      1.19G     0.7356      5.793     0.9336      1.022         22        640: 100%|██████████| 1/1 [00:00<00:00,  6.54it/s]\n",
            "                 Class     Images  Instances      Box(P          R      mAP50  mAP50-95)     Mask(P          R      mAP50  mAP50-95): 100%|██████████| 1/1 [00:00<00:00, 12.70it/s]"
          ]
        },
        {
          "output_type": "stream",
          "name": "stdout",
          "text": [
            "                   all          4         17       0.78       0.49      0.565      0.301    0.00859        0.2     0.0438     0.0296\n"
          ]
        },
        {
          "output_type": "stream",
          "name": "stderr",
          "text": [
            "\n"
          ]
        },
        {
          "output_type": "stream",
          "name": "stdout",
          "text": [
            "\n",
            "      Epoch    GPU_mem   box_loss   seg_loss   cls_loss   dfl_loss  Instances       Size\n"
          ]
        },
        {
          "output_type": "stream",
          "name": "stderr",
          "text": [
            "     68/100      1.22G      0.624      5.698     0.8016      1.059         26        640: 100%|██████████| 1/1 [00:00<00:00,  6.13it/s]\n",
            "                 Class     Images  Instances      Box(P          R      mAP50  mAP50-95)     Mask(P          R      mAP50  mAP50-95): 100%|██████████| 1/1 [00:00<00:00, 12.66it/s]"
          ]
        },
        {
          "output_type": "stream",
          "name": "stdout",
          "text": [
            "                   all          4         17       0.78       0.49      0.565      0.301    0.00859        0.2     0.0438     0.0296\n"
          ]
        },
        {
          "output_type": "stream",
          "name": "stderr",
          "text": [
            "\n"
          ]
        },
        {
          "output_type": "stream",
          "name": "stdout",
          "text": [
            "\n",
            "      Epoch    GPU_mem   box_loss   seg_loss   cls_loss   dfl_loss  Instances       Size\n"
          ]
        },
        {
          "output_type": "stream",
          "name": "stderr",
          "text": [
            "     69/100      1.22G     0.6359       5.85      1.192      1.036         16        640: 100%|██████████| 1/1 [00:00<00:00,  5.31it/s]\n",
            "                 Class     Images  Instances      Box(P          R      mAP50  mAP50-95)     Mask(P          R      mAP50  mAP50-95): 100%|██████████| 1/1 [00:00<00:00, 12.82it/s]"
          ]
        },
        {
          "output_type": "stream",
          "name": "stdout",
          "text": [
            "                   all          4         17      0.786      0.483      0.571      0.298    0.00812        0.2     0.0436     0.0254\n"
          ]
        },
        {
          "output_type": "stream",
          "name": "stderr",
          "text": [
            "\n"
          ]
        },
        {
          "output_type": "stream",
          "name": "stdout",
          "text": [
            "\n",
            "      Epoch    GPU_mem   box_loss   seg_loss   cls_loss   dfl_loss  Instances       Size\n"
          ]
        },
        {
          "output_type": "stream",
          "name": "stderr",
          "text": [
            "     70/100      1.22G      0.635      6.077     0.8955      1.009         34        640: 100%|██████████| 1/1 [00:00<00:00,  6.70it/s]\n",
            "                 Class     Images  Instances      Box(P          R      mAP50  mAP50-95)     Mask(P          R      mAP50  mAP50-95): 100%|██████████| 1/1 [00:00<00:00, 12.56it/s]"
          ]
        },
        {
          "output_type": "stream",
          "name": "stdout",
          "text": [
            "                   all          4         17      0.786      0.483      0.571      0.298    0.00812        0.2     0.0436     0.0254\n"
          ]
        },
        {
          "output_type": "stream",
          "name": "stderr",
          "text": [
            "\n"
          ]
        },
        {
          "output_type": "stream",
          "name": "stdout",
          "text": [
            "\n",
            "      Epoch    GPU_mem   box_loss   seg_loss   cls_loss   dfl_loss  Instances       Size\n"
          ]
        },
        {
          "output_type": "stream",
          "name": "stderr",
          "text": [
            "     71/100      1.22G     0.7401      5.603      1.427      1.132         45        640: 100%|██████████| 1/1 [00:00<00:00,  6.40it/s]\n",
            "                 Class     Images  Instances      Box(P          R      mAP50  mAP50-95)     Mask(P          R      mAP50  mAP50-95): 100%|██████████| 1/1 [00:00<00:00, 12.60it/s]"
          ]
        },
        {
          "output_type": "stream",
          "name": "stdout",
          "text": [
            "                   all          4         17      0.786      0.483      0.571      0.298    0.00812        0.2     0.0436     0.0254\n"
          ]
        },
        {
          "output_type": "stream",
          "name": "stderr",
          "text": [
            "\n"
          ]
        },
        {
          "output_type": "stream",
          "name": "stdout",
          "text": [
            "\n",
            "      Epoch    GPU_mem   box_loss   seg_loss   cls_loss   dfl_loss  Instances       Size\n"
          ]
        },
        {
          "output_type": "stream",
          "name": "stderr",
          "text": [
            "     72/100      1.22G     0.9077      5.752      1.939      1.256         25        640: 100%|██████████| 1/1 [00:00<00:00,  5.14it/s]\n",
            "                 Class     Images  Instances      Box(P          R      mAP50  mAP50-95)     Mask(P          R      mAP50  mAP50-95): 100%|██████████| 1/1 [00:00<00:00, 12.45it/s]"
          ]
        },
        {
          "output_type": "stream",
          "name": "stdout",
          "text": [
            "                   all          4         17      0.802      0.483      0.564       0.29    0.00746        0.2     0.0353     0.0237\n"
          ]
        },
        {
          "output_type": "stream",
          "name": "stderr",
          "text": [
            "\n"
          ]
        },
        {
          "output_type": "stream",
          "name": "stdout",
          "text": [
            "\n",
            "      Epoch    GPU_mem   box_loss   seg_loss   cls_loss   dfl_loss  Instances       Size\n"
          ]
        },
        {
          "output_type": "stream",
          "name": "stderr",
          "text": [
            "     73/100      1.22G     0.5976      5.553      1.162      1.042         35        640: 100%|██████████| 1/1 [00:00<00:00,  6.76it/s]\n",
            "                 Class     Images  Instances      Box(P          R      mAP50  mAP50-95)     Mask(P          R      mAP50  mAP50-95): 100%|██████████| 1/1 [00:00<00:00, 12.31it/s]"
          ]
        },
        {
          "output_type": "stream",
          "name": "stdout",
          "text": [
            "                   all          4         17      0.802      0.483      0.564       0.29    0.00746        0.2     0.0353     0.0237\n"
          ]
        },
        {
          "output_type": "stream",
          "name": "stderr",
          "text": [
            "\n"
          ]
        },
        {
          "output_type": "stream",
          "name": "stdout",
          "text": [
            "\n",
            "      Epoch    GPU_mem   box_loss   seg_loss   cls_loss   dfl_loss  Instances       Size\n"
          ]
        },
        {
          "output_type": "stream",
          "name": "stderr",
          "text": [
            "     74/100      1.22G     0.7462      5.629      1.182      1.114         26        640: 100%|██████████| 1/1 [00:00<00:00,  6.34it/s]\n",
            "                 Class     Images  Instances      Box(P          R      mAP50  mAP50-95)     Mask(P          R      mAP50  mAP50-95): 100%|██████████| 1/1 [00:00<00:00, 12.23it/s]"
          ]
        },
        {
          "output_type": "stream",
          "name": "stdout",
          "text": [
            "                   all          4         17      0.802      0.483      0.564       0.29    0.00746        0.2     0.0353     0.0237\n"
          ]
        },
        {
          "output_type": "stream",
          "name": "stderr",
          "text": [
            "\n"
          ]
        },
        {
          "output_type": "stream",
          "name": "stdout",
          "text": [
            "\n",
            "      Epoch    GPU_mem   box_loss   seg_loss   cls_loss   dfl_loss  Instances       Size\n"
          ]
        },
        {
          "output_type": "stream",
          "name": "stderr",
          "text": [
            "     75/100      1.22G     0.8058      5.664     0.9946      1.144         38        640: 100%|██████████| 1/1 [00:00<00:00,  5.48it/s]\n",
            "                 Class     Images  Instances      Box(P          R      mAP50  mAP50-95)     Mask(P          R      mAP50  mAP50-95): 100%|██████████| 1/1 [00:00<00:00,  9.61it/s]"
          ]
        },
        {
          "output_type": "stream",
          "name": "stdout",
          "text": [
            "                   all          4         17        0.8      0.483      0.559      0.338    0.00726      0.183     0.0292     0.0169\n"
          ]
        },
        {
          "output_type": "stream",
          "name": "stderr",
          "text": [
            "\n"
          ]
        },
        {
          "output_type": "stream",
          "name": "stdout",
          "text": [
            "\n",
            "      Epoch    GPU_mem   box_loss   seg_loss   cls_loss   dfl_loss  Instances       Size\n"
          ]
        },
        {
          "output_type": "stream",
          "name": "stderr",
          "text": [
            "     76/100      1.22G     0.5914      5.524     0.8646      1.104         25        640: 100%|██████████| 1/1 [00:00<00:00,  6.65it/s]\n",
            "                 Class     Images  Instances      Box(P          R      mAP50  mAP50-95)     Mask(P          R      mAP50  mAP50-95): 100%|██████████| 1/1 [00:00<00:00, 12.59it/s]"
          ]
        },
        {
          "output_type": "stream",
          "name": "stdout",
          "text": [
            "                   all          4         17        0.8      0.483      0.559      0.338    0.00726      0.183     0.0292     0.0169\n"
          ]
        },
        {
          "output_type": "stream",
          "name": "stderr",
          "text": [
            "\n"
          ]
        },
        {
          "output_type": "stream",
          "name": "stdout",
          "text": [
            "\n",
            "      Epoch    GPU_mem   box_loss   seg_loss   cls_loss   dfl_loss  Instances       Size\n"
          ]
        },
        {
          "output_type": "stream",
          "name": "stderr",
          "text": [
            "     77/100      1.22G     0.7011      5.601     0.7916      1.053         22        640: 100%|██████████| 1/1 [00:00<00:00,  4.30it/s]\n",
            "                 Class     Images  Instances      Box(P          R      mAP50  mAP50-95)     Mask(P          R      mAP50  mAP50-95): 100%|██████████| 1/1 [00:00<00:00, 12.18it/s]"
          ]
        },
        {
          "output_type": "stream",
          "name": "stdout",
          "text": [
            "                   all          4         17        0.8      0.483      0.559      0.338    0.00726      0.183     0.0292     0.0169\n"
          ]
        },
        {
          "output_type": "stream",
          "name": "stderr",
          "text": [
            "\n"
          ]
        },
        {
          "output_type": "stream",
          "name": "stdout",
          "text": [
            "\n",
            "      Epoch    GPU_mem   box_loss   seg_loss   cls_loss   dfl_loss  Instances       Size\n"
          ]
        },
        {
          "output_type": "stream",
          "name": "stderr",
          "text": [
            "     78/100      1.22G     0.5846      5.471     0.8029      1.073         16        640: 100%|██████████| 1/1 [00:00<00:00,  5.57it/s]\n",
            "                 Class     Images  Instances      Box(P          R      mAP50  mAP50-95)     Mask(P          R      mAP50  mAP50-95): 100%|██████████| 1/1 [00:00<00:00, 12.70it/s]"
          ]
        },
        {
          "output_type": "stream",
          "name": "stdout",
          "text": [
            "                   all          4         17      0.806      0.483      0.563      0.288    0.00704      0.183     0.0252     0.0145\n"
          ]
        },
        {
          "output_type": "stream",
          "name": "stderr",
          "text": [
            "\n"
          ]
        },
        {
          "output_type": "stream",
          "name": "stdout",
          "text": [
            "\n",
            "      Epoch    GPU_mem   box_loss   seg_loss   cls_loss   dfl_loss  Instances       Size\n"
          ]
        },
        {
          "output_type": "stream",
          "name": "stderr",
          "text": [
            "     79/100      1.22G     0.5491      5.453     0.7734      1.057         33        640: 100%|██████████| 1/1 [00:00<00:00,  6.42it/s]\n",
            "                 Class     Images  Instances      Box(P          R      mAP50  mAP50-95)     Mask(P          R      mAP50  mAP50-95): 100%|██████████| 1/1 [00:00<00:00, 12.31it/s]"
          ]
        },
        {
          "output_type": "stream",
          "name": "stdout",
          "text": [
            "                   all          4         17      0.806      0.483      0.563      0.288    0.00704      0.183     0.0252     0.0145\n"
          ]
        },
        {
          "output_type": "stream",
          "name": "stderr",
          "text": [
            "\n"
          ]
        },
        {
          "output_type": "stream",
          "name": "stdout",
          "text": [
            "\n",
            "      Epoch    GPU_mem   box_loss   seg_loss   cls_loss   dfl_loss  Instances       Size\n"
          ]
        },
        {
          "output_type": "stream",
          "name": "stderr",
          "text": [
            "     80/100      1.22G     0.7356      5.453     0.8536      1.157         23        640: 100%|██████████| 1/1 [00:00<00:00,  6.27it/s]\n",
            "                 Class     Images  Instances      Box(P          R      mAP50  mAP50-95)     Mask(P          R      mAP50  mAP50-95): 100%|██████████| 1/1 [00:00<00:00, 12.39it/s]"
          ]
        },
        {
          "output_type": "stream",
          "name": "stdout",
          "text": [
            "                   all          4         17      0.806      0.483      0.563      0.288    0.00704      0.183     0.0252     0.0145\n"
          ]
        },
        {
          "output_type": "stream",
          "name": "stderr",
          "text": [
            "\n"
          ]
        },
        {
          "output_type": "stream",
          "name": "stdout",
          "text": [
            "\n",
            "      Epoch    GPU_mem   box_loss   seg_loss   cls_loss   dfl_loss  Instances       Size\n"
          ]
        },
        {
          "output_type": "stream",
          "name": "stderr",
          "text": [
            "     81/100      1.22G       0.39      5.387     0.5472     0.9409         21        640: 100%|██████████| 1/1 [00:00<00:00,  1.69it/s]\n",
            "                 Class     Images  Instances      Box(P          R      mAP50  mAP50-95)     Mask(P          R      mAP50  mAP50-95): 100%|██████████| 1/1 [00:00<00:00, 12.97it/s]"
          ]
        },
        {
          "output_type": "stream",
          "name": "stdout",
          "text": [
            "                   all          4         17      0.815        0.4      0.554      0.266    0.00754      0.183     0.0199     0.0095\n"
          ]
        },
        {
          "output_type": "stream",
          "name": "stderr",
          "text": [
            "\n"
          ]
        },
        {
          "output_type": "stream",
          "name": "stdout",
          "text": [
            "\n",
            "      Epoch    GPU_mem   box_loss   seg_loss   cls_loss   dfl_loss  Instances       Size\n"
          ]
        },
        {
          "output_type": "stream",
          "name": "stderr",
          "text": [
            "     82/100      1.22G     0.5018      5.417     0.7723     0.9869         26        640: 100%|██████████| 1/1 [00:00<00:00,  4.29it/s]\n",
            "                 Class     Images  Instances      Box(P          R      mAP50  mAP50-95)     Mask(P          R      mAP50  mAP50-95): 100%|██████████| 1/1 [00:00<00:00,  7.41it/s]"
          ]
        },
        {
          "output_type": "stream",
          "name": "stdout",
          "text": [
            "                   all          4         17      0.815        0.4      0.554      0.266    0.00754      0.183     0.0199     0.0095\n"
          ]
        },
        {
          "output_type": "stream",
          "name": "stderr",
          "text": [
            "\n"
          ]
        },
        {
          "output_type": "stream",
          "name": "stdout",
          "text": [
            "\n",
            "      Epoch    GPU_mem   box_loss   seg_loss   cls_loss   dfl_loss  Instances       Size\n"
          ]
        },
        {
          "output_type": "stream",
          "name": "stderr",
          "text": [
            "     83/100      1.22G     0.7625      5.623      1.335      1.072         54        640: 100%|██████████| 1/1 [00:00<00:00,  4.59it/s]\n",
            "                 Class     Images  Instances      Box(P          R      mAP50  mAP50-95)     Mask(P          R      mAP50  mAP50-95): 100%|██████████| 1/1 [00:00<00:00,  8.48it/s]"
          ]
        },
        {
          "output_type": "stream",
          "name": "stdout",
          "text": [
            "                   all          4         17      0.815        0.4      0.554      0.266    0.00754      0.183     0.0199     0.0095\n"
          ]
        },
        {
          "output_type": "stream",
          "name": "stderr",
          "text": [
            "\n"
          ]
        },
        {
          "output_type": "stream",
          "name": "stdout",
          "text": [
            "\n",
            "      Epoch    GPU_mem   box_loss   seg_loss   cls_loss   dfl_loss  Instances       Size\n"
          ]
        },
        {
          "output_type": "stream",
          "name": "stderr",
          "text": [
            "     84/100      1.22G     0.6774      5.835     0.6854      1.072         25        640: 100%|██████████| 1/1 [00:00<00:00,  3.30it/s]\n",
            "                 Class     Images  Instances      Box(P          R      mAP50  mAP50-95)     Mask(P          R      mAP50  mAP50-95): 100%|██████████| 1/1 [00:00<00:00,  7.76it/s]"
          ]
        },
        {
          "output_type": "stream",
          "name": "stdout",
          "text": [
            "                   all          4         17      0.816      0.483      0.537      0.255    0.00686      0.183     0.0125    0.00471\n"
          ]
        },
        {
          "output_type": "stream",
          "name": "stderr",
          "text": [
            "\n"
          ]
        },
        {
          "output_type": "stream",
          "name": "stdout",
          "text": [
            "\n",
            "      Epoch    GPU_mem   box_loss   seg_loss   cls_loss   dfl_loss  Instances       Size\n"
          ]
        },
        {
          "output_type": "stream",
          "name": "stderr",
          "text": [
            "     85/100      1.22G     0.6556      5.652      1.007       1.02         24        640: 100%|██████████| 1/1 [00:00<00:00,  6.35it/s]\n",
            "                 Class     Images  Instances      Box(P          R      mAP50  mAP50-95)     Mask(P          R      mAP50  mAP50-95): 100%|██████████| 1/1 [00:00<00:00, 11.83it/s]"
          ]
        },
        {
          "output_type": "stream",
          "name": "stdout",
          "text": [
            "                   all          4         17      0.816      0.483      0.537      0.255    0.00686      0.183     0.0125    0.00471\n"
          ]
        },
        {
          "output_type": "stream",
          "name": "stderr",
          "text": [
            "\n"
          ]
        },
        {
          "output_type": "stream",
          "name": "stdout",
          "text": [
            "\n",
            "      Epoch    GPU_mem   box_loss   seg_loss   cls_loss   dfl_loss  Instances       Size\n"
          ]
        },
        {
          "output_type": "stream",
          "name": "stderr",
          "text": [
            "     86/100      1.22G     0.6339      5.554     0.6217      1.087         24        640: 100%|██████████| 1/1 [00:00<00:00,  5.91it/s]\n",
            "                 Class     Images  Instances      Box(P          R      mAP50  mAP50-95)     Mask(P          R      mAP50  mAP50-95): 100%|██████████| 1/1 [00:00<00:00, 12.92it/s]"
          ]
        },
        {
          "output_type": "stream",
          "name": "stdout",
          "text": [
            "                   all          4         17      0.816      0.483      0.537      0.255    0.00686      0.183     0.0125    0.00471\n"
          ]
        },
        {
          "output_type": "stream",
          "name": "stderr",
          "text": [
            "\n"
          ]
        },
        {
          "output_type": "stream",
          "name": "stdout",
          "text": [
            "\n",
            "      Epoch    GPU_mem   box_loss   seg_loss   cls_loss   dfl_loss  Instances       Size\n"
          ]
        },
        {
          "output_type": "stream",
          "name": "stderr",
          "text": [
            "     87/100      1.22G     0.5655      5.396      0.829      1.078         26        640: 100%|██████████| 1/1 [00:00<00:00,  6.71it/s]\n",
            "                 Class     Images  Instances      Box(P          R      mAP50  mAP50-95)     Mask(P          R      mAP50  mAP50-95): 100%|██████████| 1/1 [00:00<00:00, 12.07it/s]"
          ]
        },
        {
          "output_type": "stream",
          "name": "stdout",
          "text": [
            "                   all          4         17      0.816      0.483      0.537      0.255    0.00686      0.183     0.0125    0.00471\n"
          ]
        },
        {
          "output_type": "stream",
          "name": "stderr",
          "text": [
            "\n"
          ]
        },
        {
          "output_type": "stream",
          "name": "stdout",
          "text": [
            "\n",
            "      Epoch    GPU_mem   box_loss   seg_loss   cls_loss   dfl_loss  Instances       Size\n"
          ]
        },
        {
          "output_type": "stream",
          "name": "stderr",
          "text": [
            "     88/100      1.22G      0.697      5.439     0.8217      1.048         31        640: 100%|██████████| 1/1 [00:00<00:00,  5.64it/s]\n",
            "                 Class     Images  Instances      Box(P          R      mAP50  mAP50-95)     Mask(P          R      mAP50  mAP50-95): 100%|██████████| 1/1 [00:00<00:00, 12.34it/s]"
          ]
        },
        {
          "output_type": "stream",
          "name": "stdout",
          "text": [
            "                   all          4         17      0.825        0.4      0.534      0.254    0.00654      0.183     0.0133    0.00503\n"
          ]
        },
        {
          "output_type": "stream",
          "name": "stderr",
          "text": [
            "\n"
          ]
        },
        {
          "output_type": "stream",
          "name": "stdout",
          "text": [
            "\n",
            "      Epoch    GPU_mem   box_loss   seg_loss   cls_loss   dfl_loss  Instances       Size\n"
          ]
        },
        {
          "output_type": "stream",
          "name": "stderr",
          "text": [
            "     89/100      1.22G     0.7542      5.606      1.017      1.046         29        640: 100%|██████████| 1/1 [00:00<00:00,  6.34it/s]\n",
            "                 Class     Images  Instances      Box(P          R      mAP50  mAP50-95)     Mask(P          R      mAP50  mAP50-95): 100%|██████████| 1/1 [00:00<00:00, 10.18it/s]"
          ]
        },
        {
          "output_type": "stream",
          "name": "stdout",
          "text": [
            "                   all          4         17      0.825        0.4      0.534      0.254    0.00654      0.183     0.0133    0.00503\n"
          ]
        },
        {
          "output_type": "stream",
          "name": "stderr",
          "text": [
            "\n"
          ]
        },
        {
          "output_type": "stream",
          "name": "stdout",
          "text": [
            "\n",
            "      Epoch    GPU_mem   box_loss   seg_loss   cls_loss   dfl_loss  Instances       Size\n"
          ]
        },
        {
          "output_type": "stream",
          "name": "stderr",
          "text": [
            "     90/100      1.22G     0.6485      5.797     0.7268      1.031         26        640: 100%|██████████| 1/1 [00:00<00:00,  6.53it/s]\n",
            "                 Class     Images  Instances      Box(P          R      mAP50  mAP50-95)     Mask(P          R      mAP50  mAP50-95): 100%|██████████| 1/1 [00:00<00:00, 12.72it/s]"
          ]
        },
        {
          "output_type": "stream",
          "name": "stdout",
          "text": [
            "                   all          4         17      0.825        0.4      0.534      0.254    0.00654      0.183     0.0133    0.00503\n"
          ]
        },
        {
          "output_type": "stream",
          "name": "stderr",
          "text": [
            "\n"
          ]
        },
        {
          "output_type": "stream",
          "name": "stdout",
          "text": [
            "Closing dataloader mosaic\n",
            "\u001b[34m\u001b[1malbumentations: \u001b[0mBlur(p=0.01, blur_limit=(3, 7)), MedianBlur(p=0.01, blur_limit=(3, 7)), ToGray(p=0.01, num_output_channels=3, method='weighted_average'), CLAHE(p=0.01, clip_limit=(1.0, 4.0), tile_grid_size=(8, 8))\n",
            "\n",
            "      Epoch    GPU_mem   box_loss   seg_loss   cls_loss   dfl_loss  Instances       Size\n"
          ]
        },
        {
          "output_type": "stream",
          "name": "stderr",
          "text": [
            "     91/100      1.22G     0.5309      5.518     0.5658     0.9794         13        640: 100%|██████████| 1/1 [00:00<00:00,  3.91it/s]\n",
            "                 Class     Images  Instances      Box(P          R      mAP50  mAP50-95)     Mask(P          R      mAP50  mAP50-95): 100%|██████████| 1/1 [00:00<00:00,  6.32it/s]"
          ]
        },
        {
          "output_type": "stream",
          "name": "stdout",
          "text": [
            "                   all          4         17      0.825        0.4      0.534      0.254    0.00654      0.183     0.0133    0.00503\n"
          ]
        },
        {
          "output_type": "stream",
          "name": "stderr",
          "text": [
            "\n"
          ]
        },
        {
          "output_type": "stream",
          "name": "stdout",
          "text": [
            "\n",
            "      Epoch    GPU_mem   box_loss   seg_loss   cls_loss   dfl_loss  Instances       Size\n"
          ]
        },
        {
          "output_type": "stream",
          "name": "stderr",
          "text": [
            "     92/100      1.22G     0.5806      5.558     0.6708      1.036         13        640: 100%|██████████| 1/1 [00:00<00:00,  5.23it/s]\n",
            "                 Class     Images  Instances      Box(P          R      mAP50  mAP50-95)     Mask(P          R      mAP50  mAP50-95): 100%|██████████| 1/1 [00:00<00:00,  7.29it/s]\n"
          ]
        },
        {
          "output_type": "stream",
          "name": "stdout",
          "text": [
            "                   all          4         17      0.812      0.483      0.548      0.273      0.985     0.0167     0.0515     0.0119\n",
            "\n",
            "      Epoch    GPU_mem   box_loss   seg_loss   cls_loss   dfl_loss  Instances       Size\n"
          ]
        },
        {
          "output_type": "stream",
          "name": "stderr",
          "text": [
            "     93/100      1.25G      0.529      5.623     0.6304      1.005         13        640: 100%|██████████| 1/1 [00:00<00:00,  6.83it/s]\n",
            "                 Class     Images  Instances      Box(P          R      mAP50  mAP50-95)     Mask(P          R      mAP50  mAP50-95): 100%|██████████| 1/1 [00:00<00:00,  6.32it/s]\n"
          ]
        },
        {
          "output_type": "stream",
          "name": "stdout",
          "text": [
            "                   all          4         17      0.812      0.483      0.548      0.273      0.985     0.0167     0.0515     0.0119\n",
            "\n",
            "      Epoch    GPU_mem   box_loss   seg_loss   cls_loss   dfl_loss  Instances       Size\n"
          ]
        },
        {
          "output_type": "stream",
          "name": "stderr",
          "text": [
            "     94/100      1.25G     0.4417       5.52     0.5114     0.9566         13        640: 100%|██████████| 1/1 [00:00<00:00,  6.86it/s]\n",
            "                 Class     Images  Instances      Box(P          R      mAP50  mAP50-95)     Mask(P          R      mAP50  mAP50-95): 100%|██████████| 1/1 [00:00<00:00, 12.07it/s]"
          ]
        },
        {
          "output_type": "stream",
          "name": "stdout",
          "text": [
            "                   all          4         17      0.812      0.483      0.548      0.273      0.985     0.0167     0.0515     0.0119\n"
          ]
        },
        {
          "output_type": "stream",
          "name": "stderr",
          "text": [
            "\n"
          ]
        },
        {
          "output_type": "stream",
          "name": "stdout",
          "text": [
            "\n",
            "      Epoch    GPU_mem   box_loss   seg_loss   cls_loss   dfl_loss  Instances       Size\n"
          ]
        },
        {
          "output_type": "stream",
          "name": "stderr",
          "text": [
            "     95/100      1.25G     0.5045      5.423     0.5222     0.9638         13        640: 100%|██████████| 1/1 [00:00<00:00,  6.94it/s]\n",
            "                 Class     Images  Instances      Box(P          R      mAP50  mAP50-95)     Mask(P          R      mAP50  mAP50-95): 100%|██████████| 1/1 [00:00<00:00, 12.17it/s]"
          ]
        },
        {
          "output_type": "stream",
          "name": "stdout",
          "text": [
            "                   all          4         17      0.812      0.483      0.548      0.273      0.985     0.0167     0.0515     0.0119\n"
          ]
        },
        {
          "output_type": "stream",
          "name": "stderr",
          "text": [
            "\n"
          ]
        },
        {
          "output_type": "stream",
          "name": "stdout",
          "text": [
            "\n",
            "      Epoch    GPU_mem   box_loss   seg_loss   cls_loss   dfl_loss  Instances       Size\n"
          ]
        },
        {
          "output_type": "stream",
          "name": "stderr",
          "text": [
            "     96/100      1.25G     0.4908       5.46     0.6111     0.9889         13        640: 100%|██████████| 1/1 [00:00<00:00,  5.27it/s]\n",
            "                 Class     Images  Instances      Box(P          R      mAP50  mAP50-95)     Mask(P          R      mAP50  mAP50-95): 100%|██████████| 1/1 [00:00<00:00, 12.36it/s]"
          ]
        },
        {
          "output_type": "stream",
          "name": "stdout",
          "text": [
            "                   all          4         17      0.788      0.483      0.596      0.337    0.00545      0.183     0.0842     0.0167\n"
          ]
        },
        {
          "output_type": "stream",
          "name": "stderr",
          "text": [
            "\n"
          ]
        },
        {
          "output_type": "stream",
          "name": "stdout",
          "text": [
            "\n",
            "      Epoch    GPU_mem   box_loss   seg_loss   cls_loss   dfl_loss  Instances       Size\n"
          ]
        },
        {
          "output_type": "stream",
          "name": "stderr",
          "text": [
            "     97/100      1.31G     0.5135      5.461     0.6777      0.924         13        640: 100%|██████████| 1/1 [00:00<00:00,  6.87it/s]\n",
            "                 Class     Images  Instances      Box(P          R      mAP50  mAP50-95)     Mask(P          R      mAP50  mAP50-95): 100%|██████████| 1/1 [00:00<00:00, 12.40it/s]"
          ]
        },
        {
          "output_type": "stream",
          "name": "stdout",
          "text": [
            "                   all          4         17      0.788      0.483      0.596      0.337    0.00545      0.183     0.0842     0.0167\n"
          ]
        },
        {
          "output_type": "stream",
          "name": "stderr",
          "text": [
            "\n"
          ]
        },
        {
          "output_type": "stream",
          "name": "stdout",
          "text": [
            "\n",
            "      Epoch    GPU_mem   box_loss   seg_loss   cls_loss   dfl_loss  Instances       Size\n"
          ]
        },
        {
          "output_type": "stream",
          "name": "stderr",
          "text": [
            "     98/100      1.31G     0.5653      5.535     0.5819      1.037         13        640: 100%|██████████| 1/1 [00:00<00:00,  7.16it/s]\n",
            "                 Class     Images  Instances      Box(P          R      mAP50  mAP50-95)     Mask(P          R      mAP50  mAP50-95): 100%|██████████| 1/1 [00:00<00:00, 11.87it/s]"
          ]
        },
        {
          "output_type": "stream",
          "name": "stdout",
          "text": [
            "                   all          4         17      0.788      0.483      0.596      0.337    0.00545      0.183     0.0842     0.0167\n"
          ]
        },
        {
          "output_type": "stream",
          "name": "stderr",
          "text": [
            "\n"
          ]
        },
        {
          "output_type": "stream",
          "name": "stdout",
          "text": [
            "\n",
            "      Epoch    GPU_mem   box_loss   seg_loss   cls_loss   dfl_loss  Instances       Size\n"
          ]
        },
        {
          "output_type": "stream",
          "name": "stderr",
          "text": [
            "     99/100      1.31G     0.4181      5.323     0.5743     0.9358         13        640: 100%|██████████| 1/1 [00:00<00:00,  6.50it/s]\n",
            "                 Class     Images  Instances      Box(P          R      mAP50  mAP50-95)     Mask(P          R      mAP50  mAP50-95): 100%|██████████| 1/1 [00:00<00:00,  7.18it/s]"
          ]
        },
        {
          "output_type": "stream",
          "name": "stdout",
          "text": [
            "                   all          4         17      0.788      0.483      0.596      0.337    0.00545      0.183     0.0842     0.0167\n"
          ]
        },
        {
          "output_type": "stream",
          "name": "stderr",
          "text": [
            "\n"
          ]
        },
        {
          "output_type": "stream",
          "name": "stdout",
          "text": [
            "\n",
            "      Epoch    GPU_mem   box_loss   seg_loss   cls_loss   dfl_loss  Instances       Size\n"
          ]
        },
        {
          "output_type": "stream",
          "name": "stderr",
          "text": [
            "    100/100      1.31G     0.5692      5.658     0.6979      1.018         13        640: 100%|██████████| 1/1 [00:00<00:00,  4.35it/s]\n",
            "                 Class     Images  Instances      Box(P          R      mAP50  mAP50-95)     Mask(P          R      mAP50  mAP50-95): 100%|██████████| 1/1 [00:00<00:00,  8.58it/s]"
          ]
        },
        {
          "output_type": "stream",
          "name": "stdout",
          "text": [
            "                   all          4         17      0.778      0.483       0.68      0.421      0.357     0.0167      0.169     0.0169\n"
          ]
        },
        {
          "output_type": "stream",
          "name": "stderr",
          "text": [
            "\n"
          ]
        },
        {
          "output_type": "stream",
          "name": "stdout",
          "text": [
            "\n",
            "100 epochs completed in 0.022 hours.\n",
            "Optimizer stripped from runs/segment/train4/weights/last.pt, 6.1MB\n",
            "Optimizer stripped from runs/segment/train4/weights/best.pt, 6.1MB\n",
            "\n",
            "Validating runs/segment/train4/weights/best.pt...\n",
            "Ultralytics 8.3.104 🚀 Python-3.11.11 torch-2.6.0+cu124 CUDA:0 (Tesla T4, 15095MiB)\n",
            "YOLO11n-seg summary (fused): 113 layers, 2,868,664 parameters, 0 gradients, 10.4 GFLOPs\n"
          ]
        },
        {
          "output_type": "stream",
          "name": "stderr",
          "text": [
            "\r                 Class     Images  Instances      Box(P          R      mAP50  mAP50-95)     Mask(P          R      mAP50  mAP50-95):   0%|          | 0/1 [00:00<?, ?it/s]"
          ]
        },
        {
          "output_type": "stream",
          "name": "stdout",
          "text": [
            "WARNING ⚠️ Limiting validation plots to first 50 items per image for speed...\n",
            "WARNING ⚠️ Limiting validation plots to first 50 items per image for speed...\n",
            "WARNING ⚠️ Limiting validation plots to first 50 items per image for speed...\n",
            "WARNING ⚠️ Limiting validation plots to first 50 items per image for speed...\n"
          ]
        },
        {
          "output_type": "stream",
          "name": "stderr",
          "text": [
            "\r                 Class     Images  Instances      Box(P          R      mAP50  mAP50-95)     Mask(P          R      mAP50  mAP50-95): 100%|██████████| 1/1 [00:00<00:00, 11.49it/s]\n"
          ]
        },
        {
          "output_type": "stream",
          "name": "stdout",
          "text": [
            "                   all          4         17       0.66      0.779      0.914      0.656      0.189        0.3      0.241      0.145\n",
            "                person          3         10      0.629        0.7      0.675      0.353      0.183        0.3      0.161     0.0267\n",
            "                   dog          1          1      0.505          1      0.995      0.796          0          0          0          0\n",
            "                 horse          1          2      0.607          1      0.995      0.676          0          0          0          0\n",
            "              elephant          1          2      0.659      0.977      0.828      0.322      0.214        0.5       0.29     0.0503\n",
            "              umbrella          1          1      0.558          1      0.995      0.895          0          0          0          0\n",
            "          potted plant          1          1          1          0      0.995      0.895      0.738          1      0.995      0.796\n",
            "Speed: 0.3ms preprocess, 6.6ms inference, 0.0ms loss, 1.5ms postprocess per image\n",
            "Results saved to \u001b[1mruns/segment/train4\u001b[0m\n"
          ]
        }
      ],
      "source": [
        "from ultralytics import YOLO\n",
        "\n",
        "# Load a model\n",
        "model = YOLO(\"yolo11n-seg.yaml\")  # build a new model from YAML\n",
        "model = YOLO(\"yolo11n-seg.pt\")  # load a pretrained model (recommended for training)\n",
        "model = YOLO(\"yolo11n-seg.yaml\").load(\"yolo11n.pt\")  # build from YAML and transfer weights\n",
        "\n",
        "# Train the model\n",
        "results = model.train(data=\"coco8-seg.yaml\", epochs=100, imgsz=640)"
      ]
    },
    {
      "cell_type": "code",
      "execution_count": null,
      "metadata": {
        "colab": {
          "base_uri": "https://localhost:8080/"
        },
        "id": "Ekr-vcbwXeFd",
        "outputId": "3760fd00-e501-4534-d534-3f87e8836828"
      },
      "outputs": [
        {
          "output_type": "stream",
          "name": "stdout",
          "text": [
            "Mounted at /content/drive\n"
          ]
        }
      ],
      "source": [
        "from google.colab import drive\n",
        "drive.mount('/content/drive')"
      ]
    },
    {
      "cell_type": "code",
      "execution_count": null,
      "metadata": {
        "colab": {
          "base_uri": "https://localhost:8080/"
        },
        "id": "bOimh8-rYIlb",
        "outputId": "1cebb89c-8489-49ed-d99f-ed3e35fc2622"
      },
      "outputs": [
        {
          "output_type": "stream",
          "name": "stdout",
          "text": [
            "Modelo encontrado!\n"
          ]
        }
      ],
      "source": [
        "import os\n",
        "\n",
        "path = \"runs/segment/train/weights/best.pt\"\n",
        "if os.path.exists(path):\n",
        "    print(\"Modelo encontrado!\")\n",
        "    model = YOLO(path)\n",
        "else:\n",
        "    print(\"Erro: Arquivo não encontrado. Verifique o caminho.\")\n"
      ]
    },
    {
      "cell_type": "code",
      "execution_count": null,
      "metadata": {
        "colab": {
          "base_uri": "https://localhost:8080/"
        },
        "id": "Mzfv9k_AYMHU",
        "outputId": "7ebc9808-356c-418d-bd4a-9db401488993"
      },
      "outputs": [
        {
          "output_type": "stream",
          "name": "stdout",
          "text": [
            "['best.pt', 'last.pt']\n"
          ]
        }
      ],
      "source": [
        "import os\n",
        "\n",
        "path = \"runs/segment/train/weights/\"\n",
        "print(os.listdir(path))  # Lista os arquivos na pasta\n"
      ]
    },
    {
      "cell_type": "markdown",
      "metadata": {
        "id": "1FMzIjucZlYt"
      },
      "source": [
        "Carregamento do modelo e validacao de metricas"
      ]
    },
    {
      "cell_type": "code",
      "execution_count": null,
      "metadata": {
        "colab": {
          "base_uri": "https://localhost:8080/"
        },
        "id": "Q-w7HmIUR2vi",
        "outputId": "dbe89f6f-c23f-4db0-9243-ec5cd5aeb6da"
      },
      "outputs": [
        {
          "output_type": "stream",
          "name": "stdout",
          "text": [
            "Ultralytics 8.3.104 🚀 Python-3.11.11 torch-2.6.0+cu124 CUDA:0 (Tesla T4, 15095MiB)\n",
            "YOLO11n-seg summary (fused): 113 layers, 2,868,664 parameters, 0 gradients, 10.4 GFLOPs\n"
          ]
        },
        {
          "output_type": "stream",
          "name": "stderr",
          "text": [
            "\u001b[34m\u001b[1mval: \u001b[0mScanning /content/datasets/coco8-seg/labels/val.cache... 4 images, 0 backgrounds, 0 corrupt: 100%|██████████| 4/4 [00:00<?, ?it/s]\n",
            "                 Class     Images  Instances      Box(P          R      mAP50  mAP50-95)     Mask(P          R      mAP50  mAP50-95):   0%|          | 0/1 [00:00<?, ?it/s]"
          ]
        },
        {
          "output_type": "stream",
          "name": "stdout",
          "text": [
            "WARNING ⚠️ Limiting validation plots to first 50 items per image for speed...\n",
            "WARNING ⚠️ Limiting validation plots to first 50 items per image for speed...\n",
            "WARNING ⚠️ Limiting validation plots to first 50 items per image for speed...\n",
            "WARNING ⚠️ Limiting validation plots to first 50 items per image for speed...\n"
          ]
        },
        {
          "output_type": "stream",
          "name": "stderr",
          "text": [
            "                 Class     Images  Instances      Box(P          R      mAP50  mAP50-95)     Mask(P          R      mAP50  mAP50-95): 100%|██████████| 1/1 [00:00<00:00,  5.99it/s]\n"
          ]
        },
        {
          "output_type": "stream",
          "name": "stdout",
          "text": [
            "                   all          4         17       0.58       0.85      0.878      0.636       0.28      0.383      0.399      0.127\n",
            "                person          3         10      0.569        0.6      0.593      0.278      0.284        0.3      0.312     0.0394\n",
            "                   dog          1          1       0.55          1      0.995      0.697       0.55          1      0.995      0.199\n",
            "                 horse          1          2       0.58          1      0.995      0.674          0          0          0          0\n",
            "              elephant          1          2      0.366        0.5      0.695      0.275          0          0      0.094     0.0239\n",
            "              umbrella          1          1      0.569          1      0.995      0.995          0          0          0          0\n",
            "          potted plant          1          1      0.848          1      0.995      0.895      0.848          1      0.995      0.497\n",
            "Speed: 0.7ms preprocess, 21.6ms inference, 0.0ms loss, 1.4ms postprocess per image\n",
            "Results saved to \u001b[1mruns/segment/val3\u001b[0m\n"
          ]
        },
        {
          "output_type": "execute_result",
          "data": {
            "text/plain": [
              "array([   0.039393,     0.12664,     0.12664,     0.12664,     0.12664,     0.12664,     0.12664,     0.12664,     0.12664,     0.12664,     0.12664,     0.12664,     0.12664,     0.12664,     0.12664,     0.12664,       0.199,           0,     0.12664,     0.12664,    0.023922,     0.12664,     0.12664,     0.12664,\n",
              "           0.12664,           0,     0.12664,     0.12664,     0.12664,     0.12664,     0.12664,     0.12664,     0.12664,     0.12664,     0.12664,     0.12664,     0.12664,     0.12664,     0.12664,     0.12664,     0.12664,     0.12664,     0.12664,     0.12664,     0.12664,     0.12664,     0.12664,     0.12664,\n",
              "           0.12664,     0.12664,     0.12664,     0.12664,     0.12664,     0.12664,     0.12664,     0.12664,     0.12664,     0.12664,      0.4975,     0.12664,     0.12664,     0.12664,     0.12664,     0.12664,     0.12664,     0.12664,     0.12664,     0.12664,     0.12664,     0.12664,     0.12664,     0.12664,\n",
              "           0.12664,     0.12664,     0.12664,     0.12664,     0.12664,     0.12664,     0.12664,     0.12664])"
            ]
          },
          "metadata": {},
          "execution_count": 26
        }
      ],
      "source": [
        "# Load a model\n",
        "model = YOLO(\"yolo11n-seg.pt\")  # load an official model\n",
        "model = YOLO(\"/content/runs/segment/train/weights/best.pt\")  # load a custom model\n",
        "\n",
        "# Validate the model\n",
        "metrics = model.val()  # no arguments needed, dataset and settings remembered\n",
        "metrics.box.map  # map50-95(B)\n",
        "metrics.box.map50  # map50(B)\n",
        "metrics.box.map75  # map75(B)\n",
        "metrics.box.maps  # a list contains map50-95(B) of each category\n",
        "metrics.seg.map  # map50-95(M)\n",
        "metrics.seg.map50  # map50(M)\n",
        "metrics.seg.map75  # map75(M)\n",
        "metrics.seg.maps  # a list contains map50-95(M) of each category"
      ]
    },
    {
      "cell_type": "markdown",
      "metadata": {
        "id": "ljx3byCQZyvk"
      },
      "source": [
        "Instalação da biblioteca para Processar imagens"
      ]
    },
    {
      "cell_type": "code",
      "execution_count": null,
      "metadata": {
        "colab": {
          "base_uri": "https://localhost:8080/"
        },
        "id": "fMtPlvBFbPwM",
        "outputId": "efeec3d0-3d33-47f3-e390-ae2549317502",
        "collapsed": true
      },
      "outputs": [
        {
          "output_type": "stream",
          "name": "stdout",
          "text": [
            "Requirement already satisfied: opencv-python in /usr/local/lib/python3.11/dist-packages (4.11.0.86)\n",
            "Requirement already satisfied: numpy>=1.21.2 in /usr/local/lib/python3.11/dist-packages (from opencv-python) (2.0.2)\n"
          ]
        }
      ],
      "source": [
        "# Instalar dependências necessárias\n",
        "!pip install opencv-python"
      ]
    },
    {
      "cell_type": "markdown",
      "metadata": {
        "id": "JbgAnMsoqC_p"
      },
      "source": [
        "Criar arquivo yaml"
      ]
    },
    {
      "cell_type": "code",
      "source": [
        "with open(\"/content/drive/Shareddrives/Letícia Vieira Gonçalves - Pesquisa/dataset/CAI-SWTB-Dataset/cai.yaml\", \"r\", encoding='utf-8') as f:\n",
        "    print(f.read())"
      ],
      "metadata": {
        "colab": {
          "base_uri": "https://localhost:8080/"
        },
        "id": "6iAVWMSNtc3j",
        "outputId": "cc4e2137-18cf-4d1a-feb8-4a0c96f58cf4"
      },
      "execution_count": 41,
      "outputs": [
        {
          "output_type": "stream",
          "name": "stdout",
          "text": [
            "\n",
            "path:/content/drive/Shareddrives/Letícia Vieira Gonçalves - Pesquisa/dataset/CAI-SWTB-Dataset\n",
            "train:destino = '/content/drive/Shareddrives/Letícia Vieira Gonçalves - Pesquisa/dataset/CAI-SWTB-Dataset/Train/annotations'\n",
            "val:destino = '/content/drive/Shareddrives/Letícia Vieira Gonçalves - Pesquisa/dataset/CAI-SWTB-Dataset/Validation/annotations'\n",
            "test:destino = '/content/drive/Shareddrives/Letícia Vieira Gonçalves - Pesquisa/dataset/CAI-SWTB-Dataset/Test/annotations\n",
            "nc:2\n",
            "names:\n",
            "  0:Positivo\n",
            "  1:Negativo\n",
            "\n"
          ]
        }
      ]
    },
    {
      "cell_type": "code",
      "execution_count": 42,
      "metadata": {
        "colab": {
          "base_uri": "https://localhost:8080/",
          "height": 391
        },
        "id": "h51R9khrtgrg",
        "outputId": "e4b0e84a-a4a0-4302-e71f-fd21f011f796"
      },
      "outputs": [
        {
          "output_type": "error",
          "ename": "ScannerError",
          "evalue": "mapping values are not allowed here\n  in \"/content/drive/Shareddrives/Letícia Vieira Gonçalves - Pesquisa/dataset/CAI-SWTB-Dataset/cai.yaml\", line 7, column 6",
          "traceback": [
            "\u001b[0;31m---------------------------------------------------------------------------\u001b[0m",
            "\u001b[0;31mScannerError\u001b[0m                              Traceback (most recent call last)",
            "\u001b[0;32m<ipython-input-42-613079652796>\u001b[0m in \u001b[0;36m<cell line: 0>\u001b[0;34m()\u001b[0m\n\u001b[1;32m      2\u001b[0m \u001b[0;34m\u001b[0m\u001b[0m\n\u001b[1;32m      3\u001b[0m \u001b[0;32mwith\u001b[0m \u001b[0mopen\u001b[0m\u001b[0;34m(\u001b[0m\u001b[0;34m\"/content/drive/Shareddrives/Letícia Vieira Gonçalves - Pesquisa/dataset/CAI-SWTB-Dataset/cai.yaml\"\u001b[0m\u001b[0;34m,\u001b[0m \u001b[0;34m\"r\"\u001b[0m\u001b[0;34m,\u001b[0m \u001b[0mencoding\u001b[0m\u001b[0;34m=\u001b[0m\u001b[0;34m'utf-8'\u001b[0m\u001b[0;34m)\u001b[0m \u001b[0;32mas\u001b[0m \u001b[0mf\u001b[0m\u001b[0;34m:\u001b[0m\u001b[0;34m\u001b[0m\u001b[0;34m\u001b[0m\u001b[0m\n\u001b[0;32m----> 4\u001b[0;31m     \u001b[0mdata\u001b[0m \u001b[0;34m=\u001b[0m \u001b[0myaml\u001b[0m\u001b[0;34m.\u001b[0m\u001b[0msafe_load\u001b[0m\u001b[0;34m(\u001b[0m\u001b[0mf\u001b[0m\u001b[0;34m)\u001b[0m\u001b[0;34m\u001b[0m\u001b[0;34m\u001b[0m\u001b[0m\n\u001b[0m\u001b[1;32m      5\u001b[0m \u001b[0mprint\u001b[0m\u001b[0;34m(\u001b[0m\u001b[0mdata\u001b[0m\u001b[0;34m)\u001b[0m\u001b[0;34m\u001b[0m\u001b[0;34m\u001b[0m\u001b[0m\n",
            "\u001b[0;32m/usr/local/lib/python3.11/dist-packages/yaml/__init__.py\u001b[0m in \u001b[0;36msafe_load\u001b[0;34m(stream)\u001b[0m\n\u001b[1;32m    123\u001b[0m     \u001b[0mto\u001b[0m \u001b[0mbe\u001b[0m \u001b[0msafe\u001b[0m \u001b[0;32mfor\u001b[0m \u001b[0muntrusted\u001b[0m \u001b[0minput\u001b[0m\u001b[0;34m.\u001b[0m\u001b[0;34m\u001b[0m\u001b[0;34m\u001b[0m\u001b[0m\n\u001b[1;32m    124\u001b[0m     \"\"\"\n\u001b[0;32m--> 125\u001b[0;31m     \u001b[0;32mreturn\u001b[0m \u001b[0mload\u001b[0m\u001b[0;34m(\u001b[0m\u001b[0mstream\u001b[0m\u001b[0;34m,\u001b[0m \u001b[0mSafeLoader\u001b[0m\u001b[0;34m)\u001b[0m\u001b[0;34m\u001b[0m\u001b[0;34m\u001b[0m\u001b[0m\n\u001b[0m\u001b[1;32m    126\u001b[0m \u001b[0;34m\u001b[0m\u001b[0m\n\u001b[1;32m    127\u001b[0m \u001b[0;32mdef\u001b[0m \u001b[0msafe_load_all\u001b[0m\u001b[0;34m(\u001b[0m\u001b[0mstream\u001b[0m\u001b[0;34m)\u001b[0m\u001b[0;34m:\u001b[0m\u001b[0;34m\u001b[0m\u001b[0;34m\u001b[0m\u001b[0m\n",
            "\u001b[0;32m/usr/local/lib/python3.11/dist-packages/yaml/__init__.py\u001b[0m in \u001b[0;36mload\u001b[0;34m(stream, Loader)\u001b[0m\n\u001b[1;32m     79\u001b[0m     \u001b[0mloader\u001b[0m \u001b[0;34m=\u001b[0m \u001b[0mLoader\u001b[0m\u001b[0;34m(\u001b[0m\u001b[0mstream\u001b[0m\u001b[0;34m)\u001b[0m\u001b[0;34m\u001b[0m\u001b[0;34m\u001b[0m\u001b[0m\n\u001b[1;32m     80\u001b[0m     \u001b[0;32mtry\u001b[0m\u001b[0;34m:\u001b[0m\u001b[0;34m\u001b[0m\u001b[0;34m\u001b[0m\u001b[0m\n\u001b[0;32m---> 81\u001b[0;31m         \u001b[0;32mreturn\u001b[0m \u001b[0mloader\u001b[0m\u001b[0;34m.\u001b[0m\u001b[0mget_single_data\u001b[0m\u001b[0;34m(\u001b[0m\u001b[0;34m)\u001b[0m\u001b[0;34m\u001b[0m\u001b[0;34m\u001b[0m\u001b[0m\n\u001b[0m\u001b[1;32m     82\u001b[0m     \u001b[0;32mfinally\u001b[0m\u001b[0;34m:\u001b[0m\u001b[0;34m\u001b[0m\u001b[0;34m\u001b[0m\u001b[0m\n\u001b[1;32m     83\u001b[0m         \u001b[0mloader\u001b[0m\u001b[0;34m.\u001b[0m\u001b[0mdispose\u001b[0m\u001b[0;34m(\u001b[0m\u001b[0;34m)\u001b[0m\u001b[0;34m\u001b[0m\u001b[0;34m\u001b[0m\u001b[0m\n",
            "\u001b[0;32m/usr/local/lib/python3.11/dist-packages/yaml/constructor.py\u001b[0m in \u001b[0;36mget_single_data\u001b[0;34m(self)\u001b[0m\n\u001b[1;32m     47\u001b[0m     \u001b[0;32mdef\u001b[0m \u001b[0mget_single_data\u001b[0m\u001b[0;34m(\u001b[0m\u001b[0mself\u001b[0m\u001b[0;34m)\u001b[0m\u001b[0;34m:\u001b[0m\u001b[0;34m\u001b[0m\u001b[0;34m\u001b[0m\u001b[0m\n\u001b[1;32m     48\u001b[0m         \u001b[0;31m# Ensure that the stream contains a single document and construct it.\u001b[0m\u001b[0;34m\u001b[0m\u001b[0;34m\u001b[0m\u001b[0m\n\u001b[0;32m---> 49\u001b[0;31m         \u001b[0mnode\u001b[0m \u001b[0;34m=\u001b[0m \u001b[0mself\u001b[0m\u001b[0;34m.\u001b[0m\u001b[0mget_single_node\u001b[0m\u001b[0;34m(\u001b[0m\u001b[0;34m)\u001b[0m\u001b[0;34m\u001b[0m\u001b[0;34m\u001b[0m\u001b[0m\n\u001b[0m\u001b[1;32m     50\u001b[0m         \u001b[0;32mif\u001b[0m \u001b[0mnode\u001b[0m \u001b[0;32mis\u001b[0m \u001b[0;32mnot\u001b[0m \u001b[0;32mNone\u001b[0m\u001b[0;34m:\u001b[0m\u001b[0;34m\u001b[0m\u001b[0;34m\u001b[0m\u001b[0m\n\u001b[1;32m     51\u001b[0m             \u001b[0;32mreturn\u001b[0m \u001b[0mself\u001b[0m\u001b[0;34m.\u001b[0m\u001b[0mconstruct_document\u001b[0m\u001b[0;34m(\u001b[0m\u001b[0mnode\u001b[0m\u001b[0;34m)\u001b[0m\u001b[0;34m\u001b[0m\u001b[0;34m\u001b[0m\u001b[0m\n",
            "\u001b[0;32m/usr/local/lib/python3.11/dist-packages/yaml/composer.py\u001b[0m in \u001b[0;36mget_single_node\u001b[0;34m(self)\u001b[0m\n\u001b[1;32m     34\u001b[0m         \u001b[0mdocument\u001b[0m \u001b[0;34m=\u001b[0m \u001b[0;32mNone\u001b[0m\u001b[0;34m\u001b[0m\u001b[0;34m\u001b[0m\u001b[0m\n\u001b[1;32m     35\u001b[0m         \u001b[0;32mif\u001b[0m \u001b[0;32mnot\u001b[0m \u001b[0mself\u001b[0m\u001b[0;34m.\u001b[0m\u001b[0mcheck_event\u001b[0m\u001b[0;34m(\u001b[0m\u001b[0mStreamEndEvent\u001b[0m\u001b[0;34m)\u001b[0m\u001b[0;34m:\u001b[0m\u001b[0;34m\u001b[0m\u001b[0;34m\u001b[0m\u001b[0m\n\u001b[0;32m---> 36\u001b[0;31m             \u001b[0mdocument\u001b[0m \u001b[0;34m=\u001b[0m \u001b[0mself\u001b[0m\u001b[0;34m.\u001b[0m\u001b[0mcompose_document\u001b[0m\u001b[0;34m(\u001b[0m\u001b[0;34m)\u001b[0m\u001b[0;34m\u001b[0m\u001b[0;34m\u001b[0m\u001b[0m\n\u001b[0m\u001b[1;32m     37\u001b[0m \u001b[0;34m\u001b[0m\u001b[0m\n\u001b[1;32m     38\u001b[0m         \u001b[0;31m# Ensure that the stream contains no more documents.\u001b[0m\u001b[0;34m\u001b[0m\u001b[0;34m\u001b[0m\u001b[0m\n",
            "\u001b[0;32m/usr/local/lib/python3.11/dist-packages/yaml/composer.py\u001b[0m in \u001b[0;36mcompose_document\u001b[0;34m(self)\u001b[0m\n\u001b[1;32m     56\u001b[0m \u001b[0;34m\u001b[0m\u001b[0m\n\u001b[1;32m     57\u001b[0m         \u001b[0;31m# Drop the DOCUMENT-END event.\u001b[0m\u001b[0;34m\u001b[0m\u001b[0;34m\u001b[0m\u001b[0m\n\u001b[0;32m---> 58\u001b[0;31m         \u001b[0mself\u001b[0m\u001b[0;34m.\u001b[0m\u001b[0mget_event\u001b[0m\u001b[0;34m(\u001b[0m\u001b[0;34m)\u001b[0m\u001b[0;34m\u001b[0m\u001b[0;34m\u001b[0m\u001b[0m\n\u001b[0m\u001b[1;32m     59\u001b[0m \u001b[0;34m\u001b[0m\u001b[0m\n\u001b[1;32m     60\u001b[0m         \u001b[0mself\u001b[0m\u001b[0;34m.\u001b[0m\u001b[0manchors\u001b[0m \u001b[0;34m=\u001b[0m \u001b[0;34m{\u001b[0m\u001b[0;34m}\u001b[0m\u001b[0;34m\u001b[0m\u001b[0;34m\u001b[0m\u001b[0m\n",
            "\u001b[0;32m/usr/local/lib/python3.11/dist-packages/yaml/parser.py\u001b[0m in \u001b[0;36mget_event\u001b[0;34m(self)\u001b[0m\n\u001b[1;32m    116\u001b[0m         \u001b[0;32mif\u001b[0m \u001b[0mself\u001b[0m\u001b[0;34m.\u001b[0m\u001b[0mcurrent_event\u001b[0m \u001b[0;32mis\u001b[0m \u001b[0;32mNone\u001b[0m\u001b[0;34m:\u001b[0m\u001b[0;34m\u001b[0m\u001b[0;34m\u001b[0m\u001b[0m\n\u001b[1;32m    117\u001b[0m             \u001b[0;32mif\u001b[0m \u001b[0mself\u001b[0m\u001b[0;34m.\u001b[0m\u001b[0mstate\u001b[0m\u001b[0;34m:\u001b[0m\u001b[0;34m\u001b[0m\u001b[0;34m\u001b[0m\u001b[0m\n\u001b[0;32m--> 118\u001b[0;31m                 \u001b[0mself\u001b[0m\u001b[0;34m.\u001b[0m\u001b[0mcurrent_event\u001b[0m \u001b[0;34m=\u001b[0m \u001b[0mself\u001b[0m\u001b[0;34m.\u001b[0m\u001b[0mstate\u001b[0m\u001b[0;34m(\u001b[0m\u001b[0;34m)\u001b[0m\u001b[0;34m\u001b[0m\u001b[0;34m\u001b[0m\u001b[0m\n\u001b[0m\u001b[1;32m    119\u001b[0m         \u001b[0mvalue\u001b[0m \u001b[0;34m=\u001b[0m \u001b[0mself\u001b[0m\u001b[0;34m.\u001b[0m\u001b[0mcurrent_event\u001b[0m\u001b[0;34m\u001b[0m\u001b[0;34m\u001b[0m\u001b[0m\n\u001b[1;32m    120\u001b[0m         \u001b[0mself\u001b[0m\u001b[0;34m.\u001b[0m\u001b[0mcurrent_event\u001b[0m \u001b[0;34m=\u001b[0m \u001b[0;32mNone\u001b[0m\u001b[0;34m\u001b[0m\u001b[0;34m\u001b[0m\u001b[0m\n",
            "\u001b[0;32m/usr/local/lib/python3.11/dist-packages/yaml/parser.py\u001b[0m in \u001b[0;36mparse_document_end\u001b[0;34m(self)\u001b[0m\n\u001b[1;32m    191\u001b[0m \u001b[0;34m\u001b[0m\u001b[0m\n\u001b[1;32m    192\u001b[0m         \u001b[0;31m# Parse the document end.\u001b[0m\u001b[0;34m\u001b[0m\u001b[0;34m\u001b[0m\u001b[0m\n\u001b[0;32m--> 193\u001b[0;31m         \u001b[0mtoken\u001b[0m \u001b[0;34m=\u001b[0m \u001b[0mself\u001b[0m\u001b[0;34m.\u001b[0m\u001b[0mpeek_token\u001b[0m\u001b[0;34m(\u001b[0m\u001b[0;34m)\u001b[0m\u001b[0;34m\u001b[0m\u001b[0;34m\u001b[0m\u001b[0m\n\u001b[0m\u001b[1;32m    194\u001b[0m         \u001b[0mstart_mark\u001b[0m \u001b[0;34m=\u001b[0m \u001b[0mend_mark\u001b[0m \u001b[0;34m=\u001b[0m \u001b[0mtoken\u001b[0m\u001b[0;34m.\u001b[0m\u001b[0mstart_mark\u001b[0m\u001b[0;34m\u001b[0m\u001b[0;34m\u001b[0m\u001b[0m\n\u001b[1;32m    195\u001b[0m         \u001b[0mexplicit\u001b[0m \u001b[0;34m=\u001b[0m \u001b[0;32mFalse\u001b[0m\u001b[0;34m\u001b[0m\u001b[0;34m\u001b[0m\u001b[0m\n",
            "\u001b[0;32m/usr/local/lib/python3.11/dist-packages/yaml/scanner.py\u001b[0m in \u001b[0;36mpeek_token\u001b[0;34m(self)\u001b[0m\n\u001b[1;32m    127\u001b[0m         \u001b[0;31m# Return None if no more tokens.\u001b[0m\u001b[0;34m\u001b[0m\u001b[0;34m\u001b[0m\u001b[0m\n\u001b[1;32m    128\u001b[0m         \u001b[0;32mwhile\u001b[0m \u001b[0mself\u001b[0m\u001b[0;34m.\u001b[0m\u001b[0mneed_more_tokens\u001b[0m\u001b[0;34m(\u001b[0m\u001b[0;34m)\u001b[0m\u001b[0;34m:\u001b[0m\u001b[0;34m\u001b[0m\u001b[0;34m\u001b[0m\u001b[0m\n\u001b[0;32m--> 129\u001b[0;31m             \u001b[0mself\u001b[0m\u001b[0;34m.\u001b[0m\u001b[0mfetch_more_tokens\u001b[0m\u001b[0;34m(\u001b[0m\u001b[0;34m)\u001b[0m\u001b[0;34m\u001b[0m\u001b[0;34m\u001b[0m\u001b[0m\n\u001b[0m\u001b[1;32m    130\u001b[0m         \u001b[0;32mif\u001b[0m \u001b[0mself\u001b[0m\u001b[0;34m.\u001b[0m\u001b[0mtokens\u001b[0m\u001b[0;34m:\u001b[0m\u001b[0;34m\u001b[0m\u001b[0;34m\u001b[0m\u001b[0m\n\u001b[1;32m    131\u001b[0m             \u001b[0;32mreturn\u001b[0m \u001b[0mself\u001b[0m\u001b[0;34m.\u001b[0m\u001b[0mtokens\u001b[0m\u001b[0;34m[\u001b[0m\u001b[0;36m0\u001b[0m\u001b[0;34m]\u001b[0m\u001b[0;34m\u001b[0m\u001b[0;34m\u001b[0m\u001b[0m\n",
            "\u001b[0;32m/usr/local/lib/python3.11/dist-packages/yaml/scanner.py\u001b[0m in \u001b[0;36mfetch_more_tokens\u001b[0;34m(self)\u001b[0m\n\u001b[1;32m    221\u001b[0m         \u001b[0;31m# Is it the value indicator?\u001b[0m\u001b[0;34m\u001b[0m\u001b[0;34m\u001b[0m\u001b[0m\n\u001b[1;32m    222\u001b[0m         \u001b[0;32mif\u001b[0m \u001b[0mch\u001b[0m \u001b[0;34m==\u001b[0m \u001b[0;34m':'\u001b[0m \u001b[0;32mand\u001b[0m \u001b[0mself\u001b[0m\u001b[0;34m.\u001b[0m\u001b[0mcheck_value\u001b[0m\u001b[0;34m(\u001b[0m\u001b[0;34m)\u001b[0m\u001b[0;34m:\u001b[0m\u001b[0;34m\u001b[0m\u001b[0;34m\u001b[0m\u001b[0m\n\u001b[0;32m--> 223\u001b[0;31m             \u001b[0;32mreturn\u001b[0m \u001b[0mself\u001b[0m\u001b[0;34m.\u001b[0m\u001b[0mfetch_value\u001b[0m\u001b[0;34m(\u001b[0m\u001b[0;34m)\u001b[0m\u001b[0;34m\u001b[0m\u001b[0;34m\u001b[0m\u001b[0m\n\u001b[0m\u001b[1;32m    224\u001b[0m \u001b[0;34m\u001b[0m\u001b[0m\n\u001b[1;32m    225\u001b[0m         \u001b[0;31m# Is it an alias?\u001b[0m\u001b[0;34m\u001b[0m\u001b[0;34m\u001b[0m\u001b[0m\n",
            "\u001b[0;32m/usr/local/lib/python3.11/dist-packages/yaml/scanner.py\u001b[0m in \u001b[0;36mfetch_value\u001b[0;34m(self)\u001b[0m\n\u001b[1;32m    575\u001b[0m                 \u001b[0;31m# we can start a simple key.\u001b[0m\u001b[0;34m\u001b[0m\u001b[0;34m\u001b[0m\u001b[0m\n\u001b[1;32m    576\u001b[0m                 \u001b[0;32mif\u001b[0m \u001b[0;32mnot\u001b[0m \u001b[0mself\u001b[0m\u001b[0;34m.\u001b[0m\u001b[0mallow_simple_key\u001b[0m\u001b[0;34m:\u001b[0m\u001b[0;34m\u001b[0m\u001b[0;34m\u001b[0m\u001b[0m\n\u001b[0;32m--> 577\u001b[0;31m                     raise ScannerError(None, None,\n\u001b[0m\u001b[1;32m    578\u001b[0m                             \u001b[0;34m\"mapping values are not allowed here\"\u001b[0m\u001b[0;34m,\u001b[0m\u001b[0;34m\u001b[0m\u001b[0;34m\u001b[0m\u001b[0m\n\u001b[1;32m    579\u001b[0m                             self.get_mark())\n",
            "\u001b[0;31mScannerError\u001b[0m: mapping values are not allowed here\n  in \"/content/drive/Shareddrives/Letícia Vieira Gonçalves - Pesquisa/dataset/CAI-SWTB-Dataset/cai.yaml\", line 7, column 6"
          ]
        }
      ],
      "source": [
        "import yaml\n",
        "\n",
        "with open(\"/content/drive/Shareddrives/Letícia Vieira Gonçalves - Pesquisa/dataset/CAI-SWTB-Dataset/cai.yaml\", \"r\", encoding='utf-8') as f:\n",
        "    data = yaml.safe_load(f)\n",
        "print(data)"
      ]
    },
    {
      "cell_type": "code",
      "source": [
        "import os\n",
        "\n",
        "# Verifica estrutura\n",
        "train_img_path = \"/content/drive/Shareddrives/Letícia Vieira Gonçalves - Pesquisa/dataset/CAI-SWTB-Dataset/Train/Faulty\"\n",
        "train_label_path = \"/content/drive/Shareddrives/Letícia Vieira Gonçalves - Pesquisa/dataset/CAI-SWTB-Dataset/Train/annotationsF\"\n",
        "\n",
        "# Conta arquivos\n",
        "num_images = len(os.listdir(train_img_path))\n",
        "num_labels = len(os.listdir(train_label_path))\n",
        "\n",
        "print(f\"Imagens: {num_images}, Labels: {num_labels}\")\n",
        "\n",
        "# Verifica um exemplo\n",
        "if num_labels > 0:\n",
        "    sample_label = os.listdir(train_label_path)[0]\n",
        "    with open(os.path.join(train_label_path, sample_label), 'r') as f:\n",
        "        print(f\"\\nExemplo de anotação ({sample_label}):\\n{f.read()}\")"
      ],
      "metadata": {
        "colab": {
          "base_uri": "https://localhost:8080/"
        },
        "id": "AlCR81Ui_6UW",
        "outputId": "9570bdb1-5985-4968-c40d-d461663b5222"
      },
      "execution_count": 43,
      "outputs": [
        {
          "output_type": "stream",
          "name": "stdout",
          "text": [
            "Imagens: 249, Labels: 249\n",
            "\n",
            "Exemplo de anotação (Areial_Faulty359.txt):\n",
            "0 0.25 0.25 0.16666666666666666 0.16666666666666666\n",
            "\n"
          ]
        }
      ]
    },
    {
      "cell_type": "markdown",
      "metadata": {
        "id": "3WfXqcc2r7-g"
      },
      "source": [
        "Treinamento em um conjunto de dados - YOLO 8 (Maior estabilidade)"
      ]
    },
    {
      "cell_type": "code",
      "execution_count": 46,
      "metadata": {
        "colab": {
          "base_uri": "https://localhost:8080/"
        },
        "id": "dpfQDkmytnB3",
        "outputId": "c343d006-3c19-4218-f716-9122409f7e31"
      },
      "outputs": [
        {
          "output_type": "stream",
          "name": "stdout",
          "text": [
            "✅ Estrutura do dataset verificada com sucesso!\n"
          ]
        }
      ],
      "source": [
        "from ultralytics import YOLO\n",
        "import os\n",
        "\n",
        "# Verificação da estrutura do dataset\n",
        "def verify_dataset_structure():\n",
        "    # Verifique se existe o arquivo dados.yaml\n",
        "    if not os.path.exists(\"/content/drive/Shareddrives/Letícia Vieira Gonçalves - Pesquisa/dataset/CAI-SWTB-Dataset/cai.yaml\"):\n",
        "        print(\"ERRO: Arquivo dados.yaml não encontrado!\")\n",
        "        return False\n",
        "\n",
        "    # Verifique as pastas de treino e validação\n",
        "    required_folders = [\n",
        "        \"/content/drive/Shareddrives/Letícia Vieira Gonçalves - Pesquisa/dataset/CAI-SWTB-Dataset/Train/Faulty\",\n",
        "        \"/content/drive/Shareddrives/Letícia Vieira Gonçalves - Pesquisa/dataset/CAI-SWTB-Dataset/Train/annotationsF\",\n",
        "        \"/content/drive/Shareddrives/Letícia Vieira Gonçalves - Pesquisa/dataset/CAI-SWTB-Dataset/Test/Test/Faulty\",\n",
        "        \"/content/drive/Shareddrives/Letícia Vieira Gonçalves - Pesquisa/dataset/CAI-SWTB-Dataset/Test/annotationsF\"\n",
        "    ]\n",
        "\n",
        "    for folder in required_folders:\n",
        "        if not os.path.exists(folder):\n",
        "            print(f\"ERRO: Pasta não encontrada - {folder}\")\n",
        "            return False\n",
        "\n",
        "    # Verifique correspondência entre imagens e labels\n",
        "    train_images = os.listdir(required_folders[0])\n",
        "    train_labels = os.listdir(required_folders[1])\n",
        "\n",
        "    for img in train_images[:5]:  # Verifique apenas 5 para exemplo\n",
        "        label_file = os.path.splitext(img)[0] + '.txt'\n",
        "        if label_file not in train_labels:\n",
        "            print(f\"AVISO: {img} não tem label correspondente!\")\n",
        "\n",
        "    return True\n",
        "\n",
        "if not verify_dataset_structure():\n",
        "    print(\"Corrija os problemas na estrutura do dataset antes de continuar!\")\n",
        "else:\n",
        "    print(\"✅ Estrutura do dataset verificada com sucesso!\")"
      ]
    },
    {
      "cell_type": "code",
      "source": [
        "from ultralytics import YOLO\n",
        "import torch\n",
        "\n",
        "# 1. Carrega o modelo\n",
        "model = YOLO(\"yolov8n.pt\")\n",
        "\n",
        "model.names={\n",
        "    0:'Positivo',\n",
        "    1:'Negativo'\n",
        "}\n",
        "\n",
        "# 2. Configuração do treino com parâmetros otimizados\n",
        "try:\n",
        "    results = model.train(\n",
        "        data=\"/content/drive/Shareddrives/Letícia Vieira Gonçalves - Pesquisa/dataset/CAI-SWTB-Dataset/cai.yaml\",\n",
        "        epochs=50,\n",
        "        imgsz=640,\n",
        "        batch=8,\n",
        "        patience=5,\n",
        "        workers=2,\n",
        "        cache=False,  # Crucial para evitar problemas de cache\n",
        "        single_cls=False,\n",
        "        rect=False,   # Importante para datasets pequenos\n",
        "        optimizer=\"AdamW\",\n",
        "        lr0=0.001,   # Taxa de aprendizado reduzida\n",
        "        weight_decay=0.0005,\n",
        "        warmup_epochs=2,\n",
        "        hsv_h=0.015, # Aumento de dados\n",
        "        hsv_s=0.7,\n",
        "        hsv_v=0.4,\n",
        "        fliplr=0.5,\n",
        "        mosaic=1.0,\n",
        "        verbose=True\n",
        "    )\n",
        "except Exception as e:\n",
        "    print(f\"Erro durante o treinamento: {str(e)}\")\n",
        "    print(\"Soluções possíveis:\")\n",
        "    print(\"1. Verifique se todos os arquivos de label estão no formato correto\")\n",
        "    print(\"2. Confira se o arquivo dados.yaml está correto\")\n",
        "    print(\"3. Tente reduzir o batch size para 4\")"
      ],
      "metadata": {
        "colab": {
          "base_uri": "https://localhost:8080/",
          "height": 332
        },
        "id": "_iXHS1aLW9eV",
        "outputId": "3d6790cd-7e65-40af-e8cc-b824db3a05e8"
      },
      "execution_count": 61,
      "outputs": [
        {
          "output_type": "error",
          "ename": "AttributeError",
          "evalue": "property 'names' of 'YOLO' object has no setter",
          "traceback": [
            "\u001b[0;31m---------------------------------------------------------------------------\u001b[0m",
            "\u001b[0;31mAttributeError\u001b[0m                            Traceback (most recent call last)",
            "\u001b[0;32m<ipython-input-61-a834356d06ff>\u001b[0m in \u001b[0;36m<cell line: 0>\u001b[0;34m()\u001b[0m\n\u001b[1;32m      5\u001b[0m \u001b[0mmodel\u001b[0m \u001b[0;34m=\u001b[0m \u001b[0mYOLO\u001b[0m\u001b[0;34m(\u001b[0m\u001b[0;34m\"yolov8n.pt\"\u001b[0m\u001b[0;34m)\u001b[0m\u001b[0;34m\u001b[0m\u001b[0;34m\u001b[0m\u001b[0m\n\u001b[1;32m      6\u001b[0m \u001b[0;34m\u001b[0m\u001b[0m\n\u001b[0;32m----> 7\u001b[0;31m model.names={\n\u001b[0m\u001b[1;32m      8\u001b[0m     \u001b[0;36m0\u001b[0m\u001b[0;34m:\u001b[0m\u001b[0;34m'Positivo'\u001b[0m\u001b[0;34m,\u001b[0m\u001b[0;34m\u001b[0m\u001b[0;34m\u001b[0m\u001b[0m\n\u001b[1;32m      9\u001b[0m     \u001b[0;36m1\u001b[0m\u001b[0;34m:\u001b[0m\u001b[0;34m'Negativo'\u001b[0m\u001b[0;34m\u001b[0m\u001b[0;34m\u001b[0m\u001b[0m\n",
            "\u001b[0;32m/usr/local/lib/python3.11/dist-packages/torch/nn/modules/module.py\u001b[0m in \u001b[0;36m__setattr__\u001b[0;34m(self, name, value)\u001b[0m\n\u001b[1;32m   2027\u001b[0m                     \u001b[0;31m# === HACK END ===\u001b[0m\u001b[0;34m\u001b[0m\u001b[0;34m\u001b[0m\u001b[0m\n\u001b[1;32m   2028\u001b[0m                 \u001b[0;32melse\u001b[0m\u001b[0;34m:\u001b[0m\u001b[0;34m\u001b[0m\u001b[0;34m\u001b[0m\u001b[0m\n\u001b[0;32m-> 2029\u001b[0;31m                     \u001b[0msuper\u001b[0m\u001b[0;34m(\u001b[0m\u001b[0;34m)\u001b[0m\u001b[0;34m.\u001b[0m\u001b[0m__setattr__\u001b[0m\u001b[0;34m(\u001b[0m\u001b[0mname\u001b[0m\u001b[0;34m,\u001b[0m \u001b[0mvalue\u001b[0m\u001b[0;34m)\u001b[0m\u001b[0;34m\u001b[0m\u001b[0;34m\u001b[0m\u001b[0m\n\u001b[0m\u001b[1;32m   2030\u001b[0m \u001b[0;34m\u001b[0m\u001b[0m\n\u001b[1;32m   2031\u001b[0m     \u001b[0;32mdef\u001b[0m \u001b[0m__delattr__\u001b[0m\u001b[0;34m(\u001b[0m\u001b[0mself\u001b[0m\u001b[0;34m,\u001b[0m \u001b[0mname\u001b[0m\u001b[0;34m)\u001b[0m\u001b[0;34m:\u001b[0m\u001b[0;34m\u001b[0m\u001b[0;34m\u001b[0m\u001b[0m\n",
            "\u001b[0;31mAttributeError\u001b[0m: property 'names' of 'YOLO' object has no setter"
          ]
        }
      ]
    },
    {
      "cell_type": "markdown",
      "metadata": {
        "id": "G2rr96lLsSZo"
      },
      "source": [
        "Exportação do modelo"
      ]
    },
    {
      "cell_type": "code",
      "source": [
        "from google.colab import files\n",
        "\n",
        "uploaded = files.upload()"
      ],
      "metadata": {
        "colab": {
          "base_uri": "https://localhost:8080/",
          "height": 69
        },
        "id": "pGZWyNhajkLb",
        "outputId": "53b0015c-f4d1-41d0-9e78-df94bf63dfcb"
      },
      "execution_count": 53,
      "outputs": [
        {
          "output_type": "display_data",
          "data": {
            "text/plain": [
              "<IPython.core.display.HTML object>"
            ],
            "text/html": [
              "\n",
              "     <input type=\"file\" id=\"files-a8c99064-8d36-4300-9f7f-afb047755c0c\" name=\"files[]\" multiple disabled\n",
              "        style=\"border:none\" />\n",
              "     <output id=\"result-a8c99064-8d36-4300-9f7f-afb047755c0c\">\n",
              "      Upload widget is only available when the cell has been executed in the\n",
              "      current browser session. Please rerun this cell to enable.\n",
              "      </output>\n",
              "      <script>// Copyright 2017 Google LLC\n",
              "//\n",
              "// Licensed under the Apache License, Version 2.0 (the \"License\");\n",
              "// you may not use this file except in compliance with the License.\n",
              "// You may obtain a copy of the License at\n",
              "//\n",
              "//      http://www.apache.org/licenses/LICENSE-2.0\n",
              "//\n",
              "// Unless required by applicable law or agreed to in writing, software\n",
              "// distributed under the License is distributed on an \"AS IS\" BASIS,\n",
              "// WITHOUT WARRANTIES OR CONDITIONS OF ANY KIND, either express or implied.\n",
              "// See the License for the specific language governing permissions and\n",
              "// limitations under the License.\n",
              "\n",
              "/**\n",
              " * @fileoverview Helpers for google.colab Python module.\n",
              " */\n",
              "(function(scope) {\n",
              "function span(text, styleAttributes = {}) {\n",
              "  const element = document.createElement('span');\n",
              "  element.textContent = text;\n",
              "  for (const key of Object.keys(styleAttributes)) {\n",
              "    element.style[key] = styleAttributes[key];\n",
              "  }\n",
              "  return element;\n",
              "}\n",
              "\n",
              "// Max number of bytes which will be uploaded at a time.\n",
              "const MAX_PAYLOAD_SIZE = 100 * 1024;\n",
              "\n",
              "function _uploadFiles(inputId, outputId) {\n",
              "  const steps = uploadFilesStep(inputId, outputId);\n",
              "  const outputElement = document.getElementById(outputId);\n",
              "  // Cache steps on the outputElement to make it available for the next call\n",
              "  // to uploadFilesContinue from Python.\n",
              "  outputElement.steps = steps;\n",
              "\n",
              "  return _uploadFilesContinue(outputId);\n",
              "}\n",
              "\n",
              "// This is roughly an async generator (not supported in the browser yet),\n",
              "// where there are multiple asynchronous steps and the Python side is going\n",
              "// to poll for completion of each step.\n",
              "// This uses a Promise to block the python side on completion of each step,\n",
              "// then passes the result of the previous step as the input to the next step.\n",
              "function _uploadFilesContinue(outputId) {\n",
              "  const outputElement = document.getElementById(outputId);\n",
              "  const steps = outputElement.steps;\n",
              "\n",
              "  const next = steps.next(outputElement.lastPromiseValue);\n",
              "  return Promise.resolve(next.value.promise).then((value) => {\n",
              "    // Cache the last promise value to make it available to the next\n",
              "    // step of the generator.\n",
              "    outputElement.lastPromiseValue = value;\n",
              "    return next.value.response;\n",
              "  });\n",
              "}\n",
              "\n",
              "/**\n",
              " * Generator function which is called between each async step of the upload\n",
              " * process.\n",
              " * @param {string} inputId Element ID of the input file picker element.\n",
              " * @param {string} outputId Element ID of the output display.\n",
              " * @return {!Iterable<!Object>} Iterable of next steps.\n",
              " */\n",
              "function* uploadFilesStep(inputId, outputId) {\n",
              "  const inputElement = document.getElementById(inputId);\n",
              "  inputElement.disabled = false;\n",
              "\n",
              "  const outputElement = document.getElementById(outputId);\n",
              "  outputElement.innerHTML = '';\n",
              "\n",
              "  const pickedPromise = new Promise((resolve) => {\n",
              "    inputElement.addEventListener('change', (e) => {\n",
              "      resolve(e.target.files);\n",
              "    });\n",
              "  });\n",
              "\n",
              "  const cancel = document.createElement('button');\n",
              "  inputElement.parentElement.appendChild(cancel);\n",
              "  cancel.textContent = 'Cancel upload';\n",
              "  const cancelPromise = new Promise((resolve) => {\n",
              "    cancel.onclick = () => {\n",
              "      resolve(null);\n",
              "    };\n",
              "  });\n",
              "\n",
              "  // Wait for the user to pick the files.\n",
              "  const files = yield {\n",
              "    promise: Promise.race([pickedPromise, cancelPromise]),\n",
              "    response: {\n",
              "      action: 'starting',\n",
              "    }\n",
              "  };\n",
              "\n",
              "  cancel.remove();\n",
              "\n",
              "  // Disable the input element since further picks are not allowed.\n",
              "  inputElement.disabled = true;\n",
              "\n",
              "  if (!files) {\n",
              "    return {\n",
              "      response: {\n",
              "        action: 'complete',\n",
              "      }\n",
              "    };\n",
              "  }\n",
              "\n",
              "  for (const file of files) {\n",
              "    const li = document.createElement('li');\n",
              "    li.append(span(file.name, {fontWeight: 'bold'}));\n",
              "    li.append(span(\n",
              "        `(${file.type || 'n/a'}) - ${file.size} bytes, ` +\n",
              "        `last modified: ${\n",
              "            file.lastModifiedDate ? file.lastModifiedDate.toLocaleDateString() :\n",
              "                                    'n/a'} - `));\n",
              "    const percent = span('0% done');\n",
              "    li.appendChild(percent);\n",
              "\n",
              "    outputElement.appendChild(li);\n",
              "\n",
              "    const fileDataPromise = new Promise((resolve) => {\n",
              "      const reader = new FileReader();\n",
              "      reader.onload = (e) => {\n",
              "        resolve(e.target.result);\n",
              "      };\n",
              "      reader.readAsArrayBuffer(file);\n",
              "    });\n",
              "    // Wait for the data to be ready.\n",
              "    let fileData = yield {\n",
              "      promise: fileDataPromise,\n",
              "      response: {\n",
              "        action: 'continue',\n",
              "      }\n",
              "    };\n",
              "\n",
              "    // Use a chunked sending to avoid message size limits. See b/62115660.\n",
              "    let position = 0;\n",
              "    do {\n",
              "      const length = Math.min(fileData.byteLength - position, MAX_PAYLOAD_SIZE);\n",
              "      const chunk = new Uint8Array(fileData, position, length);\n",
              "      position += length;\n",
              "\n",
              "      const base64 = btoa(String.fromCharCode.apply(null, chunk));\n",
              "      yield {\n",
              "        response: {\n",
              "          action: 'append',\n",
              "          file: file.name,\n",
              "          data: base64,\n",
              "        },\n",
              "      };\n",
              "\n",
              "      let percentDone = fileData.byteLength === 0 ?\n",
              "          100 :\n",
              "          Math.round((position / fileData.byteLength) * 100);\n",
              "      percent.textContent = `${percentDone}% done`;\n",
              "\n",
              "    } while (position < fileData.byteLength);\n",
              "  }\n",
              "\n",
              "  // All done.\n",
              "  yield {\n",
              "    response: {\n",
              "      action: 'complete',\n",
              "    }\n",
              "  };\n",
              "}\n",
              "\n",
              "scope.google = scope.google || {};\n",
              "scope.google.colab = scope.google.colab || {};\n",
              "scope.google.colab._files = {\n",
              "  _uploadFiles,\n",
              "  _uploadFilesContinue,\n",
              "};\n",
              "})(self);\n",
              "</script> "
            ]
          },
          "metadata": {}
        },
        {
          "output_type": "stream",
          "name": "stdout",
          "text": [
            "Saving Areial_Healthy9.jpg to Areial_Healthy9.jpg\n"
          ]
        }
      ]
    },
    {
      "cell_type": "code",
      "source": [
        "from ultralytics import YOLO\n",
        "\n",
        "model = YOLO(\"/content/runs/segment/train/weights/best.pt\")  # Ajuste o caminho se necessário\n"
      ],
      "metadata": {
        "id": "5gIl-gj_lF_S"
      },
      "execution_count": 54,
      "outputs": []
    },
    {
      "cell_type": "code",
      "source": [
        "import cv2\n",
        "from matplotlib import pyplot as plt\n",
        "\n",
        "# Nome do arquivo carregado\n",
        "image_path = list(uploaded.keys())[0]\n",
        "\n",
        "# Fazer a previsão com o modelo\n",
        "results = model(image_path)\n",
        "\n",
        "# Mostrar a imagem de saída\n",
        "results[0].show()"
      ],
      "metadata": {
        "colab": {
          "base_uri": "https://localhost:8080/",
          "height": 369
        },
        "id": "vIPOJntplIEs",
        "outputId": "6e053084-6551-4530-8aba-2beae36c9031"
      },
      "execution_count": 55,
      "outputs": [
        {
          "output_type": "stream",
          "name": "stdout",
          "text": [
            "\n",
            "image 1/1 /content/Areial_Healthy9.jpg: 640x640 (no detections), 28.0ms\n",
            "Speed: 4.2ms preprocess, 28.0ms inference, 0.8ms postprocess per image at shape (1, 3, 640, 640)\n"
          ]
        },
        {
          "output_type": "display_data",
          "data": {
            "text/plain": [
              "<PIL.Image.Image image mode=RGB size=300x300>"
            ],
            "image/png": "[encoded data removed]",
            "image/jpeg": "[encoded data removed]"
          },
          "metadata": {}
        }
      ]
    },
    {
      "cell_type": "code",
      "source": [
        "results = model(image_path)  # Fazer a inferência"
      ],
      "metadata": {
        "colab": {
          "base_uri": "https://localhost:8080/"
        },
        "id": "bnLxZzCHozxG",
        "outputId": "8d1e9f92-0b13-48a5-d0be-521402969d02"
      },
      "execution_count": 60,
      "outputs": [
        {
          "output_type": "stream",
          "name": "stdout",
          "text": [
            "\n",
            "image 1/1 /content/Areial_Healthy9.jpg: 640x640 (no detections), 19.4ms\n",
            "Speed: 2.9ms preprocess, 19.4ms inference, 0.6ms postprocess per image at shape (1, 3, 640, 640)\n"
          ]
        }
      ]
    },
    {
      "cell_type": "code",
      "source": [
        "# Ver as classes do modelo treinado\n",
        "print(model.names)"
      ],
      "metadata": {
        "colab": {
          "base_uri": "https://localhost:8080/"
        },
        "id": "x-iM1ehtpJTi",
        "outputId": "7bbf97e2-07ad-4736-fba6-ecf30f2ce417"
      },
      "execution_count": 57,
      "outputs": [
        {
          "output_type": "stream",
          "name": "stdout",
          "text": [
            "{0: 'person', 1: 'bicycle', 2: 'car', 3: 'motorcycle', 4: 'airplane', 5: 'bus', 6: 'train', 7: 'truck', 8: 'boat', 9: 'traffic light', 10: 'fire hydrant', 11: 'stop sign', 12: 'parking meter', 13: 'bench', 14: 'bird', 15: 'cat', 16: 'dog', 17: 'horse', 18: 'sheep', 19: 'cow', 20: 'elephant', 21: 'bear', 22: 'zebra', 23: 'giraffe', 24: 'backpack', 25: 'umbrella', 26: 'handbag', 27: 'tie', 28: 'suitcase', 29: 'frisbee', 30: 'skis', 31: 'snowboard', 32: 'sports ball', 33: 'kite', 34: 'baseball bat', 35: 'baseball glove', 36: 'skateboard', 37: 'surfboard', 38: 'tennis racket', 39: 'bottle', 40: 'wine glass', 41: 'cup', 42: 'fork', 43: 'knife', 44: 'spoon', 45: 'bowl', 46: 'banana', 47: 'apple', 48: 'sandwich', 49: 'orange', 50: 'broccoli', 51: 'carrot', 52: 'hot dog', 53: 'pizza', 54: 'donut', 55: 'cake', 56: 'chair', 57: 'couch', 58: 'potted plant', 59: 'bed', 60: 'dining table', 61: 'toilet', 62: 'tv', 63: 'laptop', 64: 'mouse', 65: 'remote', 66: 'keyboard', 67: 'cell phone', 68: 'microwave', 69: 'oven', 70: 'toaster', 71: 'sink', 72: 'refrigerator', 73: 'book', 74: 'clock', 75: 'vase', 76: 'scissors', 77: 'teddy bear', 78: 'hair drier', 79: 'toothbrush'}\n"
          ]
        }
      ]
    },
    {
      "cell_type": "code",
      "source": [
        "pip install labelImg"
      ],
      "metadata": {
        "id": "Z3JsP_oZS2j3",
        "outputId": "2cdc25d2-27f4-4ae3-b790-26ed35e2313f",
        "colab": {
          "base_uri": "https://localhost:8080/"
        }
      },
      "execution_count": null,
      "outputs": [
        {
          "output_type": "stream",
          "name": "stdout",
          "text": [
            "Collecting labelImg\n",
            "  Downloading labelImg-1.8.6.tar.gz (247 kB)\n",
            "\u001b[?25l     \u001b[90m━━━━━━━━━━━━━━━━━━━━━━━━━━━━━━━━━━━━━━━━\u001b[0m \u001b[32m0.0/247.7 kB\u001b[0m \u001b[31m?\u001b[0m eta \u001b[36m-:--:--\u001b[0m\r\u001b[2K     \u001b[91m━━━━━━━━━━━━━━━━━━━━━━━━━━━━━━━━━━━━━━━\u001b[0m\u001b[91m╸\u001b[0m \u001b[32m245.8/247.7 kB\u001b[0m \u001b[31m9.5 MB/s\u001b[0m eta \u001b[36m0:00:01\u001b[0m\r\u001b[2K     \u001b[90m━━━━━━━━━━━━━━━━━━━━━━━━━━━━━━━━━━━━━━━━\u001b[0m \u001b[32m247.7/247.7 kB\u001b[0m \u001b[31m6.7 MB/s\u001b[0m eta \u001b[36m0:00:00\u001b[0m\n",
            "\u001b[?25h  Preparing metadata (setup.py) ... \u001b[?25l\u001b[?25hdone\n",
            "Collecting pyqt5 (from labelImg)\n",
            "  Downloading PyQt5-5.15.11-cp38-abi3-manylinux_2_17_x86_64.whl.metadata (2.1 kB)\n",
            "Requirement already satisfied: lxml in /usr/local/lib/python3.11/dist-packages (from labelImg) (5.3.1)\n",
            "Collecting PyQt5-sip<13,>=12.15 (from pyqt5->labelImg)\n",
            "  Downloading PyQt5_sip-12.17.0-cp311-cp311-manylinux_2_5_x86_64.manylinux1_x86_64.whl.metadata (472 bytes)\n",
            "Collecting PyQt5-Qt5<5.16.0,>=5.15.2 (from pyqt5->labelImg)\n",
            "  Downloading PyQt5_Qt5-5.15.16-1-py3-none-manylinux2014_x86_64.whl.metadata (536 bytes)\n",
            "Downloading PyQt5-5.15.11-cp38-abi3-manylinux_2_17_x86_64.whl (8.2 MB)\n",
            "\u001b[2K   \u001b[90m━━━━━━━━━━━━━━━━━━━━━━━━━━━━━━━━━━━━━━━━\u001b[0m \u001b[32m8.2/8.2 MB\u001b[0m \u001b[31m91.0 MB/s\u001b[0m eta \u001b[36m0:00:00\u001b[0m\n",
            "\u001b[?25hDownloading PyQt5_Qt5-5.15.16-1-py3-none-manylinux2014_x86_64.whl (61.1 MB)\n",
            "\u001b[2K   \u001b[90m━━━━━━━━━━━━━━━━━━━━━━━━━━━━━━━━━━━━━━━━\u001b[0m \u001b[32m61.1/61.1 MB\u001b[0m \u001b[31m13.5 MB/s\u001b[0m eta \u001b[36m0:00:00\u001b[0m\n",
            "\u001b[?25hDownloading PyQt5_sip-12.17.0-cp311-cp311-manylinux_2_5_x86_64.manylinux1_x86_64.whl (276 kB)\n",
            "\u001b[2K   \u001b[90m━━━━━━━━━━━━━━━━━━━━━━━━━━━━━━━━━━━━━━━━\u001b[0m \u001b[32m276.4/276.4 kB\u001b[0m \u001b[31m24.6 MB/s\u001b[0m eta \u001b[36m0:00:00\u001b[0m\n",
            "\u001b[?25hBuilding wheels for collected packages: labelImg\n",
            "  Building wheel for labelImg (setup.py) ... \u001b[?25l\u001b[?25hdone\n",
            "  Created wheel for labelImg: filename=labelImg-1.8.6-py2.py3-none-any.whl size=261521 sha256=8c39533495ed7f29c7d76b3c38904f94a7d1b5023b63575760598fe3baaea5a5\n",
            "  Stored in directory: /root/.cache/pip/wheels/79/90/db/e0700438d3647c0209061d77992c901d3c786a56fec574ac86\n",
            "Successfully built labelImg\n",
            "Installing collected packages: PyQt5-Qt5, PyQt5-sip, pyqt5, labelImg\n",
            "Successfully installed PyQt5-Qt5-5.15.16 PyQt5-sip-12.17.0 labelImg-1.8.6 pyqt5-5.15.11\n"
          ]
        }
      ]
    },
    {
      "cell_type": "markdown",
      "source": [
        "Create test folder with the labels"
      ],
      "metadata": {
        "id": "OdAum478TSRO"
      }
    },
    {
      "cell_type": "code",
      "source": [
        "import os\n",
        "import shutil"
      ],
      "metadata": {
        "id": "GWwRdXgCTS2Z"
      },
      "execution_count": null,
      "outputs": []
    },
    {
      "cell_type": "code",
      "source": [
        "origem1 = '/content/drive/Shareddrives/Letícia Vieira Gonçalves - Pesquisa/dataset/CAI-SWTB-Dataset/Test/annotationsF'\n",
        "origem2 = '/content/drive/Shareddrives/Letícia Vieira Gonçalves - Pesquisa/dataset/CAI-SWTB-Dataset/Test/annotationsH'\n",
        "destino = '/content/drive/Shareddrives/Letícia Vieira Gonçalves - Pesquisa/dataset/CAI-SWTB-Dataset/Test/annotations'"
      ],
      "metadata": {
        "id": "pUrirKfhTgZc"
      },
      "execution_count": null,
      "outputs": []
    },
    {
      "cell_type": "code",
      "source": [
        "from ultralytics import YOLO\n",
        "\n",
        "# Carregar o modelo treinado\n",
        "model = YOLO(\"/content/runs/segment/train/weights/best.pt\")  # Ajuste o caminho se necessário\n",
        "\n",
        "# Validar o modelo\n",
        "metrics = model.val()  # Executa a validação no conjunto de validação\n",
        "\n",
        "# Exibir métricas principais\n",
        "print(f\"mAP50-95 (Box): {metrics.box.map:.3f}\")\n",
        "print(f\"mAP50 (Box): {metrics.box.map50:.3f}\")\n",
        "print(f\"mAP75 (Box): {metrics.box.map75:.3f}\")\n",
        "\n",
        "print(f\"mAP50-95 (Mask): {metrics.seg.map:.3f}\")\n",
        "print(f\"mAP50 (Mask): {metrics.seg.map50:.3f}\")\n",
        "print(f\"mAP75 (Mask): {metrics.seg.map75:.3f}\")"
      ],
      "metadata": {
        "colab": {
          "base_uri": "https://localhost:8080/"
        },
        "id": "Nenv9-jNkbaQ",
        "outputId": "29b83319-95ff-44a7-a470-967e4c6bf136"
      },
      "execution_count": 59,
      "outputs": [
        {
          "output_type": "stream",
          "name": "stdout",
          "text": [
            "Ultralytics 8.3.104 🚀 Python-3.11.11 torch-2.6.0+cu124 CUDA:0 (Tesla T4, 15095MiB)\n",
            "YOLO11n-seg summary (fused): 113 layers, 2,868,664 parameters, 0 gradients, 10.4 GFLOPs\n"
          ]
        },
        {
          "output_type": "stream",
          "name": "stderr",
          "text": [
            "\u001b[34m\u001b[1mval: \u001b[0mScanning /content/datasets/coco8-seg/labels/val.cache... 4 images, 0 backgrounds, 0 corrupt: 100%|██████████| 4/4 [00:00<?, ?it/s]\n",
            "                 Class     Images  Instances      Box(P          R      mAP50  mAP50-95)     Mask(P          R      mAP50  mAP50-95):   0%|          | 0/1 [00:00<?, ?it/s]"
          ]
        },
        {
          "output_type": "stream",
          "name": "stdout",
          "text": [
            "WARNING ⚠️ Limiting validation plots to first 50 items per image for speed...\n",
            "WARNING ⚠️ Limiting validation plots to first 50 items per image for speed...\n",
            "WARNING ⚠️ Limiting validation plots to first 50 items per image for speed...\n",
            "WARNING ⚠️ Limiting validation plots to first 50 items per image for speed...\n"
          ]
        },
        {
          "output_type": "stream",
          "name": "stderr",
          "text": [
            "                 Class     Images  Instances      Box(P          R      mAP50  mAP50-95)     Mask(P          R      mAP50  mAP50-95): 100%|██████████| 1/1 [00:00<00:00,  4.10it/s]\n"
          ]
        },
        {
          "output_type": "stream",
          "name": "stdout",
          "text": [
            "                   all          4         17       0.58       0.85      0.878      0.636       0.28      0.383      0.399      0.127\n",
            "                person          3         10      0.569        0.6      0.593      0.278      0.284        0.3      0.312     0.0394\n",
            "                   dog          1          1       0.55          1      0.995      0.697       0.55          1      0.995      0.199\n",
            "                 horse          1          2       0.58          1      0.995      0.674          0          0          0          0\n",
            "              elephant          1          2      0.366        0.5      0.695      0.275          0          0      0.094     0.0239\n",
            "              umbrella          1          1      0.569          1      0.995      0.995          0          0          0          0\n",
            "          potted plant          1          1      0.848          1      0.995      0.895      0.848          1      0.995      0.497\n",
            "Speed: 0.6ms preprocess, 32.2ms inference, 0.0ms loss, 2.0ms postprocess per image\n",
            "Results saved to \u001b[1mruns/segment/val6\u001b[0m\n",
            "mAP50-95 (Box): 0.636\n",
            "mAP50 (Box): 0.878\n",
            "mAP75 (Box): 0.693\n",
            "mAP50-95 (Mask): 0.127\n",
            "mAP50 (Mask): 0.399\n",
            "mAP75 (Mask): 0.000\n"
          ]
        }
      ]
    },
    {
      "cell_type": "code",
      "source": [
        "os.makedirs(destino, exist_ok=True)\n",
        "\n",
        "# Função para copiar os arquivos\n",
        "def copiar_labels(origem):\n",
        "    for arquivo in os.listdir(origem):\n",
        "        if arquivo.endswith('.txt'):\n",
        "            origem_arquivo = os.path.join(origem, arquivo)\n",
        "            destino_arquivo = os.path.join(destino, arquivo)\n",
        "\n",
        "            # Evita sobrescrever arquivos com mesmo nome\n",
        "            if os.path.exists(destino_arquivo):\n",
        "                print(f\"Arquivo já existe e será sobrescrito: {arquivo}\")\n",
        "\n",
        "            shutil.copy2(origem_arquivo, destino_arquivo)\n",
        "\n",
        "# Copiar das duas pastas\n",
        "copiar_labels(origem1)\n",
        "copiar_labels(origem2)\n",
        "\n",
        "print(\"Labels concluidas!\")"
      ],
      "metadata": {
        "id": "TuW3wNoATgoD",
        "outputId": "172babbd-26e7-48f2-b9c7-3107d1e9d7da",
        "colab": {
          "base_uri": "https://localhost:8080/"
        }
      },
      "execution_count": 58,
      "outputs": [
        {
          "output_type": "stream",
          "name": "stdout",
          "text": [
            "Arquivo já existe e será sobrescrito: Areial_Faulty27.txt\n",
            "Arquivo já existe e será sobrescrito: Areial_Faulty441.txt\n",
            "Arquivo já existe e será sobrescrito: Areial_Faulty212.txt\n",
            "Arquivo já existe e será sobrescrito: Areial_Faulty475.txt\n",
            "Arquivo já existe e será sobrescrito: Areial_Faulty336.txt\n",
            "Arquivo já existe e será sobrescrito: Areial_Faulty382.txt\n",
            "Arquivo já existe e será sobrescrito: Areial_Faulty110.txt\n",
            "Arquivo já existe e será sobrescrito: Areial_Faulty471.txt\n",
            "Arquivo já existe e será sobrescrito: Areial_Faulty280.txt\n",
            "Arquivo já existe e será sobrescrito: Areial_Faulty232.txt\n",
            "Arquivo já existe e será sobrescrito: Areial_Faulty215.txt\n",
            "Arquivo já existe e será sobrescrito: Areial_Faulty230.txt\n",
            "Arquivo já existe e será sobrescrito: Areial_Faulty193.txt\n",
            "Arquivo já existe e será sobrescrito: Areial_Faulty134.txt\n",
            "Arquivo já existe e será sobrescrito: Areial_Faulty420.txt\n",
            "Arquivo já existe e será sobrescrito: Areial_Faulty5.txt\n",
            "Arquivo já existe e será sobrescrito: Areial_Faulty451.txt\n",
            "Arquivo já existe e será sobrescrito: Areial_Faulty371.txt\n",
            "Arquivo já existe e será sobrescrito: Areial_Faulty255.txt\n",
            "Arquivo já existe e será sobrescrito: Areial_Faulty421.txt\n",
            "Arquivo já existe e será sobrescrito: Areial_Faulty289.txt\n",
            "Arquivo já existe e será sobrescrito: Areial_Faulty165.txt\n",
            "Arquivo já existe e será sobrescrito: Areial_Faulty498.txt\n",
            "Arquivo já existe e será sobrescrito: Areial_Faulty308.txt\n",
            "Arquivo já existe e será sobrescrito: Areial_Faulty118.txt\n",
            "Arquivo já existe e será sobrescrito: Areial_Faulty390.txt\n",
            "Arquivo já existe e será sobrescrito: Areial_Faulty415.txt\n",
            "Arquivo já existe e será sobrescrito: Areial_Faulty431.txt\n",
            "Arquivo já existe e será sobrescrito: Areial_Faulty423.txt\n",
            "Arquivo já existe e será sobrescrito: Areial_Faulty309.txt\n",
            "Arquivo já existe e será sobrescrito: Areial_Faulty391.txt\n",
            "Arquivo já existe e será sobrescrito: Areial_Faulty389.txt\n",
            "Arquivo já existe e será sobrescrito: Areial_Faulty356.txt\n",
            "Arquivo já existe e será sobrescrito: Areial_Faulty450.txt\n",
            "Arquivo já existe e será sobrescrito: Areial_Faulty47.txt\n",
            "Arquivo já existe e será sobrescrito: Areial_Faulty321.txt\n",
            "Arquivo já existe e será sobrescrito: Areial_Faulty46.txt\n",
            "Arquivo já existe e será sobrescrito: Areial_Faulty748.txt\n",
            "Arquivo já existe e será sobrescrito: Areial_Faulty74.txt\n",
            "Arquivo já existe e será sobrescrito: Areial_Faulty792.txt\n",
            "Arquivo já existe e será sobrescrito: Areial_Faulty526.txt\n",
            "Arquivo já existe e será sobrescrito: Areial_Faulty527.txt\n",
            "Arquivo já existe e será sobrescrito: Areial_Faulty612.txt\n",
            "Arquivo já existe e será sobrescrito: Areial_Faulty724.txt\n",
            "Arquivo já existe e será sobrescrito: Areial_Faulty696.txt\n",
            "Arquivo já existe e será sobrescrito: Areial_Faulty65.txt\n",
            "Arquivo já existe e será sobrescrito: Areial_Faulty649.txt\n",
            "Arquivo já existe e será sobrescrito: Areial_Faulty822.txt\n",
            "Arquivo já existe e será sobrescrito: Areial_Faulty844.txt\n",
            "Arquivo já existe e será sobrescrito: Areial_Faulty636.txt\n",
            "Arquivo já existe e será sobrescrito: Areial_Faulty772.txt\n",
            "Arquivo já existe e será sobrescrito: Areial_Faulty57.txt\n",
            "Arquivo já existe e será sobrescrito: Areial_Faulty692.txt\n",
            "Arquivo já existe e será sobrescrito: Areial_Faulty61.txt\n",
            "Arquivo já existe e será sobrescrito: Areial_Faulty883.txt\n",
            "Arquivo já existe e será sobrescrito: Areial_Faulty596.txt\n",
            "Arquivo já existe e será sobrescrito: Areial_Faulty773.txt\n",
            "Arquivo já existe e será sobrescrito: Areial_Faulty73.txt\n",
            "Arquivo já existe e será sobrescrito: Areial_Faulty873.txt\n",
            "Arquivo já existe e será sobrescrito: Areial_Faulty78.txt\n",
            "Arquivo já existe e será sobrescrito: Areial_Faulty717.txt\n",
            "Arquivo já existe e será sobrescrito: Areial_Faulty514.txt\n",
            "Arquivo já existe e será sobrescrito: Areial_Faulty639.txt\n",
            "Arquivo já existe e será sobrescrito: Areial_Faulty82.txt\n",
            "Arquivo já existe e será sobrescrito: Areial_Faulty842.txt\n",
            "Arquivo já existe e será sobrescrito: Areial_Faulty523.txt\n",
            "Arquivo já existe e será sobrescrito: Areial_Faulty863.txt\n",
            "Arquivo já existe e será sobrescrito: Areial_Faulty777.txt\n",
            "Arquivo já existe e será sobrescrito: Areial_Faulty669.txt\n",
            "Arquivo já existe e será sobrescrito: Areial_Faulty674.txt\n",
            "Arquivo já existe e será sobrescrito: Areial_Faulty654.txt\n",
            "Arquivo já existe e será sobrescrito: Areial_Faulty707.txt\n",
            "Arquivo já existe e será sobrescrito: Areial_Faulty671.txt\n",
            "Arquivo já existe e será sobrescrito: Areial_Faulty853.txt\n",
            "Arquivo já existe e será sobrescrito: Areial_Faulty775.txt\n",
            "Arquivo já existe e será sobrescrito: Areial_Faulty678.txt\n",
            "Arquivo já existe e será sobrescrito: Areial_Faulty513.txt\n",
            "Arquivo já existe e será sobrescrito: Areial_Faulty864.txt\n",
            "Arquivo já existe e será sobrescrito: Areial_Faulty740.txt\n",
            "Arquivo já existe e será sobrescrito: Areial_Faulty865.txt\n",
            "Arquivo já existe e será sobrescrito: Areial_Faulty711.txt\n",
            "Arquivo já existe e será sobrescrito: Areial_Faulty746.txt\n",
            "Arquivo já existe e será sobrescrito: Areial_Faulty701.txt\n",
            "Arquivo já existe e será sobrescrito: Areial_Faulty608.txt\n",
            "Arquivo já existe e será sobrescrito: Areial_Faulty750.txt\n",
            "Arquivo já existe e será sobrescrito: Areial_Faulty586.txt\n",
            "Arquivo já existe e será sobrescrito: Areial_Faulty887.txt\n",
            "Arquivo já existe e será sobrescrito: Faulty_Validation112.txt\n",
            "Arquivo já existe e será sobrescrito: Faulty_Validation115.txt\n",
            "Arquivo já existe e será sobrescrito: Faulty_Validation102.txt\n",
            "Arquivo já existe e será sobrescrito: Faulty_Validation111.txt\n",
            "Arquivo já existe e será sobrescrito: Faulty_Validation104.txt\n",
            "Arquivo já existe e será sobrescrito: Areial_Faulty894.txt\n",
            "Arquivo já existe e será sobrescrito: Faulty_Validation110.txt\n",
            "Arquivo já existe e será sobrescrito: Faulty_Validation122.txt\n",
            "Arquivo já existe e será sobrescrito: Faulty_Validation123.txt\n",
            "Arquivo já existe e será sobrescrito: Faulty_Validation113.txt\n",
            "Arquivo já existe e será sobrescrito: Faulty_Validation10.txt\n",
            "Arquivo já existe e será sobrescrito: Faulty_Validation11.txt\n",
            "Arquivo já existe e será sobrescrito: Faulty_Validation128.txt\n",
            "Arquivo já existe e será sobrescrito: Areial_Faulty920.txt\n",
            "Arquivo já existe e será sobrescrito: Faulty_Validation13.txt\n",
            "Arquivo já existe e será sobrescrito: Faulty_Validation125.txt\n",
            "Arquivo já existe e será sobrescrito: Faulty_Validation106.txt\n",
            "Arquivo já existe e será sobrescrito: Faulty_Validation130.txt\n",
            "Arquivo já existe e será sobrescrito: Areial_Faulty95.txt\n",
            "Arquivo já existe e será sobrescrito: Areial_Faulty997.txt\n",
            "Arquivo já existe e será sobrescrito: Faulty_Validation121.txt\n",
            "Arquivo já existe e será sobrescrito: Areial_Faulty972.txt\n",
            "Arquivo já existe e será sobrescrito: Areial_Faulty922.txt\n",
            "Arquivo já existe e será sobrescrito: Areial_Faulty948.txt\n",
            "Arquivo já existe e será sobrescrito: Faulty_Validation108.txt\n",
            "Arquivo já existe e será sobrescrito: Faulty_Validation131.txt\n",
            "Arquivo já existe e será sobrescrito: Areial_Faulty994.txt\n",
            "Arquivo já existe e será sobrescrito: Faulty_Validation118.txt\n",
            "Arquivo já existe e será sobrescrito: Areial_Faulty978.txt\n",
            "Arquivo já existe e será sobrescrito: Faulty_Validation124.txt\n",
            "Arquivo já existe e será sobrescrito: Faulty_Validation103.txt\n",
            "Arquivo já existe e será sobrescrito: Faulty_Validation1.txt\n",
            "Arquivo já existe e será sobrescrito: Faulty_Validation109.txt\n",
            "Arquivo já existe e será sobrescrito: Areial_Faulty931.txt\n",
            "Arquivo já existe e será sobrescrito: Areial_Faulty960.txt\n",
            "Arquivo já existe e será sobrescrito: Faulty_Validation100.txt\n",
            "Arquivo já existe e será sobrescrito: Faulty_Validation117.txt\n",
            "Arquivo já existe e será sobrescrito: Faulty_Validation107.txt\n",
            "Arquivo já existe e será sobrescrito: Areial_Faulty969.txt\n",
            "Arquivo já existe e será sobrescrito: Faulty_Validation126.txt\n",
            "Arquivo já existe e será sobrescrito: Faulty_Validation127.txt\n",
            "Arquivo já existe e será sobrescrito: Faulty_Validation101.txt\n",
            "Arquivo já existe e será sobrescrito: Faulty_Validation105.txt\n",
            "Arquivo já existe e será sobrescrito: Faulty_Validation116.txt\n",
            "Arquivo já existe e será sobrescrito: Faulty_Validation12.txt\n",
            "Arquivo já existe e será sobrescrito: Faulty_Validation129.txt\n",
            "Arquivo já existe e será sobrescrito: Faulty_Validation119.txt\n",
            "Arquivo já existe e será sobrescrito: Faulty_Validation120.txt\n",
            "Arquivo já existe e será sobrescrito: Areial_Faulty998.txt\n",
            "Arquivo já existe e será sobrescrito: Faulty_Validation114.txt\n",
            "Arquivo já existe e será sobrescrito: Faulty_Validation169.txt\n",
            "Arquivo já existe e será sobrescrito: Faulty_Validation146.txt\n",
            "Arquivo já existe e será sobrescrito: Faulty_Validation173.txt\n",
            "Arquivo já existe e será sobrescrito: Faulty_Validation174.txt\n",
            "Arquivo já existe e será sobrescrito: Faulty_Validation176.txt\n",
            "Arquivo já existe e será sobrescrito: Faulty_Validation167.txt\n",
            "Arquivo já existe e será sobrescrito: Faulty_Validation145.txt\n",
            "Arquivo já existe e será sobrescrito: Faulty_Validation139.txt\n",
            "Arquivo já existe e será sobrescrito: Faulty_Validation135.txt\n",
            "Arquivo já existe e será sobrescrito: Faulty_Validation138.txt\n",
            "Arquivo já existe e será sobrescrito: Faulty_Validation16.txt\n",
            "Arquivo já existe e será sobrescrito: Faulty_Validation140.txt\n",
            "Arquivo já existe e será sobrescrito: Faulty_Validation156.txt\n",
            "Arquivo já existe e será sobrescrito: Faulty_Validation158.txt\n",
            "Arquivo já existe e será sobrescrito: Faulty_Validation175.txt\n",
            "Arquivo já existe e será sobrescrito: Faulty_Validation155.txt\n",
            "Arquivo já existe e será sobrescrito: Faulty_Validation137.txt\n",
            "Arquivo já existe e será sobrescrito: Faulty_Validation153.txt\n",
            "Arquivo já existe e será sobrescrito: Faulty_Validation164.txt\n",
            "Arquivo já existe e será sobrescrito: Faulty_Validation147.txt\n",
            "Arquivo já existe e será sobrescrito: Faulty_Validation150.txt\n",
            "Arquivo já existe e será sobrescrito: Faulty_Validation166.txt\n",
            "Arquivo já existe e será sobrescrito: Faulty_Validation162.txt\n",
            "Arquivo já existe e será sobrescrito: Faulty_Validation144.txt\n",
            "Arquivo já existe e será sobrescrito: Faulty_Validation165.txt\n",
            "Arquivo já existe e será sobrescrito: Faulty_Validation157.txt\n",
            "Arquivo já existe e será sobrescrito: Faulty_Validation142.txt\n",
            "Arquivo já existe e será sobrescrito: Faulty_Validation168.txt\n",
            "Arquivo já existe e será sobrescrito: Faulty_Validation143.txt\n",
            "Arquivo já existe e será sobrescrito: Faulty_Validation149.txt\n",
            "Arquivo já existe e será sobrescrito: Faulty_Validation134.txt\n",
            "Arquivo já existe e será sobrescrito: Faulty_Validation17.txt\n",
            "Arquivo já existe e será sobrescrito: Faulty_Validation15.txt\n",
            "Arquivo já existe e será sobrescrito: Faulty_Validation148.txt\n",
            "Arquivo já existe e será sobrescrito: Faulty_Validation160.txt\n",
            "Arquivo já existe e será sobrescrito: Faulty_Validation132.txt\n",
            "Arquivo já existe e será sobrescrito: Faulty_Validation163.txt\n",
            "Arquivo já existe e será sobrescrito: Faulty_Validation133.txt\n",
            "Arquivo já existe e será sobrescrito: Faulty_Validation151.txt\n",
            "Arquivo já existe e será sobrescrito: Faulty_Validation171.txt\n",
            "Arquivo já existe e será sobrescrito: Faulty_Validation14.txt\n",
            "Arquivo já existe e será sobrescrito: Faulty_Validation161.txt\n",
            "Arquivo já existe e será sobrescrito: Faulty_Validation172.txt\n",
            "Arquivo já existe e será sobrescrito: Faulty_Validation141.txt\n",
            "Arquivo já existe e será sobrescrito: Faulty_Validation159.txt\n",
            "Arquivo já existe e será sobrescrito: Faulty_Validation152.txt\n",
            "Arquivo já existe e será sobrescrito: Faulty_Validation154.txt\n",
            "Arquivo já existe e será sobrescrito: Faulty_Validation136.txt\n",
            "Arquivo já existe e será sobrescrito: Faulty_Validation170.txt\n",
            "Arquivo já existe e será sobrescrito: Faulty_Validation28.txt\n",
            "Arquivo já existe e será sobrescrito: Faulty_Validation2.txt\n",
            "Arquivo já existe e será sobrescrito: Faulty_Validation192.txt\n",
            "Arquivo já existe e será sobrescrito: Faulty_Validation178.txt\n",
            "Arquivo já existe e será sobrescrito: Faulty_Validation186.txt\n",
            "Arquivo já existe e será sobrescrito: Faulty_Validation19.txt\n",
            "Arquivo já existe e será sobrescrito: Faulty_Validation33.txt\n",
            "Arquivo já existe e será sobrescrito: Faulty_Validation196.txt\n",
            "Arquivo já existe e será sobrescrito: Faulty_Validation31.txt\n",
            "Arquivo já existe e será sobrescrito: Faulty_Validation37.txt\n",
            "Arquivo já existe e será sobrescrito: Faulty_Validation191.txt\n",
            "Arquivo já existe e será sobrescrito: Faulty_Validation40.txt\n",
            "Arquivo já existe e será sobrescrito: Faulty_Validation30.txt\n",
            "Arquivo já existe e será sobrescrito: Faulty_Validation179.txt\n",
            "Arquivo já existe e será sobrescrito: Faulty_Validation183.txt\n",
            "Arquivo já existe e será sobrescrito: Faulty_Validation188.txt\n",
            "Arquivo já existe e será sobrescrito: Faulty_Validation25.txt\n",
            "Arquivo já existe e será sobrescrito: Faulty_Validation190.txt\n",
            "Arquivo já existe e será sobrescrito: Faulty_Validation23.txt\n",
            "Arquivo já existe e será sobrescrito: Faulty_Validation29.txt\n",
            "Arquivo já existe e será sobrescrito: Faulty_Validation24.txt\n",
            "Arquivo já existe e será sobrescrito: Faulty_Validation187.txt\n",
            "Arquivo já existe e será sobrescrito: Faulty_Validation35.txt\n",
            "Arquivo já existe e será sobrescrito: Faulty_Validation27.txt\n",
            "Arquivo já existe e será sobrescrito: Faulty_Validation189.txt\n",
            "Arquivo já existe e será sobrescrito: Faulty_Validation195.txt\n",
            "Arquivo já existe e será sobrescrito: Faulty_Validation34.txt\n",
            "Arquivo já existe e será sobrescrito: Faulty_Validation199.txt\n",
            "Arquivo já existe e será sobrescrito: Faulty_Validation3.txt\n",
            "Arquivo já existe e será sobrescrito: Faulty_Validation193.txt\n",
            "Arquivo já existe e será sobrescrito: Faulty_Validation184.txt\n",
            "Arquivo já existe e será sobrescrito: Faulty_Validation22.txt\n",
            "Arquivo já existe e será sobrescrito: Faulty_Validation20.txt\n",
            "Arquivo já existe e será sobrescrito: Faulty_Validation182.txt\n",
            "Arquivo já existe e será sobrescrito: Faulty_Validation198.txt\n",
            "Arquivo já existe e será sobrescrito: Faulty_Validation26.txt\n",
            "Arquivo já existe e será sobrescrito: Faulty_Validation4.txt\n",
            "Arquivo já existe e será sobrescrito: Faulty_Validation21.txt\n",
            "Arquivo já existe e será sobrescrito: Faulty_Validation38.txt\n",
            "Arquivo já existe e será sobrescrito: Faulty_Validation181.txt\n",
            "Arquivo já existe e será sobrescrito: Faulty_Validation194.txt\n",
            "Arquivo já existe e será sobrescrito: Faulty_Validation39.txt\n",
            "Arquivo já existe e será sobrescrito: Faulty_Validation177.txt\n",
            "Arquivo já existe e será sobrescrito: Faulty_Validation36.txt\n",
            "Arquivo já existe e será sobrescrito: Faulty_Validation185.txt\n",
            "Arquivo já existe e será sobrescrito: Faulty_Validation180.txt\n",
            "Arquivo já existe e será sobrescrito: Faulty_Validation18.txt\n",
            "Arquivo já existe e será sobrescrito: Faulty_Validation200.txt\n",
            "Arquivo já existe e será sobrescrito: Faulty_Validation32.txt\n",
            "Arquivo já existe e será sobrescrito: Faulty_Validation197.txt\n",
            "Arquivo já existe e será sobrescrito: Faulty_Validation69.txt\n",
            "Arquivo já existe e será sobrescrito: Faulty_Validation43.txt\n",
            "Arquivo já existe e será sobrescrito: Faulty_Validation84.txt\n",
            "Arquivo já existe e será sobrescrito: Faulty_Validation61.txt\n",
            "Arquivo já existe e será sobrescrito: Faulty_Validation77.txt\n",
            "Arquivo já existe e será sobrescrito: Faulty_Validation70.txt\n",
            "Arquivo já existe e será sobrescrito: Faulty_Validation55.txt\n",
            "Arquivo já existe e será sobrescrito: Faulty_Validation56.txt\n",
            "Arquivo já existe e será sobrescrito: Faulty_Validation53.txt\n",
            "Arquivo já existe e será sobrescrito: Faulty_Validation50.txt\n",
            "Arquivo já existe e será sobrescrito: Faulty_Validation76.txt\n",
            "Arquivo já existe e será sobrescrito: Faulty_Validation62.txt\n",
            "Arquivo já existe e será sobrescrito: Faulty_Validation65.txt\n",
            "Arquivo já existe e será sobrescrito: Faulty_Validation71.txt\n",
            "Arquivo já existe e será sobrescrito: Faulty_Validation8.txt\n",
            "Arquivo já existe e será sobrescrito: Faulty_Validation68.txt\n",
            "Arquivo já existe e será sobrescrito: Faulty_Validation44.txt\n",
            "Arquivo já existe e será sobrescrito: Faulty_Validation45.txt\n",
            "Arquivo já existe e será sobrescrito: Faulty_Validation78.txt\n",
            "Arquivo já existe e será sobrescrito: Faulty_Validation42.txt\n",
            "Arquivo já existe e será sobrescrito: Faulty_Validation64.txt\n",
            "Arquivo já existe e será sobrescrito: Faulty_Validation79.txt\n",
            "Arquivo já existe e será sobrescrito: Faulty_Validation46.txt\n",
            "Arquivo já existe e será sobrescrito: Faulty_Validation74.txt\n",
            "Arquivo já existe e será sobrescrito: Faulty_Validation59.txt\n",
            "Arquivo já existe e será sobrescrito: Faulty_Validation6.txt\n",
            "Arquivo já existe e será sobrescrito: Faulty_Validation60.txt\n",
            "Arquivo já existe e será sobrescrito: Faulty_Validation51.txt\n",
            "Arquivo já existe e será sobrescrito: Faulty_Validation83.txt\n",
            "Arquivo já existe e será sobrescrito: Faulty_Validation67.txt\n",
            "Arquivo já existe e será sobrescrito: Faulty_Validation52.txt\n",
            "Arquivo já existe e será sobrescrito: Faulty_Validation48.txt\n",
            "Arquivo já existe e será sobrescrito: Faulty_Validation57.txt\n",
            "Arquivo já existe e será sobrescrito: Faulty_Validation47.txt\n",
            "Arquivo já existe e será sobrescrito: Faulty_Validation7.txt\n",
            "Arquivo já existe e será sobrescrito: Faulty_Validation41.txt\n",
            "Arquivo já existe e será sobrescrito: Faulty_Validation5.txt\n",
            "Arquivo já existe e será sobrescrito: Faulty_Validation54.txt\n",
            "Arquivo já existe e será sobrescrito: Faulty_Validation63.txt\n",
            "Arquivo já existe e será sobrescrito: Faulty_Validation75.txt\n",
            "Arquivo já existe e será sobrescrito: Faulty_Validation81.txt\n",
            "Arquivo já existe e será sobrescrito: Faulty_Validation73.txt\n",
            "Arquivo já existe e será sobrescrito: Faulty_Validation49.txt\n",
            "Arquivo já existe e será sobrescrito: Faulty_Validation58.txt\n",
            "Arquivo já existe e será sobrescrito: Faulty_Validation66.txt\n",
            "Arquivo já existe e será sobrescrito: Faulty_Validation82.txt\n",
            "Arquivo já existe e será sobrescrito: Faulty_Validation80.txt\n",
            "Arquivo já existe e será sobrescrito: Faulty_Validation72.txt\n",
            "Arquivo já existe e será sobrescrito: Faulty_Validation99.txt\n",
            "Arquivo já existe e será sobrescrito: Faulty_Validation89.txt\n",
            "Arquivo já existe e será sobrescrito: Faulty_Validation9.txt\n",
            "Arquivo já existe e será sobrescrito: Faulty_Validation95.txt\n",
            "Arquivo já existe e será sobrescrito: Faulty_Validation92.txt\n",
            "Arquivo já existe e será sobrescrito: Faulty_Validation98.txt\n",
            "Arquivo já existe e será sobrescrito: Faulty_Validation94.txt\n",
            "Arquivo já existe e será sobrescrito: Faulty_Validation91.txt\n",
            "Arquivo já existe e será sobrescrito: Faulty_Validation97.txt\n",
            "Arquivo já existe e será sobrescrito: Faulty_Validation90.txt\n",
            "Arquivo já existe e será sobrescrito: Faulty_Validation96.txt\n",
            "Arquivo já existe e será sobrescrito: Faulty_Validation86.txt\n",
            "Arquivo já existe e será sobrescrito: Faulty_Validation93.txt\n",
            "Arquivo já existe e será sobrescrito: Faulty_Validation85.txt\n",
            "Arquivo já existe e será sobrescrito: Faulty_Validation87.txt\n",
            "Arquivo já existe e será sobrescrito: Faulty_Validation88.txt\n",
            "Arquivo já existe e será sobrescrito: Areial_Healthy27.txt\n",
            "Arquivo já existe e será sobrescrito: Areial_Healthy218.txt\n",
            "Arquivo já existe e será sobrescrito: Areial_Healthy141.txt\n",
            "Arquivo já existe e será sobrescrito: Areial_Healthy3.txt\n",
            "Arquivo já existe e será sobrescrito: Areial_Healthy311.txt\n",
            "Arquivo já existe e será sobrescrito: Areial_Healthy143.txt\n",
            "Arquivo já existe e será sobrescrito: Areial_Healthy134.txt\n",
            "Arquivo já existe e será sobrescrito: Areial_Healthy231.txt\n",
            "Arquivo já existe e será sobrescrito: Areial_Healthy300.txt\n",
            "Arquivo já existe e será sobrescrito: Areial_Healthy288.txt\n",
            "Arquivo já existe e será sobrescrito: Areial_Healthy120.txt\n",
            "Arquivo já existe e será sobrescrito: Areial_Healthy151.txt\n",
            "Arquivo já existe e será sobrescrito: Areial_Healthy159.txt\n",
            "Arquivo já existe e será sobrescrito: Areial_Healthy331.txt\n",
            "Arquivo já existe e será sobrescrito: Areial_Healthy203.txt\n",
            "Arquivo já existe e será sobrescrito: Areial_Healthy337.txt\n",
            "Arquivo já existe e será sobrescrito: Areial_Healthy26.txt\n",
            "Arquivo já existe e será sobrescrito: Areial_Healthy205.txt\n",
            "Arquivo já existe e será sobrescrito: Areial_Healthy357.txt\n",
            "Arquivo já existe e será sobrescrito: Areial_Healthy348.txt\n",
            "Arquivo já existe e será sobrescrito: Areial_Healthy214.txt\n",
            "Arquivo já existe e será sobrescrito: Areial_Healthy261.txt\n",
            "Arquivo já existe e será sobrescrito: Areial_Healthy250.txt\n",
            "Arquivo já existe e será sobrescrito: Areial_Healthy31.txt\n",
            "Arquivo já existe e será sobrescrito: Areial_Healthy104.txt\n",
            "Arquivo já existe e será sobrescrito: Areial_Healthy137.txt\n",
            "Arquivo já existe e será sobrescrito: Areial_Healthy317.txt\n",
            "Arquivo já existe e será sobrescrito: Areial_Healthy215.txt\n",
            "Arquivo já existe e será sobrescrito: Areial_Healthy379.txt\n",
            "Arquivo já existe e será sobrescrito: Areial_Healthy13.txt\n",
            "Arquivo já existe e será sobrescrito: Areial_Healthy209.txt\n",
            "Arquivo já existe e será sobrescrito: Areial_Healthy319.txt\n",
            "Arquivo já existe e será sobrescrito: Areial_Healthy256.txt\n",
            "Arquivo já existe e será sobrescrito: Areial_Healthy142.txt\n",
            "Arquivo já existe e será sobrescrito: Areial_Healthy322.txt\n",
            "Arquivo já existe e será sobrescrito: Areial_Healthy725.txt\n",
            "Arquivo já existe e será sobrescrito: Areial_Healthy544.txt\n",
            "Arquivo já existe e será sobrescrito: Areial_Healthy709.txt\n",
            "Arquivo já existe e será sobrescrito: Areial_Healthy51.txt\n",
            "Arquivo já existe e será sobrescrito: Areial_Healthy512.txt\n",
            "Arquivo já existe e será sobrescrito: Areial_Healthy380.txt\n",
            "Arquivo já existe e será sobrescrito: Areial_Healthy690.txt\n",
            "Arquivo já existe e será sobrescrito: Areial_Healthy419.txt\n",
            "Arquivo já existe e será sobrescrito: Areial_Healthy641.txt\n",
            "Arquivo já existe e será sobrescrito: Areial_Healthy660.txt\n",
            "Arquivo já existe e será sobrescrito: Areial_Healthy625.txt\n",
            "Arquivo já existe e será sobrescrito: Areial_Healthy721.txt\n",
            "Arquivo já existe e será sobrescrito: Areial_Healthy42.txt\n",
            "Arquivo já existe e será sobrescrito: Areial_Healthy572.txt\n",
            "Arquivo já existe e será sobrescrito: Areial_Healthy420.txt\n",
            "Arquivo já existe e será sobrescrito: Areial_Healthy729.txt\n",
            "Arquivo já existe e será sobrescrito: Areial_Healthy76.txt\n",
            "Arquivo já existe e será sobrescrito: Areial_Healthy43.txt\n",
            "Arquivo já existe e será sobrescrito: Areial_Healthy448.txt\n",
            "Arquivo já existe e será sobrescrito: Areial_Healthy647.txt\n",
            "Arquivo já existe e será sobrescrito: Areial_Healthy507.txt\n",
            "Arquivo já existe e será sobrescrito: Areial_Healthy684.txt\n",
            "Arquivo já existe e será sobrescrito: Areial_Healthy659.txt\n",
            "Arquivo já existe e será sobrescrito: Areial_Healthy569.txt\n",
            "Arquivo já existe e será sobrescrito: Areial_Healthy606.txt\n",
            "Arquivo já existe e será sobrescrito: Areial_Healthy555.txt\n",
            "Arquivo já existe e será sobrescrito: Areial_Healthy421.txt\n",
            "Arquivo já existe e será sobrescrito: Areial_Healthy540.txt\n",
            "Arquivo já existe e será sobrescrito: Areial_Healthy620.txt\n",
            "Arquivo já existe e será sobrescrito: Areial_Healthy453.txt\n",
            "Arquivo já existe e será sobrescrito: Areial_Healthy629.txt\n",
            "Arquivo já existe e será sobrescrito: Areial_Healthy547.txt\n",
            "Arquivo já existe e será sobrescrito: Areial_Healthy449.txt\n",
            "Arquivo já existe e será sobrescrito: Areial_Healthy740.txt\n",
            "Arquivo já existe e será sobrescrito: Areial_Healthy527.txt\n",
            "Arquivo já existe e será sobrescrito: Areial_Healthy633.txt\n",
            "Arquivo já existe e será sobrescrito: Areial_Healthy718.txt\n",
            "Arquivo já existe e será sobrescrito: Areial_Healthy464.txt\n",
            "Arquivo já existe e será sobrescrito: Areial_Healthy611.txt\n",
            "Arquivo já existe e será sobrescrito: Areial_Healthy732.txt\n",
            "Arquivo já existe e será sobrescrito: Areial_Healthy406.txt\n",
            "Arquivo já existe e será sobrescrito: Areial_Healthy542.txt\n",
            "Arquivo já existe e será sobrescrito: Areial_Healthy481.txt\n",
            "Arquivo já existe e será sobrescrito: Areial_Healthy753.txt\n",
            "Arquivo já existe e será sobrescrito: Healthy_Validation110.txt\n",
            "Arquivo já existe e será sobrescrito: Areial_Healthy856.txt\n",
            "Arquivo já existe e será sobrescrito: Healthy_Validation115.txt\n",
            "Arquivo já existe e será sobrescrito: Healthy_Validation12.txt\n",
            "Arquivo já existe e será sobrescrito: Healthy_Validation117.txt\n",
            "Arquivo já existe e será sobrescrito: Healthy_Validation102.txt\n",
            "Arquivo já existe e será sobrescrito: Areial_Healthy902.txt\n",
            "Arquivo já existe e será sobrescrito: Healthy_Validation119.txt\n",
            "Arquivo já existe e será sobrescrito: Healthy_Validation122.txt\n",
            "Arquivo já existe e será sobrescrito: Healthy_Validation108.txt\n",
            "Arquivo já existe e será sobrescrito: Areial_Healthy79.txt\n",
            "Arquivo já existe e será sobrescrito: Areial_Healthy989.txt\n",
            "Arquivo já existe e será sobrescrito: Healthy_Validation101.txt\n",
            "Arquivo já existe e será sobrescrito: Areial_Healthy862.txt\n",
            "Arquivo já existe e será sobrescrito: Areial_Healthy936.txt\n",
            "Arquivo já existe e será sobrescrito: Healthy_Validation120.txt\n",
            "Arquivo já existe e será sobrescrito: Healthy_Validation111.txt\n",
            "Arquivo já existe e será sobrescrito: Areial_Healthy866.txt\n",
            "Arquivo já existe e será sobrescrito: Areial_Healthy779.txt\n",
            "Arquivo já existe e será sobrescrito: Areial_Healthy897.txt\n",
            "Arquivo já existe e será sobrescrito: Areial_Healthy764.txt\n",
            "Arquivo já existe e será sobrescrito: Areial_Healthy780.txt\n",
            "Arquivo já existe e será sobrescrito: Healthy_Validation109.txt\n",
            "Arquivo já existe e será sobrescrito: Areial_Healthy899.txt\n",
            "Arquivo já existe e será sobrescrito: Areial_Healthy917.txt\n",
            "Arquivo já existe e será sobrescrito: Areial_Healthy949.txt\n",
            "Arquivo já existe e será sobrescrito: Areial_Healthy814.txt\n",
            "Arquivo já existe e será sobrescrito: Areial_Healthy804.txt\n",
            "Arquivo já existe e será sobrescrito: Healthy_Validation103.txt\n",
            "Arquivo já existe e será sobrescrito: Healthy_Validation118.txt\n",
            "Arquivo já existe e será sobrescrito: Healthy_Validation106.txt\n",
            "Arquivo já existe e será sobrescrito: Healthy_Validation116.txt\n",
            "Arquivo já existe e será sobrescrito: Healthy_Validation10.txt\n",
            "Arquivo já existe e será sobrescrito: Healthy_Validation11.txt\n",
            "Arquivo já existe e será sobrescrito: Healthy_Validation1.txt\n",
            "Arquivo já existe e será sobrescrito: Healthy_Validation114.txt\n",
            "Arquivo já existe e será sobrescrito: Healthy_Validation100.txt\n",
            "Arquivo já existe e será sobrescrito: Areial_Healthy78.txt\n",
            "Arquivo já existe e será sobrescrito: Areial_Healthy961.txt\n",
            "Arquivo já existe e será sobrescrito: Healthy_Validation107.txt\n",
            "Arquivo já existe e será sobrescrito: Areial_Healthy912.txt\n",
            "Arquivo já existe e será sobrescrito: Areial_Healthy791.txt\n",
            "Arquivo já existe e será sobrescrito: Healthy_Validation104.txt\n",
            "Arquivo já existe e será sobrescrito: Healthy_Validation112.txt\n",
            "Arquivo já existe e será sobrescrito: Areial_Healthy981.txt\n",
            "Arquivo já existe e será sobrescrito: Healthy_Validation105.txt\n",
            "Arquivo já existe e será sobrescrito: Healthy_Validation113.txt\n",
            "Arquivo já existe e será sobrescrito: Healthy_Validation121.txt\n",
            "Arquivo já existe e será sobrescrito: Healthy_Validation16.txt\n",
            "Arquivo já existe e será sobrescrito: Healthy_Validation127.txt\n",
            "Arquivo já existe e será sobrescrito: Healthy_Validation156.txt\n",
            "Arquivo já existe e será sobrescrito: Healthy_Validation126.txt\n",
            "Arquivo já existe e será sobrescrito: Healthy_Validation150.txt\n",
            "Arquivo já existe e será sobrescrito: Healthy_Validation147.txt\n",
            "Arquivo já existe e será sobrescrito: Healthy_Validation148.txt\n",
            "Arquivo já existe e será sobrescrito: Healthy_Validation134.txt\n",
            "Arquivo já existe e será sobrescrito: Healthy_Validation138.txt\n",
            "Arquivo já existe e será sobrescrito: Healthy_Validation132.txt\n",
            "Arquivo já existe e será sobrescrito: Healthy_Validation146.txt\n",
            "Arquivo já existe e será sobrescrito: Healthy_Validation155.txt\n",
            "Arquivo já existe e será sobrescrito: Healthy_Validation164.txt\n",
            "Arquivo já existe e será sobrescrito: Healthy_Validation159.txt\n",
            "Arquivo já existe e será sobrescrito: Healthy_Validation131.txt\n",
            "Arquivo já existe e será sobrescrito: Healthy_Validation123.txt\n",
            "Arquivo já existe e será sobrescrito: Healthy_Validation124.txt\n",
            "Arquivo já existe e será sobrescrito: Healthy_Validation142.txt\n",
            "Arquivo já existe e será sobrescrito: Healthy_Validation167.txt\n",
            "Arquivo já existe e será sobrescrito: Healthy_Validation13.txt\n",
            "Arquivo já existe e será sobrescrito: Healthy_Validation136.txt\n",
            "Arquivo já existe e será sobrescrito: Healthy_Validation145.txt\n",
            "Arquivo já existe e será sobrescrito: Healthy_Validation129.txt\n",
            "Arquivo já existe e será sobrescrito: Healthy_Validation162.txt\n",
            "Arquivo já existe e será sobrescrito: Healthy_Validation137.txt\n",
            "Arquivo já existe e será sobrescrito: Healthy_Validation15.txt\n",
            "Arquivo já existe e será sobrescrito: Healthy_Validation154.txt\n",
            "Arquivo já existe e será sobrescrito: Healthy_Validation153.txt\n",
            "Arquivo já existe e será sobrescrito: Healthy_Validation152.txt\n",
            "Arquivo já existe e será sobrescrito: Healthy_Validation141.txt\n",
            "Arquivo já existe e será sobrescrito: Healthy_Validation151.txt\n",
            "Arquivo já existe e será sobrescrito: Healthy_Validation157.txt\n",
            "Arquivo já existe e será sobrescrito: Healthy_Validation161.txt\n",
            "Arquivo já existe e será sobrescrito: Healthy_Validation130.txt\n",
            "Arquivo já existe e será sobrescrito: Healthy_Validation139.txt\n",
            "Arquivo já existe e será sobrescrito: Healthy_Validation140.txt\n",
            "Arquivo já existe e será sobrescrito: Healthy_Validation166.txt\n",
            "Arquivo já existe e será sobrescrito: Healthy_Validation14.txt\n",
            "Arquivo já existe e será sobrescrito: Healthy_Validation125.txt\n",
            "Arquivo já existe e será sobrescrito: Healthy_Validation128.txt\n",
            "Arquivo já existe e será sobrescrito: Healthy_Validation135.txt\n",
            "Arquivo já existe e será sobrescrito: Healthy_Validation133.txt\n",
            "Arquivo já existe e será sobrescrito: Healthy_Validation143.txt\n",
            "Arquivo já existe e será sobrescrito: Healthy_Validation149.txt\n",
            "Arquivo já existe e será sobrescrito: Healthy_Validation165.txt\n",
            "Arquivo já existe e será sobrescrito: Healthy_Validation158.txt\n",
            "Arquivo já existe e será sobrescrito: Healthy_Validation144.txt\n",
            "Arquivo já existe e será sobrescrito: Healthy_Validation163.txt\n",
            "Arquivo já existe e será sobrescrito: Healthy_Validation160.txt\n",
            "Arquivo já existe e será sobrescrito: Healthy_Validation28.txt\n",
            "Arquivo já existe e será sobrescrito: Healthy_Validation19.txt\n",
            "Arquivo já existe e será sobrescrito: Healthy_Validation168.txt\n",
            "Arquivo já existe e será sobrescrito: Healthy_Validation199.txt\n",
            "Arquivo já existe e será sobrescrito: Healthy_Validation171.txt\n",
            "Arquivo já existe e será sobrescrito: Healthy_Validation198.txt\n",
            "Arquivo já existe e será sobrescrito: Healthy_Validation188.txt\n",
            "Arquivo já existe e será sobrescrito: Healthy_Validation174.txt\n",
            "Arquivo já existe e será sobrescrito: Healthy_Validation176.txt\n",
            "Arquivo já existe e será sobrescrito: Healthy_Validation2.txt\n",
            "Arquivo já existe e será sobrescrito: Healthy_Validation200.txt\n",
            "Arquivo já existe e será sobrescrito: Healthy_Validation173.txt\n",
            "Arquivo já existe e será sobrescrito: Healthy_Validation24.txt\n",
            "Arquivo já existe e será sobrescrito: Healthy_Validation26.txt\n",
            "Arquivo já existe e será sobrescrito: Healthy_Validation27.txt\n",
            "Arquivo já existe e será sobrescrito: Healthy_Validation177.txt\n",
            "Arquivo já existe e será sobrescrito: Healthy_Validation18.txt\n",
            "Arquivo já existe e será sobrescrito: Healthy_Validation194.txt\n",
            "Arquivo já existe e será sobrescrito: Healthy_Validation170.txt\n",
            "Arquivo já existe e será sobrescrito: Healthy_Validation182.txt\n",
            "Arquivo já existe e será sobrescrito: Healthy_Validation178.txt\n",
            "Arquivo já existe e será sobrescrito: Healthy_Validation189.txt\n",
            "Arquivo já existe e será sobrescrito: Healthy_Validation192.txt\n",
            "Arquivo já existe e será sobrescrito: Healthy_Validation197.txt\n",
            "Arquivo já existe e será sobrescrito: Healthy_Validation183.txt\n",
            "Arquivo já existe e será sobrescrito: Healthy_Validation20.txt\n",
            "Arquivo já existe e será sobrescrito: Healthy_Validation179.txt\n",
            "Arquivo já existe e será sobrescrito: Healthy_Validation193.txt\n",
            "Arquivo já existe e será sobrescrito: Healthy_Validation195.txt\n",
            "Arquivo já existe e será sobrescrito: Healthy_Validation23.txt\n",
            "Arquivo já existe e será sobrescrito: Healthy_Validation185.txt\n",
            "Arquivo já existe e será sobrescrito: Healthy_Validation191.txt\n",
            "Arquivo já existe e será sobrescrito: Healthy_Validation196.txt\n",
            "Arquivo já existe e será sobrescrito: Healthy_Validation22.txt\n",
            "Arquivo já existe e será sobrescrito: Healthy_Validation180.txt\n",
            "Arquivo já existe e será sobrescrito: Healthy_Validation25.txt\n",
            "Arquivo já existe e será sobrescrito: Healthy_Validation175.txt\n",
            "Arquivo já existe e será sobrescrito: Healthy_Validation21.txt\n",
            "Arquivo já existe e será sobrescrito: Healthy_Validation17.txt\n",
            "Arquivo já existe e será sobrescrito: Healthy_Validation169.txt\n",
            "Arquivo já existe e será sobrescrito: Healthy_Validation181.txt\n",
            "Arquivo já existe e será sobrescrito: Healthy_Validation172.txt\n",
            "Arquivo já existe e será sobrescrito: Healthy_Validation184.txt\n",
            "Arquivo já existe e será sobrescrito: Healthy_Validation190.txt\n",
            "Arquivo já existe e será sobrescrito: Healthy_Validation187.txt\n",
            "Arquivo já existe e será sobrescrito: Healthy_Validation186.txt\n",
            "Arquivo já existe e será sobrescrito: Healthy_Validation56.txt\n",
            "Arquivo já existe e será sobrescrito: Healthy_Validation40.txt\n",
            "Arquivo já existe e será sobrescrito: Healthy_Validation33.txt\n",
            "Arquivo já existe e será sobrescrito: Healthy_Validation44.txt\n",
            "Arquivo já existe e será sobrescrito: Healthy_Validation37.txt\n",
            "Arquivo já existe e será sobrescrito: Healthy_Validation3.txt\n",
            "Arquivo já existe e será sobrescrito: Healthy_Validation6.txt\n",
            "Arquivo já existe e será sobrescrito: Healthy_Validation38.txt\n",
            "Arquivo já existe e será sobrescrito: Healthy_Validation55.txt\n",
            "Arquivo já existe e será sobrescrito: Healthy_Validation52.txt\n",
            "Arquivo já existe e será sobrescrito: Healthy_Validation65.txt\n",
            "Arquivo já existe e será sobrescrito: Healthy_Validation70.txt\n",
            "Arquivo já existe e será sobrescrito: Healthy_Validation32.txt\n",
            "Arquivo já existe e será sobrescrito: Healthy_Validation29.txt\n",
            "Arquivo já existe e será sobrescrito: Healthy_Validation42.txt\n",
            "Arquivo já existe e será sobrescrito: Healthy_Validation67.txt\n",
            "Arquivo já existe e será sobrescrito: Healthy_Validation31.txt\n",
            "Arquivo já existe e será sobrescrito: Healthy_Validation45.txt\n",
            "Arquivo já existe e será sobrescrito: Healthy_Validation47.txt\n",
            "Arquivo já existe e será sobrescrito: Healthy_Validation4.txt\n",
            "Arquivo já existe e será sobrescrito: Healthy_Validation63.txt\n",
            "Arquivo já existe e será sobrescrito: Healthy_Validation69.txt\n",
            "Arquivo já existe e será sobrescrito: Healthy_Validation66.txt\n",
            "Arquivo já existe e será sobrescrito: Healthy_Validation50.txt\n",
            "Arquivo já existe e será sobrescrito: Healthy_Validation7.txt\n",
            "Arquivo já existe e será sobrescrito: Healthy_Validation49.txt\n",
            "Arquivo já existe e será sobrescrito: Healthy_Validation43.txt\n",
            "Arquivo já existe e será sobrescrito: Healthy_Validation39.txt\n",
            "Arquivo já existe e será sobrescrito: Healthy_Validation60.txt\n",
            "Arquivo já existe e será sobrescrito: Healthy_Validation46.txt\n",
            "Arquivo já existe e será sobrescrito: Healthy_Validation5.txt\n",
            "Arquivo já existe e será sobrescrito: Healthy_Validation57.txt\n",
            "Arquivo já existe e será sobrescrito: Healthy_Validation61.txt\n",
            "Arquivo já existe e será sobrescrito: Healthy_Validation68.txt\n",
            "Arquivo já existe e será sobrescrito: Healthy_Validation41.txt\n",
            "Arquivo já existe e será sobrescrito: Healthy_Validation36.txt\n",
            "Arquivo já existe e será sobrescrito: Healthy_Validation64.txt\n",
            "Arquivo já existe e será sobrescrito: Healthy_Validation34.txt\n",
            "Arquivo já existe e será sobrescrito: Healthy_Validation30.txt\n",
            "Arquivo já existe e será sobrescrito: Healthy_Validation58.txt\n",
            "Arquivo já existe e será sobrescrito: Healthy_Validation51.txt\n",
            "Arquivo já existe e será sobrescrito: Healthy_Validation54.txt\n",
            "Arquivo já existe e será sobrescrito: Healthy_Validation59.txt\n",
            "Arquivo já existe e será sobrescrito: Healthy_Validation35.txt\n",
            "Arquivo já existe e será sobrescrito: Healthy_Validation53.txt\n",
            "Arquivo já existe e será sobrescrito: Healthy_Validation48.txt\n",
            "Arquivo já existe e será sobrescrito: Healthy_Validation62.txt\n",
            "Arquivo já existe e será sobrescrito: Healthy_Validation74.txt\n",
            "Arquivo já existe e será sobrescrito: Healthy_Validation73.txt\n",
            "Arquivo já existe e será sobrescrito: Healthy_Validation80.txt\n",
            "Arquivo já existe e será sobrescrito: Healthy_Validation9.txt\n",
            "Arquivo já existe e será sobrescrito: Healthy_Validation8.txt\n",
            "Arquivo já existe e será sobrescrito: Healthy_Validation87.txt\n",
            "Arquivo já existe e será sobrescrito: Healthy_Validation86.txt\n",
            "Arquivo já existe e será sobrescrito: Healthy_Validation97.txt\n",
            "Arquivo já existe e será sobrescrito: Healthy_Validation78.txt\n",
            "Arquivo já existe e será sobrescrito: Healthy_Validation90.txt\n",
            "Arquivo já existe e será sobrescrito: Healthy_Validation83.txt\n",
            "Arquivo já existe e será sobrescrito: Healthy_Validation85.txt\n",
            "Arquivo já existe e será sobrescrito: Healthy_Validation77.txt\n",
            "Arquivo já existe e será sobrescrito: Healthy_Validation82.txt\n",
            "Arquivo já existe e será sobrescrito: Healthy_Validation98.txt\n",
            "Arquivo já existe e será sobrescrito: Healthy_Validation95.txt\n",
            "Arquivo já existe e será sobrescrito: Healthy_Validation91.txt\n",
            "Arquivo já existe e será sobrescrito: Healthy_Validation71.txt\n",
            "Arquivo já existe e será sobrescrito: Healthy_Validation76.txt\n",
            "Arquivo já existe e será sobrescrito: Healthy_Validation89.txt\n",
            "Arquivo já existe e será sobrescrito: Healthy_Validation96.txt\n",
            "Arquivo já existe e será sobrescrito: Healthy_Validation75.txt\n",
            "Arquivo já existe e será sobrescrito: Healthy_Validation84.txt\n",
            "Arquivo já existe e será sobrescrito: Healthy_Validation92.txt\n",
            "Arquivo já existe e será sobrescrito: Healthy_Validation79.txt\n",
            "Arquivo já existe e será sobrescrito: Healthy_Validation99.txt\n",
            "Arquivo já existe e será sobrescrito: Healthy_Validation81.txt\n",
            "Arquivo já existe e será sobrescrito: Healthy_Validation93.txt\n",
            "Arquivo já existe e será sobrescrito: Healthy_Validation88.txt\n",
            "Arquivo já existe e será sobrescrito: Healthy_Validation94.txt\n",
            "Arquivo já existe e será sobrescrito: Healthy_Validation72.txt\n",
            "Labels concluidas!\n"
          ]
        }
      ]
    },
    {
      "cell_type": "code",
      "source": [],
      "metadata": {
        "id": "o4Ep1fgSkZyi"
      },
      "execution_count": null,
      "outputs": []
    },
    {
      "cell_type": "markdown",
      "source": [
        "Cração das labels -> Integração da pasta Train"
      ],
      "metadata": {
        "id": "e3boriqkWN5u"
      }
    },
    {
      "cell_type": "code",
      "source": [
        "origem1 = '/content/drive/Shareddrives/Letícia Vieira Gonçalves - Pesquisa/dataset/CAI-SWTB-Dataset/Train/annotationsF'\n",
        "origem2 = '/content/drive/Shareddrives/Letícia Vieira Gonçalves - Pesquisa/dataset/CAI-SWTB-Dataset/Train/annotationsH'\n",
        "destino = '/content/drive/Shareddrives/Letícia Vieira Gonçalves - Pesquisa/dataset/CAI-SWTB-Dataset/Train/annotations'"
      ],
      "metadata": {
        "id": "gkU9ob54Voa0"
      },
      "execution_count": null,
      "outputs": []
    },
    {
      "cell_type": "code",
      "source": [
        "os.makedirs(destino, exist_ok=True)\n",
        "\n",
        "# Função para copiar os arquivos\n",
        "def copiar_labels(origem):\n",
        "    for arquivo in os.listdir(origem):\n",
        "        if arquivo.endswith('.txt'):\n",
        "            origem_arquivo = os.path.join(origem, arquivo)\n",
        "            destino_arquivo = os.path.join(destino, arquivo)\n",
        "\n",
        "            # Evita sobrescrever arquivos com mesmo nome\n",
        "            if os.path.exists(destino_arquivo):\n",
        "                print(f\"Arquivo já existe e será sobrescrito: {arquivo}\")\n",
        "\n",
        "            shutil.copy2(origem_arquivo, destino_arquivo)\n",
        "\n",
        "# Copiar das duas pastas\n",
        "copiar_labels(origem1)\n",
        "copiar_labels(origem2)\n",
        "\n",
        "print(\"Labels concluidas!\")"
      ],
      "metadata": {
        "id": "EMcrGRKxVxPw",
        "outputId": "c04c1118-2dc8-450b-e41b-222c0f460910",
        "colab": {
          "base_uri": "https://localhost:8080/"
        }
      },
      "execution_count": 30,
      "outputs": [
        {
          "output_type": "stream",
          "name": "stdout",
          "text": [
            "Arquivo já existe e será sobrescrito: Areial_Faulty27.txt\n",
            "Arquivo já existe e será sobrescrito: Areial_Faulty441.txt\n",
            "Arquivo já existe e será sobrescrito: Areial_Faulty212.txt\n",
            "Arquivo já existe e será sobrescrito: Areial_Faulty475.txt\n",
            "Arquivo já existe e será sobrescrito: Areial_Faulty336.txt\n",
            "Arquivo já existe e será sobrescrito: Areial_Faulty382.txt\n",
            "Arquivo já existe e será sobrescrito: Areial_Faulty110.txt\n",
            "Arquivo já existe e será sobrescrito: Areial_Faulty471.txt\n",
            "Arquivo já existe e será sobrescrito: Areial_Faulty280.txt\n",
            "Arquivo já existe e será sobrescrito: Areial_Faulty232.txt\n",
            "Arquivo já existe e será sobrescrito: Areial_Faulty215.txt\n",
            "Arquivo já existe e será sobrescrito: Areial_Faulty230.txt\n",
            "Arquivo já existe e será sobrescrito: Areial_Faulty193.txt\n",
            "Arquivo já existe e será sobrescrito: Areial_Faulty134.txt\n",
            "Arquivo já existe e será sobrescrito: Areial_Faulty420.txt\n",
            "Arquivo já existe e será sobrescrito: Areial_Faulty5.txt\n",
            "Arquivo já existe e será sobrescrito: Areial_Faulty451.txt\n",
            "Arquivo já existe e será sobrescrito: Areial_Faulty371.txt\n",
            "Arquivo já existe e será sobrescrito: Areial_Faulty255.txt\n",
            "Arquivo já existe e será sobrescrito: Areial_Faulty421.txt\n",
            "Arquivo já existe e será sobrescrito: Areial_Faulty289.txt\n",
            "Arquivo já existe e será sobrescrito: Areial_Faulty165.txt\n",
            "Arquivo já existe e será sobrescrito: Areial_Faulty498.txt\n",
            "Arquivo já existe e será sobrescrito: Areial_Faulty308.txt\n",
            "Arquivo já existe e será sobrescrito: Areial_Faulty118.txt\n",
            "Arquivo já existe e será sobrescrito: Areial_Faulty390.txt\n",
            "Arquivo já existe e será sobrescrito: Areial_Faulty415.txt\n",
            "Arquivo já existe e será sobrescrito: Areial_Faulty431.txt\n",
            "Arquivo já existe e será sobrescrito: Areial_Faulty423.txt\n",
            "Arquivo já existe e será sobrescrito: Areial_Faulty309.txt\n",
            "Arquivo já existe e será sobrescrito: Areial_Faulty391.txt\n",
            "Arquivo já existe e será sobrescrito: Areial_Faulty389.txt\n",
            "Arquivo já existe e será sobrescrito: Areial_Faulty356.txt\n",
            "Arquivo já existe e será sobrescrito: Areial_Faulty450.txt\n",
            "Arquivo já existe e será sobrescrito: Areial_Faulty47.txt\n",
            "Arquivo já existe e será sobrescrito: Areial_Faulty321.txt\n",
            "Arquivo já existe e será sobrescrito: Areial_Faulty46.txt\n",
            "Arquivo já existe e será sobrescrito: Areial_Faulty748.txt\n",
            "Arquivo já existe e será sobrescrito: Areial_Faulty74.txt\n",
            "Arquivo já existe e será sobrescrito: Areial_Faulty792.txt\n",
            "Arquivo já existe e será sobrescrito: Areial_Faulty526.txt\n",
            "Arquivo já existe e será sobrescrito: Areial_Faulty527.txt\n",
            "Arquivo já existe e será sobrescrito: Areial_Faulty612.txt\n",
            "Arquivo já existe e será sobrescrito: Areial_Faulty724.txt\n",
            "Arquivo já existe e será sobrescrito: Areial_Faulty696.txt\n",
            "Arquivo já existe e será sobrescrito: Areial_Faulty65.txt\n",
            "Arquivo já existe e será sobrescrito: Areial_Faulty649.txt\n",
            "Arquivo já existe e será sobrescrito: Areial_Faulty822.txt\n",
            "Arquivo já existe e será sobrescrito: Areial_Faulty844.txt\n",
            "Arquivo já existe e será sobrescrito: Areial_Faulty636.txt\n",
            "Arquivo já existe e será sobrescrito: Areial_Faulty772.txt\n",
            "Arquivo já existe e será sobrescrito: Areial_Faulty57.txt\n",
            "Arquivo já existe e será sobrescrito: Areial_Faulty692.txt\n",
            "Arquivo já existe e será sobrescrito: Areial_Faulty61.txt\n",
            "Arquivo já existe e será sobrescrito: Areial_Faulty883.txt\n",
            "Arquivo já existe e será sobrescrito: Areial_Faulty596.txt\n",
            "Arquivo já existe e será sobrescrito: Areial_Faulty773.txt\n",
            "Arquivo já existe e será sobrescrito: Areial_Faulty73.txt\n",
            "Arquivo já existe e será sobrescrito: Areial_Faulty873.txt\n",
            "Arquivo já existe e será sobrescrito: Areial_Faulty78.txt\n",
            "Arquivo já existe e será sobrescrito: Areial_Faulty717.txt\n",
            "Arquivo já existe e será sobrescrito: Areial_Faulty514.txt\n",
            "Arquivo já existe e será sobrescrito: Areial_Faulty639.txt\n",
            "Arquivo já existe e será sobrescrito: Areial_Faulty82.txt\n",
            "Arquivo já existe e será sobrescrito: Areial_Faulty842.txt\n",
            "Arquivo já existe e será sobrescrito: Areial_Faulty523.txt\n",
            "Arquivo já existe e será sobrescrito: Areial_Faulty863.txt\n",
            "Arquivo já existe e será sobrescrito: Areial_Faulty777.txt\n",
            "Arquivo já existe e será sobrescrito: Areial_Faulty669.txt\n",
            "Arquivo já existe e será sobrescrito: Areial_Faulty674.txt\n",
            "Arquivo já existe e será sobrescrito: Areial_Faulty654.txt\n",
            "Arquivo já existe e será sobrescrito: Areial_Faulty707.txt\n",
            "Arquivo já existe e será sobrescrito: Areial_Faulty671.txt\n",
            "Arquivo já existe e será sobrescrito: Areial_Faulty853.txt\n",
            "Arquivo já existe e será sobrescrito: Areial_Faulty775.txt\n",
            "Arquivo já existe e será sobrescrito: Areial_Faulty678.txt\n",
            "Arquivo já existe e será sobrescrito: Areial_Faulty513.txt\n",
            "Arquivo já existe e será sobrescrito: Areial_Faulty864.txt\n",
            "Arquivo já existe e será sobrescrito: Areial_Faulty740.txt\n",
            "Arquivo já existe e será sobrescrito: Areial_Faulty865.txt\n",
            "Arquivo já existe e será sobrescrito: Areial_Faulty711.txt\n",
            "Arquivo já existe e será sobrescrito: Areial_Faulty746.txt\n",
            "Arquivo já existe e será sobrescrito: Areial_Faulty701.txt\n",
            "Arquivo já existe e será sobrescrito: Areial_Faulty608.txt\n",
            "Arquivo já existe e será sobrescrito: Areial_Faulty750.txt\n",
            "Arquivo já existe e será sobrescrito: Areial_Faulty586.txt\n",
            "Arquivo já existe e será sobrescrito: Areial_Faulty887.txt\n",
            "Arquivo já existe e será sobrescrito: Faulty_Validation112.txt\n",
            "Arquivo já existe e será sobrescrito: Faulty_Validation115.txt\n",
            "Arquivo já existe e será sobrescrito: Faulty_Validation102.txt\n",
            "Arquivo já existe e será sobrescrito: Faulty_Validation111.txt\n",
            "Arquivo já existe e será sobrescrito: Faulty_Validation104.txt\n",
            "Arquivo já existe e será sobrescrito: Areial_Faulty894.txt\n",
            "Arquivo já existe e será sobrescrito: Faulty_Validation110.txt\n",
            "Arquivo já existe e será sobrescrito: Faulty_Validation122.txt\n",
            "Arquivo já existe e será sobrescrito: Faulty_Validation123.txt\n",
            "Arquivo já existe e será sobrescrito: Faulty_Validation113.txt\n",
            "Arquivo já existe e será sobrescrito: Faulty_Validation10.txt\n",
            "Arquivo já existe e será sobrescrito: Faulty_Validation11.txt\n",
            "Arquivo já existe e será sobrescrito: Faulty_Validation128.txt\n",
            "Arquivo já existe e será sobrescrito: Areial_Faulty920.txt\n",
            "Arquivo já existe e será sobrescrito: Faulty_Validation13.txt\n",
            "Arquivo já existe e será sobrescrito: Faulty_Validation125.txt\n",
            "Arquivo já existe e será sobrescrito: Faulty_Validation106.txt\n",
            "Arquivo já existe e será sobrescrito: Faulty_Validation130.txt\n",
            "Arquivo já existe e será sobrescrito: Areial_Faulty95.txt\n",
            "Arquivo já existe e será sobrescrito: Areial_Faulty997.txt\n",
            "Arquivo já existe e será sobrescrito: Faulty_Validation121.txt\n",
            "Arquivo já existe e será sobrescrito: Areial_Faulty972.txt\n",
            "Arquivo já existe e será sobrescrito: Areial_Faulty922.txt\n",
            "Arquivo já existe e será sobrescrito: Areial_Faulty948.txt\n",
            "Arquivo já existe e será sobrescrito: Faulty_Validation108.txt\n",
            "Arquivo já existe e será sobrescrito: Faulty_Validation131.txt\n",
            "Arquivo já existe e será sobrescrito: Areial_Faulty994.txt\n",
            "Arquivo já existe e será sobrescrito: Faulty_Validation118.txt\n",
            "Arquivo já existe e será sobrescrito: Areial_Faulty978.txt\n",
            "Arquivo já existe e será sobrescrito: Faulty_Validation124.txt\n",
            "Arquivo já existe e será sobrescrito: Faulty_Validation103.txt\n",
            "Arquivo já existe e será sobrescrito: Faulty_Validation1.txt\n",
            "Arquivo já existe e será sobrescrito: Faulty_Validation109.txt\n",
            "Arquivo já existe e será sobrescrito: Areial_Faulty931.txt\n",
            "Arquivo já existe e será sobrescrito: Areial_Faulty960.txt\n",
            "Arquivo já existe e será sobrescrito: Faulty_Validation100.txt\n",
            "Arquivo já existe e será sobrescrito: Faulty_Validation117.txt\n",
            "Arquivo já existe e será sobrescrito: Faulty_Validation107.txt\n",
            "Arquivo já existe e será sobrescrito: Areial_Faulty969.txt\n",
            "Arquivo já existe e será sobrescrito: Faulty_Validation126.txt\n",
            "Arquivo já existe e será sobrescrito: Faulty_Validation127.txt\n",
            "Arquivo já existe e será sobrescrito: Faulty_Validation101.txt\n",
            "Arquivo já existe e será sobrescrito: Faulty_Validation105.txt\n",
            "Arquivo já existe e será sobrescrito: Faulty_Validation116.txt\n",
            "Arquivo já existe e será sobrescrito: Faulty_Validation12.txt\n",
            "Arquivo já existe e será sobrescrito: Faulty_Validation129.txt\n",
            "Arquivo já existe e será sobrescrito: Faulty_Validation119.txt\n",
            "Arquivo já existe e será sobrescrito: Faulty_Validation120.txt\n",
            "Arquivo já existe e será sobrescrito: Areial_Faulty998.txt\n",
            "Arquivo já existe e será sobrescrito: Faulty_Validation114.txt\n",
            "Arquivo já existe e será sobrescrito: Faulty_Validation169.txt\n",
            "Arquivo já existe e será sobrescrito: Faulty_Validation146.txt\n",
            "Arquivo já existe e será sobrescrito: Faulty_Validation173.txt\n",
            "Arquivo já existe e será sobrescrito: Faulty_Validation174.txt\n",
            "Arquivo já existe e será sobrescrito: Faulty_Validation176.txt\n",
            "Arquivo já existe e será sobrescrito: Faulty_Validation167.txt\n",
            "Arquivo já existe e será sobrescrito: Faulty_Validation145.txt\n",
            "Arquivo já existe e será sobrescrito: Faulty_Validation139.txt\n",
            "Arquivo já existe e será sobrescrito: Faulty_Validation135.txt\n",
            "Arquivo já existe e será sobrescrito: Faulty_Validation138.txt\n",
            "Arquivo já existe e será sobrescrito: Faulty_Validation16.txt\n",
            "Arquivo já existe e será sobrescrito: Faulty_Validation140.txt\n",
            "Arquivo já existe e será sobrescrito: Faulty_Validation156.txt\n",
            "Arquivo já existe e será sobrescrito: Faulty_Validation158.txt\n",
            "Arquivo já existe e será sobrescrito: Faulty_Validation175.txt\n",
            "Arquivo já existe e será sobrescrito: Faulty_Validation155.txt\n",
            "Arquivo já existe e será sobrescrito: Faulty_Validation137.txt\n",
            "Arquivo já existe e será sobrescrito: Faulty_Validation153.txt\n",
            "Arquivo já existe e será sobrescrito: Faulty_Validation164.txt\n",
            "Arquivo já existe e será sobrescrito: Faulty_Validation147.txt\n",
            "Arquivo já existe e será sobrescrito: Faulty_Validation150.txt\n",
            "Arquivo já existe e será sobrescrito: Faulty_Validation166.txt\n",
            "Arquivo já existe e será sobrescrito: Faulty_Validation162.txt\n",
            "Arquivo já existe e será sobrescrito: Faulty_Validation144.txt\n",
            "Arquivo já existe e será sobrescrito: Faulty_Validation165.txt\n",
            "Arquivo já existe e será sobrescrito: Faulty_Validation157.txt\n",
            "Arquivo já existe e será sobrescrito: Faulty_Validation142.txt\n",
            "Arquivo já existe e será sobrescrito: Faulty_Validation168.txt\n",
            "Arquivo já existe e será sobrescrito: Faulty_Validation143.txt\n",
            "Arquivo já existe e será sobrescrito: Faulty_Validation149.txt\n",
            "Arquivo já existe e será sobrescrito: Faulty_Validation134.txt\n",
            "Arquivo já existe e será sobrescrito: Faulty_Validation17.txt\n",
            "Arquivo já existe e será sobrescrito: Faulty_Validation15.txt\n",
            "Arquivo já existe e será sobrescrito: Faulty_Validation148.txt\n",
            "Arquivo já existe e será sobrescrito: Faulty_Validation160.txt\n",
            "Arquivo já existe e será sobrescrito: Faulty_Validation132.txt\n",
            "Arquivo já existe e será sobrescrito: Faulty_Validation163.txt\n",
            "Arquivo já existe e será sobrescrito: Faulty_Validation133.txt\n",
            "Arquivo já existe e será sobrescrito: Faulty_Validation151.txt\n",
            "Arquivo já existe e será sobrescrito: Faulty_Validation171.txt\n",
            "Arquivo já existe e será sobrescrito: Faulty_Validation14.txt\n",
            "Arquivo já existe e será sobrescrito: Faulty_Validation161.txt\n",
            "Arquivo já existe e será sobrescrito: Faulty_Validation172.txt\n",
            "Arquivo já existe e será sobrescrito: Faulty_Validation141.txt\n",
            "Arquivo já existe e será sobrescrito: Faulty_Validation159.txt\n",
            "Arquivo já existe e será sobrescrito: Faulty_Validation152.txt\n",
            "Arquivo já existe e será sobrescrito: Faulty_Validation154.txt\n",
            "Arquivo já existe e será sobrescrito: Faulty_Validation136.txt\n",
            "Arquivo já existe e será sobrescrito: Faulty_Validation170.txt\n",
            "Arquivo já existe e será sobrescrito: Faulty_Validation28.txt\n",
            "Arquivo já existe e será sobrescrito: Faulty_Validation2.txt\n",
            "Arquivo já existe e será sobrescrito: Faulty_Validation192.txt\n",
            "Arquivo já existe e será sobrescrito: Faulty_Validation178.txt\n",
            "Arquivo já existe e será sobrescrito: Faulty_Validation186.txt\n",
            "Arquivo já existe e será sobrescrito: Faulty_Validation19.txt\n",
            "Arquivo já existe e será sobrescrito: Faulty_Validation33.txt\n",
            "Arquivo já existe e será sobrescrito: Faulty_Validation196.txt\n",
            "Arquivo já existe e será sobrescrito: Faulty_Validation31.txt\n",
            "Arquivo já existe e será sobrescrito: Faulty_Validation37.txt\n",
            "Arquivo já existe e será sobrescrito: Faulty_Validation191.txt\n",
            "Arquivo já existe e será sobrescrito: Faulty_Validation40.txt\n",
            "Arquivo já existe e será sobrescrito: Faulty_Validation30.txt\n",
            "Arquivo já existe e será sobrescrito: Faulty_Validation179.txt\n",
            "Arquivo já existe e será sobrescrito: Faulty_Validation183.txt\n",
            "Arquivo já existe e será sobrescrito: Faulty_Validation188.txt\n",
            "Arquivo já existe e será sobrescrito: Faulty_Validation25.txt\n",
            "Arquivo já existe e será sobrescrito: Faulty_Validation190.txt\n",
            "Arquivo já existe e será sobrescrito: Faulty_Validation23.txt\n",
            "Arquivo já existe e será sobrescrito: Faulty_Validation29.txt\n",
            "Arquivo já existe e será sobrescrito: Faulty_Validation24.txt\n",
            "Arquivo já existe e será sobrescrito: Faulty_Validation187.txt\n",
            "Arquivo já existe e será sobrescrito: Faulty_Validation35.txt\n",
            "Arquivo já existe e será sobrescrito: Faulty_Validation27.txt\n",
            "Arquivo já existe e será sobrescrito: Faulty_Validation189.txt\n",
            "Arquivo já existe e será sobrescrito: Faulty_Validation195.txt\n",
            "Arquivo já existe e será sobrescrito: Faulty_Validation34.txt\n",
            "Arquivo já existe e será sobrescrito: Faulty_Validation199.txt\n",
            "Arquivo já existe e será sobrescrito: Faulty_Validation3.txt\n",
            "Arquivo já existe e será sobrescrito: Faulty_Validation193.txt\n",
            "Arquivo já existe e será sobrescrito: Faulty_Validation184.txt\n",
            "Arquivo já existe e será sobrescrito: Faulty_Validation22.txt\n",
            "Arquivo já existe e será sobrescrito: Faulty_Validation20.txt\n",
            "Arquivo já existe e será sobrescrito: Faulty_Validation182.txt\n",
            "Arquivo já existe e será sobrescrito: Faulty_Validation198.txt\n",
            "Arquivo já existe e será sobrescrito: Faulty_Validation26.txt\n",
            "Arquivo já existe e será sobrescrito: Faulty_Validation4.txt\n",
            "Arquivo já existe e será sobrescrito: Faulty_Validation21.txt\n",
            "Arquivo já existe e será sobrescrito: Faulty_Validation38.txt\n",
            "Arquivo já existe e será sobrescrito: Faulty_Validation181.txt\n",
            "Arquivo já existe e será sobrescrito: Faulty_Validation194.txt\n",
            "Arquivo já existe e será sobrescrito: Faulty_Validation39.txt\n",
            "Arquivo já existe e será sobrescrito: Faulty_Validation177.txt\n",
            "Arquivo já existe e será sobrescrito: Faulty_Validation36.txt\n",
            "Arquivo já existe e será sobrescrito: Faulty_Validation185.txt\n",
            "Arquivo já existe e será sobrescrito: Faulty_Validation180.txt\n",
            "Arquivo já existe e será sobrescrito: Faulty_Validation18.txt\n",
            "Arquivo já existe e será sobrescrito: Faulty_Validation200.txt\n",
            "Arquivo já existe e será sobrescrito: Faulty_Validation32.txt\n",
            "Arquivo já existe e será sobrescrito: Faulty_Validation197.txt\n",
            "Arquivo já existe e será sobrescrito: Faulty_Validation69.txt\n",
            "Arquivo já existe e será sobrescrito: Faulty_Validation43.txt\n",
            "Arquivo já existe e será sobrescrito: Faulty_Validation84.txt\n",
            "Arquivo já existe e será sobrescrito: Faulty_Validation61.txt\n",
            "Arquivo já existe e será sobrescrito: Faulty_Validation77.txt\n",
            "Arquivo já existe e será sobrescrito: Faulty_Validation70.txt\n",
            "Arquivo já existe e será sobrescrito: Faulty_Validation55.txt\n",
            "Arquivo já existe e será sobrescrito: Faulty_Validation56.txt\n",
            "Arquivo já existe e será sobrescrito: Faulty_Validation53.txt\n",
            "Arquivo já existe e será sobrescrito: Faulty_Validation50.txt\n",
            "Arquivo já existe e será sobrescrito: Faulty_Validation76.txt\n",
            "Arquivo já existe e será sobrescrito: Faulty_Validation62.txt\n",
            "Arquivo já existe e será sobrescrito: Faulty_Validation65.txt\n",
            "Arquivo já existe e será sobrescrito: Faulty_Validation71.txt\n",
            "Arquivo já existe e será sobrescrito: Faulty_Validation8.txt\n",
            "Arquivo já existe e será sobrescrito: Faulty_Validation68.txt\n",
            "Arquivo já existe e será sobrescrito: Faulty_Validation44.txt\n",
            "Arquivo já existe e será sobrescrito: Faulty_Validation45.txt\n",
            "Arquivo já existe e será sobrescrito: Faulty_Validation78.txt\n",
            "Arquivo já existe e será sobrescrito: Faulty_Validation42.txt\n",
            "Arquivo já existe e será sobrescrito: Faulty_Validation64.txt\n",
            "Arquivo já existe e será sobrescrito: Faulty_Validation79.txt\n",
            "Arquivo já existe e será sobrescrito: Faulty_Validation46.txt\n",
            "Arquivo já existe e será sobrescrito: Faulty_Validation74.txt\n",
            "Arquivo já existe e será sobrescrito: Faulty_Validation59.txt\n",
            "Arquivo já existe e será sobrescrito: Faulty_Validation6.txt\n",
            "Arquivo já existe e será sobrescrito: Faulty_Validation60.txt\n",
            "Arquivo já existe e será sobrescrito: Faulty_Validation51.txt\n",
            "Arquivo já existe e será sobrescrito: Faulty_Validation83.txt\n",
            "Arquivo já existe e será sobrescrito: Faulty_Validation67.txt\n",
            "Arquivo já existe e será sobrescrito: Faulty_Validation52.txt\n",
            "Arquivo já existe e será sobrescrito: Faulty_Validation48.txt\n",
            "Arquivo já existe e será sobrescrito: Faulty_Validation57.txt\n",
            "Arquivo já existe e será sobrescrito: Faulty_Validation47.txt\n",
            "Arquivo já existe e será sobrescrito: Faulty_Validation7.txt\n",
            "Arquivo já existe e será sobrescrito: Faulty_Validation41.txt\n",
            "Arquivo já existe e será sobrescrito: Faulty_Validation5.txt\n",
            "Arquivo já existe e será sobrescrito: Faulty_Validation54.txt\n",
            "Arquivo já existe e será sobrescrito: Faulty_Validation63.txt\n",
            "Arquivo já existe e será sobrescrito: Faulty_Validation75.txt\n",
            "Arquivo já existe e será sobrescrito: Faulty_Validation81.txt\n",
            "Arquivo já existe e será sobrescrito: Faulty_Validation73.txt\n",
            "Arquivo já existe e será sobrescrito: Faulty_Validation49.txt\n",
            "Arquivo já existe e será sobrescrito: Faulty_Validation58.txt\n",
            "Arquivo já existe e será sobrescrito: Faulty_Validation66.txt\n",
            "Arquivo já existe e será sobrescrito: Faulty_Validation82.txt\n",
            "Arquivo já existe e será sobrescrito: Faulty_Validation80.txt\n",
            "Arquivo já existe e será sobrescrito: Faulty_Validation72.txt\n",
            "Arquivo já existe e será sobrescrito: Faulty_Validation99.txt\n",
            "Arquivo já existe e será sobrescrito: Faulty_Validation89.txt\n",
            "Arquivo já existe e será sobrescrito: Faulty_Validation9.txt\n",
            "Arquivo já existe e será sobrescrito: Faulty_Validation95.txt\n",
            "Arquivo já existe e será sobrescrito: Faulty_Validation92.txt\n",
            "Arquivo já existe e será sobrescrito: Faulty_Validation98.txt\n",
            "Arquivo já existe e será sobrescrito: Faulty_Validation94.txt\n",
            "Arquivo já existe e será sobrescrito: Faulty_Validation91.txt\n",
            "Arquivo já existe e será sobrescrito: Faulty_Validation97.txt\n",
            "Arquivo já existe e será sobrescrito: Faulty_Validation90.txt\n",
            "Arquivo já existe e será sobrescrito: Faulty_Validation96.txt\n",
            "Arquivo já existe e será sobrescrito: Faulty_Validation86.txt\n",
            "Arquivo já existe e será sobrescrito: Faulty_Validation93.txt\n",
            "Arquivo já existe e será sobrescrito: Faulty_Validation85.txt\n",
            "Arquivo já existe e será sobrescrito: Faulty_Validation87.txt\n",
            "Arquivo já existe e será sobrescrito: Faulty_Validation88.txt\n",
            "Arquivo já existe e será sobrescrito: Areial_Healthy27.txt\n",
            "Arquivo já existe e será sobrescrito: Areial_Healthy218.txt\n",
            "Arquivo já existe e será sobrescrito: Areial_Healthy141.txt\n",
            "Arquivo já existe e será sobrescrito: Areial_Healthy3.txt\n",
            "Arquivo já existe e será sobrescrito: Areial_Healthy311.txt\n",
            "Arquivo já existe e será sobrescrito: Areial_Healthy143.txt\n",
            "Arquivo já existe e será sobrescrito: Areial_Healthy134.txt\n",
            "Arquivo já existe e será sobrescrito: Areial_Healthy231.txt\n",
            "Arquivo já existe e será sobrescrito: Areial_Healthy300.txt\n",
            "Arquivo já existe e será sobrescrito: Areial_Healthy288.txt\n",
            "Arquivo já existe e será sobrescrito: Areial_Healthy120.txt\n",
            "Arquivo já existe e será sobrescrito: Areial_Healthy151.txt\n",
            "Arquivo já existe e será sobrescrito: Areial_Healthy159.txt\n",
            "Arquivo já existe e será sobrescrito: Areial_Healthy331.txt\n",
            "Arquivo já existe e será sobrescrito: Areial_Healthy203.txt\n",
            "Arquivo já existe e será sobrescrito: Areial_Healthy337.txt\n",
            "Arquivo já existe e será sobrescrito: Areial_Healthy26.txt\n",
            "Arquivo já existe e será sobrescrito: Areial_Healthy205.txt\n",
            "Arquivo já existe e será sobrescrito: Areial_Healthy357.txt\n",
            "Arquivo já existe e será sobrescrito: Areial_Healthy348.txt\n",
            "Arquivo já existe e será sobrescrito: Areial_Healthy214.txt\n",
            "Arquivo já existe e será sobrescrito: Areial_Healthy261.txt\n",
            "Arquivo já existe e será sobrescrito: Areial_Healthy250.txt\n",
            "Arquivo já existe e será sobrescrito: Areial_Healthy31.txt\n",
            "Arquivo já existe e será sobrescrito: Areial_Healthy104.txt\n",
            "Arquivo já existe e será sobrescrito: Areial_Healthy137.txt\n",
            "Arquivo já existe e será sobrescrito: Areial_Healthy317.txt\n",
            "Arquivo já existe e será sobrescrito: Areial_Healthy215.txt\n",
            "Arquivo já existe e será sobrescrito: Areial_Healthy379.txt\n",
            "Arquivo já existe e será sobrescrito: Areial_Healthy13.txt\n",
            "Arquivo já existe e será sobrescrito: Areial_Healthy209.txt\n",
            "Arquivo já existe e será sobrescrito: Areial_Healthy319.txt\n",
            "Arquivo já existe e será sobrescrito: Areial_Healthy256.txt\n",
            "Arquivo já existe e será sobrescrito: Areial_Healthy142.txt\n",
            "Arquivo já existe e será sobrescrito: Areial_Healthy322.txt\n",
            "Arquivo já existe e será sobrescrito: Areial_Healthy725.txt\n",
            "Arquivo já existe e será sobrescrito: Areial_Healthy544.txt\n",
            "Arquivo já existe e será sobrescrito: Areial_Healthy709.txt\n",
            "Arquivo já existe e será sobrescrito: Areial_Healthy51.txt\n",
            "Arquivo já existe e será sobrescrito: Areial_Healthy512.txt\n",
            "Arquivo já existe e será sobrescrito: Areial_Healthy380.txt\n",
            "Arquivo já existe e será sobrescrito: Areial_Healthy690.txt\n",
            "Arquivo já existe e será sobrescrito: Areial_Healthy419.txt\n",
            "Arquivo já existe e será sobrescrito: Areial_Healthy641.txt\n",
            "Arquivo já existe e será sobrescrito: Areial_Healthy660.txt\n",
            "Arquivo já existe e será sobrescrito: Areial_Healthy625.txt\n",
            "Arquivo já existe e será sobrescrito: Areial_Healthy721.txt\n",
            "Arquivo já existe e será sobrescrito: Areial_Healthy42.txt\n",
            "Arquivo já existe e será sobrescrito: Areial_Healthy572.txt\n",
            "Arquivo já existe e será sobrescrito: Areial_Healthy420.txt\n",
            "Arquivo já existe e será sobrescrito: Areial_Healthy729.txt\n",
            "Arquivo já existe e será sobrescrito: Areial_Healthy76.txt\n",
            "Arquivo já existe e será sobrescrito: Areial_Healthy43.txt\n",
            "Arquivo já existe e será sobrescrito: Areial_Healthy448.txt\n",
            "Arquivo já existe e será sobrescrito: Areial_Healthy647.txt\n",
            "Arquivo já existe e será sobrescrito: Areial_Healthy507.txt\n",
            "Arquivo já existe e será sobrescrito: Areial_Healthy684.txt\n",
            "Arquivo já existe e será sobrescrito: Areial_Healthy659.txt\n",
            "Arquivo já existe e será sobrescrito: Areial_Healthy569.txt\n",
            "Arquivo já existe e será sobrescrito: Areial_Healthy606.txt\n",
            "Arquivo já existe e será sobrescrito: Areial_Healthy555.txt\n",
            "Arquivo já existe e será sobrescrito: Areial_Healthy421.txt\n",
            "Arquivo já existe e será sobrescrito: Areial_Healthy540.txt\n",
            "Arquivo já existe e será sobrescrito: Areial_Healthy620.txt\n",
            "Arquivo já existe e será sobrescrito: Areial_Healthy453.txt\n",
            "Arquivo já existe e será sobrescrito: Areial_Healthy629.txt\n",
            "Arquivo já existe e será sobrescrito: Areial_Healthy547.txt\n",
            "Arquivo já existe e será sobrescrito: Areial_Healthy449.txt\n",
            "Arquivo já existe e será sobrescrito: Areial_Healthy740.txt\n",
            "Arquivo já existe e será sobrescrito: Areial_Healthy527.txt\n",
            "Arquivo já existe e será sobrescrito: Areial_Healthy633.txt\n",
            "Arquivo já existe e será sobrescrito: Areial_Healthy718.txt\n",
            "Arquivo já existe e será sobrescrito: Areial_Healthy464.txt\n",
            "Arquivo já existe e será sobrescrito: Areial_Healthy611.txt\n",
            "Arquivo já existe e será sobrescrito: Areial_Healthy732.txt\n",
            "Arquivo já existe e será sobrescrito: Areial_Healthy406.txt\n",
            "Arquivo já existe e será sobrescrito: Areial_Healthy542.txt\n",
            "Arquivo já existe e será sobrescrito: Areial_Healthy481.txt\n",
            "Arquivo já existe e será sobrescrito: Areial_Healthy753.txt\n",
            "Arquivo já existe e será sobrescrito: Healthy_Validation110.txt\n",
            "Arquivo já existe e será sobrescrito: Areial_Healthy856.txt\n",
            "Arquivo já existe e será sobrescrito: Healthy_Validation115.txt\n",
            "Arquivo já existe e será sobrescrito: Healthy_Validation12.txt\n",
            "Arquivo já existe e será sobrescrito: Healthy_Validation117.txt\n",
            "Arquivo já existe e será sobrescrito: Healthy_Validation102.txt\n",
            "Arquivo já existe e será sobrescrito: Areial_Healthy902.txt\n",
            "Arquivo já existe e será sobrescrito: Healthy_Validation119.txt\n",
            "Arquivo já existe e será sobrescrito: Healthy_Validation122.txt\n",
            "Arquivo já existe e será sobrescrito: Healthy_Validation108.txt\n",
            "Arquivo já existe e será sobrescrito: Areial_Healthy79.txt\n",
            "Arquivo já existe e será sobrescrito: Areial_Healthy989.txt\n",
            "Arquivo já existe e será sobrescrito: Healthy_Validation101.txt\n",
            "Arquivo já existe e será sobrescrito: Areial_Healthy862.txt\n",
            "Arquivo já existe e será sobrescrito: Areial_Healthy936.txt\n",
            "Arquivo já existe e será sobrescrito: Healthy_Validation120.txt\n",
            "Arquivo já existe e será sobrescrito: Healthy_Validation111.txt\n",
            "Arquivo já existe e será sobrescrito: Areial_Healthy866.txt\n",
            "Arquivo já existe e será sobrescrito: Areial_Healthy779.txt\n",
            "Arquivo já existe e será sobrescrito: Areial_Healthy897.txt\n",
            "Arquivo já existe e será sobrescrito: Areial_Healthy764.txt\n",
            "Arquivo já existe e será sobrescrito: Areial_Healthy780.txt\n",
            "Arquivo já existe e será sobrescrito: Healthy_Validation109.txt\n",
            "Arquivo já existe e será sobrescrito: Areial_Healthy899.txt\n",
            "Arquivo já existe e será sobrescrito: Areial_Healthy917.txt\n",
            "Arquivo já existe e será sobrescrito: Areial_Healthy949.txt\n",
            "Arquivo já existe e será sobrescrito: Areial_Healthy814.txt\n",
            "Arquivo já existe e será sobrescrito: Areial_Healthy804.txt\n",
            "Arquivo já existe e será sobrescrito: Healthy_Validation103.txt\n",
            "Arquivo já existe e será sobrescrito: Healthy_Validation118.txt\n",
            "Arquivo já existe e será sobrescrito: Healthy_Validation106.txt\n",
            "Arquivo já existe e será sobrescrito: Healthy_Validation116.txt\n",
            "Arquivo já existe e será sobrescrito: Healthy_Validation10.txt\n",
            "Arquivo já existe e será sobrescrito: Healthy_Validation11.txt\n",
            "Arquivo já existe e será sobrescrito: Healthy_Validation1.txt\n",
            "Arquivo já existe e será sobrescrito: Healthy_Validation114.txt\n",
            "Arquivo já existe e será sobrescrito: Healthy_Validation100.txt\n",
            "Arquivo já existe e será sobrescrito: Areial_Healthy78.txt\n",
            "Arquivo já existe e será sobrescrito: Areial_Healthy961.txt\n",
            "Arquivo já existe e será sobrescrito: Healthy_Validation107.txt\n",
            "Arquivo já existe e será sobrescrito: Areial_Healthy912.txt\n",
            "Arquivo já existe e será sobrescrito: Areial_Healthy791.txt\n",
            "Arquivo já existe e será sobrescrito: Healthy_Validation104.txt\n",
            "Arquivo já existe e será sobrescrito: Healthy_Validation112.txt\n",
            "Arquivo já existe e será sobrescrito: Areial_Healthy981.txt\n",
            "Arquivo já existe e será sobrescrito: Healthy_Validation105.txt\n",
            "Arquivo já existe e será sobrescrito: Healthy_Validation113.txt\n",
            "Arquivo já existe e será sobrescrito: Healthy_Validation121.txt\n",
            "Arquivo já existe e será sobrescrito: Healthy_Validation16.txt\n",
            "Arquivo já existe e será sobrescrito: Healthy_Validation127.txt\n",
            "Arquivo já existe e será sobrescrito: Healthy_Validation156.txt\n",
            "Arquivo já existe e será sobrescrito: Healthy_Validation126.txt\n",
            "Arquivo já existe e será sobrescrito: Healthy_Validation150.txt\n",
            "Arquivo já existe e será sobrescrito: Healthy_Validation147.txt\n",
            "Arquivo já existe e será sobrescrito: Healthy_Validation148.txt\n",
            "Arquivo já existe e será sobrescrito: Healthy_Validation134.txt\n",
            "Arquivo já existe e será sobrescrito: Healthy_Validation138.txt\n",
            "Arquivo já existe e será sobrescrito: Healthy_Validation132.txt\n",
            "Arquivo já existe e será sobrescrito: Healthy_Validation146.txt\n",
            "Arquivo já existe e será sobrescrito: Healthy_Validation155.txt\n",
            "Arquivo já existe e será sobrescrito: Healthy_Validation164.txt\n",
            "Arquivo já existe e será sobrescrito: Healthy_Validation159.txt\n",
            "Arquivo já existe e será sobrescrito: Healthy_Validation131.txt\n",
            "Arquivo já existe e será sobrescrito: Healthy_Validation123.txt\n",
            "Arquivo já existe e será sobrescrito: Healthy_Validation124.txt\n",
            "Arquivo já existe e será sobrescrito: Healthy_Validation142.txt\n",
            "Arquivo já existe e será sobrescrito: Healthy_Validation167.txt\n",
            "Arquivo já existe e será sobrescrito: Healthy_Validation13.txt\n",
            "Arquivo já existe e será sobrescrito: Healthy_Validation136.txt\n",
            "Arquivo já existe e será sobrescrito: Healthy_Validation145.txt\n",
            "Arquivo já existe e será sobrescrito: Healthy_Validation129.txt\n",
            "Arquivo já existe e será sobrescrito: Healthy_Validation162.txt\n",
            "Arquivo já existe e será sobrescrito: Healthy_Validation137.txt\n",
            "Arquivo já existe e será sobrescrito: Healthy_Validation15.txt\n",
            "Arquivo já existe e será sobrescrito: Healthy_Validation154.txt\n",
            "Arquivo já existe e será sobrescrito: Healthy_Validation153.txt\n",
            "Arquivo já existe e será sobrescrito: Healthy_Validation152.txt\n",
            "Arquivo já existe e será sobrescrito: Healthy_Validation141.txt\n",
            "Arquivo já existe e será sobrescrito: Healthy_Validation151.txt\n",
            "Arquivo já existe e será sobrescrito: Healthy_Validation157.txt\n",
            "Arquivo já existe e será sobrescrito: Healthy_Validation161.txt\n",
            "Arquivo já existe e será sobrescrito: Healthy_Validation130.txt\n",
            "Arquivo já existe e será sobrescrito: Healthy_Validation139.txt\n",
            "Arquivo já existe e será sobrescrito: Healthy_Validation140.txt\n",
            "Arquivo já existe e será sobrescrito: Healthy_Validation166.txt\n",
            "Arquivo já existe e será sobrescrito: Healthy_Validation14.txt\n",
            "Arquivo já existe e será sobrescrito: Healthy_Validation125.txt\n",
            "Arquivo já existe e será sobrescrito: Healthy_Validation128.txt\n",
            "Arquivo já existe e será sobrescrito: Healthy_Validation135.txt\n",
            "Arquivo já existe e será sobrescrito: Healthy_Validation133.txt\n",
            "Arquivo já existe e será sobrescrito: Healthy_Validation143.txt\n",
            "Arquivo já existe e será sobrescrito: Healthy_Validation149.txt\n",
            "Arquivo já existe e será sobrescrito: Healthy_Validation165.txt\n",
            "Arquivo já existe e será sobrescrito: Healthy_Validation158.txt\n",
            "Arquivo já existe e será sobrescrito: Healthy_Validation144.txt\n",
            "Arquivo já existe e será sobrescrito: Healthy_Validation163.txt\n",
            "Arquivo já existe e será sobrescrito: Healthy_Validation160.txt\n",
            "Arquivo já existe e será sobrescrito: Healthy_Validation28.txt\n",
            "Arquivo já existe e será sobrescrito: Healthy_Validation19.txt\n",
            "Arquivo já existe e será sobrescrito: Healthy_Validation168.txt\n",
            "Arquivo já existe e será sobrescrito: Healthy_Validation199.txt\n",
            "Arquivo já existe e será sobrescrito: Healthy_Validation171.txt\n",
            "Arquivo já existe e será sobrescrito: Healthy_Validation198.txt\n",
            "Arquivo já existe e será sobrescrito: Healthy_Validation188.txt\n",
            "Arquivo já existe e será sobrescrito: Healthy_Validation174.txt\n",
            "Arquivo já existe e será sobrescrito: Healthy_Validation176.txt\n",
            "Arquivo já existe e será sobrescrito: Healthy_Validation2.txt\n",
            "Arquivo já existe e será sobrescrito: Healthy_Validation200.txt\n",
            "Arquivo já existe e será sobrescrito: Healthy_Validation173.txt\n",
            "Arquivo já existe e será sobrescrito: Healthy_Validation24.txt\n",
            "Arquivo já existe e será sobrescrito: Healthy_Validation26.txt\n",
            "Arquivo já existe e será sobrescrito: Healthy_Validation27.txt\n",
            "Arquivo já existe e será sobrescrito: Healthy_Validation177.txt\n",
            "Arquivo já existe e será sobrescrito: Healthy_Validation18.txt\n",
            "Arquivo já existe e será sobrescrito: Healthy_Validation194.txt\n",
            "Arquivo já existe e será sobrescrito: Healthy_Validation170.txt\n",
            "Arquivo já existe e será sobrescrito: Healthy_Validation182.txt\n",
            "Arquivo já existe e será sobrescrito: Healthy_Validation178.txt\n",
            "Arquivo já existe e será sobrescrito: Healthy_Validation189.txt\n",
            "Arquivo já existe e será sobrescrito: Healthy_Validation192.txt\n",
            "Arquivo já existe e será sobrescrito: Healthy_Validation197.txt\n",
            "Arquivo já existe e será sobrescrito: Healthy_Validation183.txt\n",
            "Arquivo já existe e será sobrescrito: Healthy_Validation20.txt\n",
            "Arquivo já existe e será sobrescrito: Healthy_Validation179.txt\n",
            "Arquivo já existe e será sobrescrito: Healthy_Validation193.txt\n",
            "Arquivo já existe e será sobrescrito: Healthy_Validation195.txt\n",
            "Arquivo já existe e será sobrescrito: Healthy_Validation23.txt\n",
            "Arquivo já existe e será sobrescrito: Healthy_Validation185.txt\n",
            "Arquivo já existe e será sobrescrito: Healthy_Validation191.txt\n",
            "Arquivo já existe e será sobrescrito: Healthy_Validation196.txt\n",
            "Arquivo já existe e será sobrescrito: Healthy_Validation22.txt\n",
            "Arquivo já existe e será sobrescrito: Healthy_Validation180.txt\n",
            "Arquivo já existe e será sobrescrito: Healthy_Validation25.txt\n",
            "Arquivo já existe e será sobrescrito: Healthy_Validation175.txt\n",
            "Arquivo já existe e será sobrescrito: Healthy_Validation21.txt\n",
            "Arquivo já existe e será sobrescrito: Healthy_Validation17.txt\n",
            "Arquivo já existe e será sobrescrito: Healthy_Validation169.txt\n",
            "Arquivo já existe e será sobrescrito: Healthy_Validation181.txt\n",
            "Arquivo já existe e será sobrescrito: Healthy_Validation172.txt\n",
            "Arquivo já existe e será sobrescrito: Healthy_Validation184.txt\n",
            "Arquivo já existe e será sobrescrito: Healthy_Validation190.txt\n",
            "Arquivo já existe e será sobrescrito: Healthy_Validation187.txt\n",
            "Arquivo já existe e será sobrescrito: Healthy_Validation186.txt\n",
            "Arquivo já existe e será sobrescrito: Healthy_Validation56.txt\n",
            "Arquivo já existe e será sobrescrito: Healthy_Validation40.txt\n",
            "Arquivo já existe e será sobrescrito: Healthy_Validation33.txt\n",
            "Arquivo já existe e será sobrescrito: Healthy_Validation44.txt\n",
            "Arquivo já existe e será sobrescrito: Healthy_Validation37.txt\n",
            "Arquivo já existe e será sobrescrito: Healthy_Validation3.txt\n",
            "Arquivo já existe e será sobrescrito: Healthy_Validation6.txt\n",
            "Arquivo já existe e será sobrescrito: Healthy_Validation38.txt\n",
            "Arquivo já existe e será sobrescrito: Healthy_Validation55.txt\n",
            "Arquivo já existe e será sobrescrito: Healthy_Validation52.txt\n",
            "Arquivo já existe e será sobrescrito: Healthy_Validation65.txt\n",
            "Arquivo já existe e será sobrescrito: Healthy_Validation70.txt\n",
            "Arquivo já existe e será sobrescrito: Healthy_Validation32.txt\n",
            "Arquivo já existe e será sobrescrito: Healthy_Validation29.txt\n",
            "Arquivo já existe e será sobrescrito: Healthy_Validation42.txt\n",
            "Arquivo já existe e será sobrescrito: Healthy_Validation67.txt\n",
            "Arquivo já existe e será sobrescrito: Healthy_Validation31.txt\n",
            "Arquivo já existe e será sobrescrito: Healthy_Validation45.txt\n",
            "Arquivo já existe e será sobrescrito: Healthy_Validation47.txt\n",
            "Arquivo já existe e será sobrescrito: Healthy_Validation4.txt\n",
            "Arquivo já existe e será sobrescrito: Healthy_Validation63.txt\n",
            "Arquivo já existe e será sobrescrito: Healthy_Validation69.txt\n",
            "Arquivo já existe e será sobrescrito: Healthy_Validation66.txt\n",
            "Arquivo já existe e será sobrescrito: Healthy_Validation50.txt\n",
            "Arquivo já existe e será sobrescrito: Healthy_Validation7.txt\n",
            "Arquivo já existe e será sobrescrito: Healthy_Validation49.txt\n",
            "Arquivo já existe e será sobrescrito: Healthy_Validation43.txt\n",
            "Arquivo já existe e será sobrescrito: Healthy_Validation39.txt\n",
            "Arquivo já existe e será sobrescrito: Healthy_Validation60.txt\n",
            "Arquivo já existe e será sobrescrito: Healthy_Validation46.txt\n",
            "Arquivo já existe e será sobrescrito: Healthy_Validation5.txt\n",
            "Arquivo já existe e será sobrescrito: Healthy_Validation57.txt\n",
            "Arquivo já existe e será sobrescrito: Healthy_Validation61.txt\n",
            "Arquivo já existe e será sobrescrito: Healthy_Validation68.txt\n",
            "Arquivo já existe e será sobrescrito: Healthy_Validation41.txt\n",
            "Arquivo já existe e será sobrescrito: Healthy_Validation36.txt\n",
            "Arquivo já existe e será sobrescrito: Healthy_Validation64.txt\n",
            "Arquivo já existe e será sobrescrito: Healthy_Validation34.txt\n",
            "Arquivo já existe e será sobrescrito: Healthy_Validation30.txt\n",
            "Arquivo já existe e será sobrescrito: Healthy_Validation58.txt\n",
            "Arquivo já existe e será sobrescrito: Healthy_Validation51.txt\n",
            "Arquivo já existe e será sobrescrito: Healthy_Validation54.txt\n",
            "Arquivo já existe e será sobrescrito: Healthy_Validation59.txt\n",
            "Arquivo já existe e será sobrescrito: Healthy_Validation35.txt\n",
            "Arquivo já existe e será sobrescrito: Healthy_Validation53.txt\n",
            "Arquivo já existe e será sobrescrito: Healthy_Validation48.txt\n",
            "Arquivo já existe e será sobrescrito: Healthy_Validation62.txt\n",
            "Arquivo já existe e será sobrescrito: Healthy_Validation74.txt\n",
            "Arquivo já existe e será sobrescrito: Healthy_Validation73.txt\n",
            "Arquivo já existe e será sobrescrito: Healthy_Validation80.txt\n",
            "Arquivo já existe e será sobrescrito: Healthy_Validation9.txt\n",
            "Arquivo já existe e será sobrescrito: Healthy_Validation8.txt\n",
            "Arquivo já existe e será sobrescrito: Healthy_Validation87.txt\n",
            "Arquivo já existe e será sobrescrito: Healthy_Validation86.txt\n",
            "Arquivo já existe e será sobrescrito: Healthy_Validation97.txt\n",
            "Arquivo já existe e será sobrescrito: Healthy_Validation78.txt\n",
            "Arquivo já existe e será sobrescrito: Healthy_Validation90.txt\n",
            "Arquivo já existe e será sobrescrito: Healthy_Validation83.txt\n",
            "Arquivo já existe e será sobrescrito: Healthy_Validation85.txt\n",
            "Arquivo já existe e será sobrescrito: Healthy_Validation77.txt\n",
            "Arquivo já existe e será sobrescrito: Healthy_Validation82.txt\n",
            "Arquivo já existe e será sobrescrito: Healthy_Validation98.txt\n",
            "Arquivo já existe e será sobrescrito: Healthy_Validation95.txt\n",
            "Arquivo já existe e será sobrescrito: Healthy_Validation91.txt\n",
            "Arquivo já existe e será sobrescrito: Healthy_Validation71.txt\n",
            "Arquivo já existe e será sobrescrito: Healthy_Validation76.txt\n",
            "Arquivo já existe e será sobrescrito: Healthy_Validation89.txt\n",
            "Arquivo já existe e será sobrescrito: Healthy_Validation96.txt\n",
            "Arquivo já existe e será sobrescrito: Healthy_Validation75.txt\n",
            "Arquivo já existe e será sobrescrito: Healthy_Validation84.txt\n",
            "Arquivo já existe e será sobrescrito: Healthy_Validation92.txt\n",
            "Arquivo já existe e será sobrescrito: Healthy_Validation79.txt\n",
            "Arquivo já existe e será sobrescrito: Healthy_Validation99.txt\n",
            "Arquivo já existe e será sobrescrito: Healthy_Validation81.txt\n",
            "Arquivo já existe e será sobrescrito: Healthy_Validation93.txt\n",
            "Arquivo já existe e será sobrescrito: Healthy_Validation88.txt\n",
            "Arquivo já existe e será sobrescrito: Healthy_Validation94.txt\n",
            "Arquivo já existe e será sobrescrito: Healthy_Validation72.txt\n",
            "Labels concluidas!\n"
          ]
        }
      ]
    },
    {
      "cell_type": "markdown",
      "source": [
        "Criação das labels -> pasta Validation"
      ],
      "metadata": {
        "id": "HByqbGzgWUSU"
      }
    },
    {
      "cell_type": "code",
      "source": [
        "origem1 = '/content/drive/Shareddrives/Letícia Vieira Gonçalves - Pesquisa/dataset/CAI-SWTB-Dataset/Validation/annotationsF'\n",
        "origem2 = '/content/drive/Shareddrives/Letícia Vieira Gonçalves - Pesquisa/dataset/CAI-SWTB-Dataset/Validation/annotationsH'\n",
        "destino = '/content/drive/Shareddrives/Letícia Vieira Gonçalves - Pesquisa/dataset/CAI-SWTB-Dataset/Validation/annotations'"
      ],
      "metadata": {
        "id": "njgngoVJWYzK"
      },
      "execution_count": null,
      "outputs": []
    },
    {
      "cell_type": "code",
      "source": [
        "os.makedirs(destino, exist_ok=True)\n",
        "\n",
        "# Função para copiar os arquivos\n",
        "def copiar_labels(origem):\n",
        "    for arquivo in os.listdir(origem):\n",
        "        if arquivo.endswith('.txt'):\n",
        "            origem_arquivo = os.path.join(origem, arquivo)\n",
        "            destino_arquivo = os.path.join(destino, arquivo)\n",
        "\n",
        "            # Evita sobrescrever arquivos com mesmo nome\n",
        "            if os.path.exists(destino_arquivo):\n",
        "                print(f\"Arquivo já existe e será sobrescrito: {arquivo}\")\n",
        "\n",
        "            shutil.copy2(origem_arquivo, destino_arquivo)\n",
        "\n",
        "# Copiar das duas pastas\n",
        "copiar_labels(origem1)\n",
        "copiar_labels(origem2)\n",
        "\n",
        "print(\"Labels concluidas!\")"
      ],
      "metadata": {
        "id": "e21x9uEaWjX1",
        "outputId": "dbd2e0fd-d5a4-4504-d58b-da1ecb18396a",
        "colab": {
          "base_uri": "https://localhost:8080/"
        }
      },
      "execution_count": 29,
      "outputs": [
        {
          "output_type": "stream",
          "name": "stdout",
          "text": [
            "Arquivo já existe e será sobrescrito: Areial_Faulty27.txt\n",
            "Arquivo já existe e será sobrescrito: Areial_Faulty441.txt\n",
            "Arquivo já existe e será sobrescrito: Areial_Faulty212.txt\n",
            "Arquivo já existe e será sobrescrito: Areial_Faulty475.txt\n",
            "Arquivo já existe e será sobrescrito: Areial_Faulty336.txt\n",
            "Arquivo já existe e será sobrescrito: Areial_Faulty382.txt\n",
            "Arquivo já existe e será sobrescrito: Areial_Faulty110.txt\n",
            "Arquivo já existe e será sobrescrito: Areial_Faulty471.txt\n",
            "Arquivo já existe e será sobrescrito: Areial_Faulty280.txt\n",
            "Arquivo já existe e será sobrescrito: Areial_Faulty232.txt\n",
            "Arquivo já existe e será sobrescrito: Areial_Faulty215.txt\n",
            "Arquivo já existe e será sobrescrito: Areial_Faulty230.txt\n",
            "Arquivo já existe e será sobrescrito: Areial_Faulty193.txt\n",
            "Arquivo já existe e será sobrescrito: Areial_Faulty134.txt\n",
            "Arquivo já existe e será sobrescrito: Areial_Faulty420.txt\n",
            "Arquivo já existe e será sobrescrito: Areial_Faulty5.txt\n",
            "Arquivo já existe e será sobrescrito: Areial_Faulty451.txt\n",
            "Arquivo já existe e será sobrescrito: Areial_Faulty371.txt\n",
            "Arquivo já existe e será sobrescrito: Areial_Faulty255.txt\n",
            "Arquivo já existe e será sobrescrito: Areial_Faulty421.txt\n",
            "Arquivo já existe e será sobrescrito: Areial_Faulty289.txt\n",
            "Arquivo já existe e será sobrescrito: Areial_Faulty165.txt\n",
            "Arquivo já existe e será sobrescrito: Areial_Faulty498.txt\n",
            "Arquivo já existe e será sobrescrito: Areial_Faulty308.txt\n",
            "Arquivo já existe e será sobrescrito: Areial_Faulty118.txt\n",
            "Arquivo já existe e será sobrescrito: Areial_Faulty390.txt\n",
            "Arquivo já existe e será sobrescrito: Areial_Faulty415.txt\n",
            "Arquivo já existe e será sobrescrito: Areial_Faulty431.txt\n",
            "Arquivo já existe e será sobrescrito: Areial_Faulty423.txt\n",
            "Arquivo já existe e será sobrescrito: Areial_Faulty309.txt\n",
            "Arquivo já existe e será sobrescrito: Areial_Faulty391.txt\n",
            "Arquivo já existe e será sobrescrito: Areial_Faulty389.txt\n",
            "Arquivo já existe e será sobrescrito: Areial_Faulty356.txt\n",
            "Arquivo já existe e será sobrescrito: Areial_Faulty450.txt\n",
            "Arquivo já existe e será sobrescrito: Areial_Faulty47.txt\n",
            "Arquivo já existe e será sobrescrito: Areial_Faulty321.txt\n",
            "Arquivo já existe e será sobrescrito: Areial_Faulty46.txt\n",
            "Arquivo já existe e será sobrescrito: Areial_Faulty748.txt\n",
            "Arquivo já existe e será sobrescrito: Areial_Faulty74.txt\n",
            "Arquivo já existe e será sobrescrito: Areial_Faulty792.txt\n",
            "Arquivo já existe e será sobrescrito: Areial_Faulty526.txt\n",
            "Arquivo já existe e será sobrescrito: Areial_Faulty527.txt\n",
            "Arquivo já existe e será sobrescrito: Areial_Faulty612.txt\n",
            "Arquivo já existe e será sobrescrito: Areial_Faulty724.txt\n",
            "Arquivo já existe e será sobrescrito: Areial_Faulty696.txt\n",
            "Arquivo já existe e será sobrescrito: Areial_Faulty65.txt\n",
            "Arquivo já existe e será sobrescrito: Areial_Faulty649.txt\n",
            "Arquivo já existe e será sobrescrito: Areial_Faulty822.txt\n",
            "Arquivo já existe e será sobrescrito: Areial_Faulty844.txt\n",
            "Arquivo já existe e será sobrescrito: Areial_Faulty636.txt\n",
            "Arquivo já existe e será sobrescrito: Areial_Faulty772.txt\n",
            "Arquivo já existe e será sobrescrito: Areial_Faulty57.txt\n",
            "Arquivo já existe e será sobrescrito: Areial_Faulty692.txt\n",
            "Arquivo já existe e será sobrescrito: Areial_Faulty61.txt\n",
            "Arquivo já existe e será sobrescrito: Areial_Faulty883.txt\n",
            "Arquivo já existe e será sobrescrito: Areial_Faulty596.txt\n",
            "Arquivo já existe e será sobrescrito: Areial_Faulty773.txt\n",
            "Arquivo já existe e será sobrescrito: Areial_Faulty73.txt\n",
            "Arquivo já existe e será sobrescrito: Areial_Faulty873.txt\n",
            "Arquivo já existe e será sobrescrito: Areial_Faulty78.txt\n",
            "Arquivo já existe e será sobrescrito: Areial_Faulty717.txt\n",
            "Arquivo já existe e será sobrescrito: Areial_Faulty514.txt\n",
            "Arquivo já existe e será sobrescrito: Areial_Faulty639.txt\n",
            "Arquivo já existe e será sobrescrito: Areial_Faulty82.txt\n",
            "Arquivo já existe e será sobrescrito: Areial_Faulty842.txt\n",
            "Arquivo já existe e será sobrescrito: Areial_Faulty523.txt\n",
            "Arquivo já existe e será sobrescrito: Areial_Faulty863.txt\n",
            "Arquivo já existe e será sobrescrito: Areial_Faulty777.txt\n",
            "Arquivo já existe e será sobrescrito: Areial_Faulty669.txt\n",
            "Arquivo já existe e será sobrescrito: Areial_Faulty674.txt\n",
            "Arquivo já existe e será sobrescrito: Areial_Faulty654.txt\n",
            "Arquivo já existe e será sobrescrito: Areial_Faulty707.txt\n",
            "Arquivo já existe e será sobrescrito: Areial_Faulty671.txt\n",
            "Arquivo já existe e será sobrescrito: Areial_Faulty853.txt\n",
            "Arquivo já existe e será sobrescrito: Areial_Faulty775.txt\n",
            "Arquivo já existe e será sobrescrito: Areial_Faulty678.txt\n",
            "Arquivo já existe e será sobrescrito: Areial_Faulty513.txt\n",
            "Arquivo já existe e será sobrescrito: Areial_Faulty864.txt\n",
            "Arquivo já existe e será sobrescrito: Areial_Faulty740.txt\n",
            "Arquivo já existe e será sobrescrito: Areial_Faulty865.txt\n",
            "Arquivo já existe e será sobrescrito: Areial_Faulty711.txt\n",
            "Arquivo já existe e será sobrescrito: Areial_Faulty746.txt\n",
            "Arquivo já existe e será sobrescrito: Areial_Faulty701.txt\n",
            "Arquivo já existe e será sobrescrito: Areial_Faulty608.txt\n",
            "Arquivo já existe e será sobrescrito: Areial_Faulty750.txt\n",
            "Arquivo já existe e será sobrescrito: Areial_Faulty586.txt\n",
            "Arquivo já existe e será sobrescrito: Areial_Faulty887.txt\n",
            "Arquivo já existe e será sobrescrito: Faulty_Validation112.txt\n",
            "Arquivo já existe e será sobrescrito: Faulty_Validation115.txt\n",
            "Arquivo já existe e será sobrescrito: Faulty_Validation102.txt\n",
            "Arquivo já existe e será sobrescrito: Faulty_Validation111.txt\n",
            "Arquivo já existe e será sobrescrito: Faulty_Validation104.txt\n",
            "Arquivo já existe e será sobrescrito: Areial_Faulty894.txt\n",
            "Arquivo já existe e será sobrescrito: Faulty_Validation110.txt\n",
            "Arquivo já existe e será sobrescrito: Faulty_Validation122.txt\n",
            "Arquivo já existe e será sobrescrito: Faulty_Validation123.txt\n",
            "Arquivo já existe e será sobrescrito: Faulty_Validation113.txt\n",
            "Arquivo já existe e será sobrescrito: Faulty_Validation10.txt\n",
            "Arquivo já existe e será sobrescrito: Faulty_Validation11.txt\n",
            "Arquivo já existe e será sobrescrito: Faulty_Validation128.txt\n",
            "Arquivo já existe e será sobrescrito: Areial_Faulty920.txt\n",
            "Arquivo já existe e será sobrescrito: Faulty_Validation13.txt\n",
            "Arquivo já existe e será sobrescrito: Faulty_Validation125.txt\n",
            "Arquivo já existe e será sobrescrito: Faulty_Validation106.txt\n",
            "Arquivo já existe e será sobrescrito: Faulty_Validation130.txt\n",
            "Arquivo já existe e será sobrescrito: Areial_Faulty95.txt\n",
            "Arquivo já existe e será sobrescrito: Areial_Faulty997.txt\n",
            "Arquivo já existe e será sobrescrito: Faulty_Validation121.txt\n",
            "Arquivo já existe e será sobrescrito: Areial_Faulty972.txt\n",
            "Arquivo já existe e será sobrescrito: Areial_Faulty922.txt\n",
            "Arquivo já existe e será sobrescrito: Areial_Faulty948.txt\n",
            "Arquivo já existe e será sobrescrito: Faulty_Validation108.txt\n",
            "Arquivo já existe e será sobrescrito: Faulty_Validation131.txt\n",
            "Arquivo já existe e será sobrescrito: Areial_Faulty994.txt\n",
            "Arquivo já existe e será sobrescrito: Faulty_Validation118.txt\n",
            "Arquivo já existe e será sobrescrito: Areial_Faulty978.txt\n",
            "Arquivo já existe e será sobrescrito: Faulty_Validation124.txt\n",
            "Arquivo já existe e será sobrescrito: Faulty_Validation103.txt\n",
            "Arquivo já existe e será sobrescrito: Faulty_Validation1.txt\n",
            "Arquivo já existe e será sobrescrito: Faulty_Validation109.txt\n",
            "Arquivo já existe e será sobrescrito: Areial_Faulty931.txt\n",
            "Arquivo já existe e será sobrescrito: Areial_Faulty960.txt\n",
            "Arquivo já existe e será sobrescrito: Faulty_Validation100.txt\n",
            "Arquivo já existe e será sobrescrito: Faulty_Validation117.txt\n",
            "Arquivo já existe e será sobrescrito: Faulty_Validation107.txt\n",
            "Arquivo já existe e será sobrescrito: Areial_Faulty969.txt\n",
            "Arquivo já existe e será sobrescrito: Faulty_Validation126.txt\n",
            "Arquivo já existe e será sobrescrito: Faulty_Validation127.txt\n",
            "Arquivo já existe e será sobrescrito: Faulty_Validation101.txt\n",
            "Arquivo já existe e será sobrescrito: Faulty_Validation105.txt\n",
            "Arquivo já existe e será sobrescrito: Faulty_Validation116.txt\n",
            "Arquivo já existe e será sobrescrito: Faulty_Validation12.txt\n",
            "Arquivo já existe e será sobrescrito: Faulty_Validation129.txt\n",
            "Arquivo já existe e será sobrescrito: Faulty_Validation119.txt\n",
            "Arquivo já existe e será sobrescrito: Faulty_Validation120.txt\n",
            "Arquivo já existe e será sobrescrito: Areial_Faulty998.txt\n",
            "Arquivo já existe e será sobrescrito: Faulty_Validation114.txt\n",
            "Arquivo já existe e será sobrescrito: Faulty_Validation169.txt\n",
            "Arquivo já existe e será sobrescrito: Faulty_Validation146.txt\n",
            "Arquivo já existe e será sobrescrito: Faulty_Validation173.txt\n",
            "Arquivo já existe e será sobrescrito: Faulty_Validation174.txt\n",
            "Arquivo já existe e será sobrescrito: Faulty_Validation176.txt\n",
            "Arquivo já existe e será sobrescrito: Faulty_Validation167.txt\n",
            "Arquivo já existe e será sobrescrito: Faulty_Validation145.txt\n",
            "Arquivo já existe e será sobrescrito: Faulty_Validation139.txt\n",
            "Arquivo já existe e será sobrescrito: Faulty_Validation135.txt\n",
            "Arquivo já existe e será sobrescrito: Faulty_Validation138.txt\n",
            "Arquivo já existe e será sobrescrito: Faulty_Validation16.txt\n",
            "Arquivo já existe e será sobrescrito: Faulty_Validation140.txt\n",
            "Arquivo já existe e será sobrescrito: Faulty_Validation156.txt\n",
            "Arquivo já existe e será sobrescrito: Faulty_Validation158.txt\n",
            "Arquivo já existe e será sobrescrito: Faulty_Validation175.txt\n",
            "Arquivo já existe e será sobrescrito: Faulty_Validation155.txt\n",
            "Arquivo já existe e será sobrescrito: Faulty_Validation137.txt\n",
            "Arquivo já existe e será sobrescrito: Faulty_Validation153.txt\n",
            "Arquivo já existe e será sobrescrito: Faulty_Validation164.txt\n",
            "Arquivo já existe e será sobrescrito: Faulty_Validation147.txt\n",
            "Arquivo já existe e será sobrescrito: Faulty_Validation150.txt\n",
            "Arquivo já existe e será sobrescrito: Faulty_Validation166.txt\n",
            "Arquivo já existe e será sobrescrito: Faulty_Validation162.txt\n",
            "Arquivo já existe e será sobrescrito: Faulty_Validation144.txt\n",
            "Arquivo já existe e será sobrescrito: Faulty_Validation165.txt\n",
            "Arquivo já existe e será sobrescrito: Faulty_Validation157.txt\n",
            "Arquivo já existe e será sobrescrito: Faulty_Validation142.txt\n",
            "Arquivo já existe e será sobrescrito: Faulty_Validation168.txt\n",
            "Arquivo já existe e será sobrescrito: Faulty_Validation143.txt\n",
            "Arquivo já existe e será sobrescrito: Faulty_Validation149.txt\n",
            "Arquivo já existe e será sobrescrito: Faulty_Validation134.txt\n",
            "Arquivo já existe e será sobrescrito: Faulty_Validation17.txt\n",
            "Arquivo já existe e será sobrescrito: Faulty_Validation15.txt\n",
            "Arquivo já existe e será sobrescrito: Faulty_Validation148.txt\n",
            "Arquivo já existe e será sobrescrito: Faulty_Validation160.txt\n",
            "Arquivo já existe e será sobrescrito: Faulty_Validation132.txt\n",
            "Arquivo já existe e será sobrescrito: Faulty_Validation163.txt\n",
            "Arquivo já existe e será sobrescrito: Faulty_Validation133.txt\n",
            "Arquivo já existe e será sobrescrito: Faulty_Validation151.txt\n",
            "Arquivo já existe e será sobrescrito: Faulty_Validation171.txt\n",
            "Arquivo já existe e será sobrescrito: Faulty_Validation14.txt\n",
            "Arquivo já existe e será sobrescrito: Faulty_Validation161.txt\n",
            "Arquivo já existe e será sobrescrito: Faulty_Validation172.txt\n",
            "Arquivo já existe e será sobrescrito: Faulty_Validation141.txt\n",
            "Arquivo já existe e será sobrescrito: Faulty_Validation159.txt\n",
            "Arquivo já existe e será sobrescrito: Faulty_Validation152.txt\n",
            "Arquivo já existe e será sobrescrito: Faulty_Validation154.txt\n",
            "Arquivo já existe e será sobrescrito: Faulty_Validation136.txt\n",
            "Arquivo já existe e será sobrescrito: Faulty_Validation170.txt\n",
            "Arquivo já existe e será sobrescrito: Faulty_Validation28.txt\n",
            "Arquivo já existe e será sobrescrito: Faulty_Validation2.txt\n",
            "Arquivo já existe e será sobrescrito: Faulty_Validation192.txt\n",
            "Arquivo já existe e será sobrescrito: Faulty_Validation178.txt\n",
            "Arquivo já existe e será sobrescrito: Faulty_Validation186.txt\n",
            "Arquivo já existe e será sobrescrito: Faulty_Validation19.txt\n",
            "Arquivo já existe e será sobrescrito: Faulty_Validation33.txt\n",
            "Arquivo já existe e será sobrescrito: Faulty_Validation196.txt\n",
            "Arquivo já existe e será sobrescrito: Faulty_Validation31.txt\n",
            "Arquivo já existe e será sobrescrito: Faulty_Validation37.txt\n",
            "Arquivo já existe e será sobrescrito: Faulty_Validation191.txt\n",
            "Arquivo já existe e será sobrescrito: Faulty_Validation40.txt\n",
            "Arquivo já existe e será sobrescrito: Faulty_Validation30.txt\n",
            "Arquivo já existe e será sobrescrito: Faulty_Validation179.txt\n",
            "Arquivo já existe e será sobrescrito: Faulty_Validation183.txt\n",
            "Arquivo já existe e será sobrescrito: Faulty_Validation188.txt\n",
            "Arquivo já existe e será sobrescrito: Faulty_Validation25.txt\n",
            "Arquivo já existe e será sobrescrito: Faulty_Validation190.txt\n",
            "Arquivo já existe e será sobrescrito: Faulty_Validation23.txt\n",
            "Arquivo já existe e será sobrescrito: Faulty_Validation29.txt\n",
            "Arquivo já existe e será sobrescrito: Faulty_Validation24.txt\n",
            "Arquivo já existe e será sobrescrito: Faulty_Validation187.txt\n",
            "Arquivo já existe e será sobrescrito: Faulty_Validation35.txt\n",
            "Arquivo já existe e será sobrescrito: Faulty_Validation27.txt\n",
            "Arquivo já existe e será sobrescrito: Faulty_Validation189.txt\n",
            "Arquivo já existe e será sobrescrito: Faulty_Validation195.txt\n",
            "Arquivo já existe e será sobrescrito: Faulty_Validation34.txt\n",
            "Arquivo já existe e será sobrescrito: Faulty_Validation199.txt\n",
            "Arquivo já existe e será sobrescrito: Faulty_Validation3.txt\n",
            "Arquivo já existe e será sobrescrito: Faulty_Validation193.txt\n",
            "Arquivo já existe e será sobrescrito: Faulty_Validation184.txt\n",
            "Arquivo já existe e será sobrescrito: Faulty_Validation22.txt\n",
            "Arquivo já existe e será sobrescrito: Faulty_Validation20.txt\n",
            "Arquivo já existe e será sobrescrito: Faulty_Validation182.txt\n",
            "Arquivo já existe e será sobrescrito: Faulty_Validation198.txt\n",
            "Arquivo já existe e será sobrescrito: Faulty_Validation26.txt\n",
            "Arquivo já existe e será sobrescrito: Faulty_Validation4.txt\n",
            "Arquivo já existe e será sobrescrito: Faulty_Validation21.txt\n",
            "Arquivo já existe e será sobrescrito: Faulty_Validation38.txt\n",
            "Arquivo já existe e será sobrescrito: Faulty_Validation181.txt\n",
            "Arquivo já existe e será sobrescrito: Faulty_Validation194.txt\n",
            "Arquivo já existe e será sobrescrito: Faulty_Validation39.txt\n",
            "Arquivo já existe e será sobrescrito: Faulty_Validation177.txt\n",
            "Arquivo já existe e será sobrescrito: Faulty_Validation36.txt\n",
            "Arquivo já existe e será sobrescrito: Faulty_Validation185.txt\n",
            "Arquivo já existe e será sobrescrito: Faulty_Validation180.txt\n",
            "Arquivo já existe e será sobrescrito: Faulty_Validation18.txt\n",
            "Arquivo já existe e será sobrescrito: Faulty_Validation200.txt\n",
            "Arquivo já existe e será sobrescrito: Faulty_Validation32.txt\n",
            "Arquivo já existe e será sobrescrito: Faulty_Validation197.txt\n",
            "Arquivo já existe e será sobrescrito: Faulty_Validation69.txt\n",
            "Arquivo já existe e será sobrescrito: Faulty_Validation43.txt\n",
            "Arquivo já existe e será sobrescrito: Faulty_Validation84.txt\n",
            "Arquivo já existe e será sobrescrito: Faulty_Validation61.txt\n",
            "Arquivo já existe e será sobrescrito: Faulty_Validation77.txt\n",
            "Arquivo já existe e será sobrescrito: Faulty_Validation70.txt\n",
            "Arquivo já existe e será sobrescrito: Faulty_Validation55.txt\n",
            "Arquivo já existe e será sobrescrito: Faulty_Validation56.txt\n",
            "Arquivo já existe e será sobrescrito: Faulty_Validation53.txt\n",
            "Arquivo já existe e será sobrescrito: Faulty_Validation50.txt\n",
            "Arquivo já existe e será sobrescrito: Faulty_Validation76.txt\n",
            "Arquivo já existe e será sobrescrito: Faulty_Validation62.txt\n",
            "Arquivo já existe e será sobrescrito: Faulty_Validation65.txt\n",
            "Arquivo já existe e será sobrescrito: Faulty_Validation71.txt\n",
            "Arquivo já existe e será sobrescrito: Faulty_Validation8.txt\n",
            "Arquivo já existe e será sobrescrito: Faulty_Validation68.txt\n",
            "Arquivo já existe e será sobrescrito: Faulty_Validation44.txt\n",
            "Arquivo já existe e será sobrescrito: Faulty_Validation45.txt\n",
            "Arquivo já existe e será sobrescrito: Faulty_Validation78.txt\n",
            "Arquivo já existe e será sobrescrito: Faulty_Validation42.txt\n",
            "Arquivo já existe e será sobrescrito: Faulty_Validation64.txt\n",
            "Arquivo já existe e será sobrescrito: Faulty_Validation79.txt\n",
            "Arquivo já existe e será sobrescrito: Faulty_Validation46.txt\n",
            "Arquivo já existe e será sobrescrito: Faulty_Validation74.txt\n",
            "Arquivo já existe e será sobrescrito: Faulty_Validation59.txt\n",
            "Arquivo já existe e será sobrescrito: Faulty_Validation6.txt\n",
            "Arquivo já existe e será sobrescrito: Faulty_Validation60.txt\n",
            "Arquivo já existe e será sobrescrito: Faulty_Validation51.txt\n",
            "Arquivo já existe e será sobrescrito: Faulty_Validation83.txt\n",
            "Arquivo já existe e será sobrescrito: Faulty_Validation67.txt\n",
            "Arquivo já existe e será sobrescrito: Faulty_Validation52.txt\n",
            "Arquivo já existe e será sobrescrito: Faulty_Validation48.txt\n",
            "Arquivo já existe e será sobrescrito: Faulty_Validation57.txt\n",
            "Arquivo já existe e será sobrescrito: Faulty_Validation47.txt\n",
            "Arquivo já existe e será sobrescrito: Faulty_Validation7.txt\n",
            "Arquivo já existe e será sobrescrito: Faulty_Validation41.txt\n",
            "Arquivo já existe e será sobrescrito: Faulty_Validation5.txt\n",
            "Arquivo já existe e será sobrescrito: Faulty_Validation54.txt\n",
            "Arquivo já existe e será sobrescrito: Faulty_Validation63.txt\n",
            "Arquivo já existe e será sobrescrito: Faulty_Validation75.txt\n",
            "Arquivo já existe e será sobrescrito: Faulty_Validation81.txt\n",
            "Arquivo já existe e será sobrescrito: Faulty_Validation73.txt\n",
            "Arquivo já existe e será sobrescrito: Faulty_Validation49.txt\n",
            "Arquivo já existe e será sobrescrito: Faulty_Validation58.txt\n",
            "Arquivo já existe e será sobrescrito: Faulty_Validation66.txt\n",
            "Arquivo já existe e será sobrescrito: Faulty_Validation82.txt\n",
            "Arquivo já existe e será sobrescrito: Faulty_Validation80.txt\n",
            "Arquivo já existe e será sobrescrito: Faulty_Validation72.txt\n",
            "Arquivo já existe e será sobrescrito: Faulty_Validation99.txt\n",
            "Arquivo já existe e será sobrescrito: Faulty_Validation89.txt\n",
            "Arquivo já existe e será sobrescrito: Faulty_Validation9.txt\n",
            "Arquivo já existe e será sobrescrito: Faulty_Validation95.txt\n",
            "Arquivo já existe e será sobrescrito: Faulty_Validation92.txt\n",
            "Arquivo já existe e será sobrescrito: Faulty_Validation98.txt\n",
            "Arquivo já existe e será sobrescrito: Faulty_Validation94.txt\n",
            "Arquivo já existe e será sobrescrito: Faulty_Validation91.txt\n",
            "Arquivo já existe e será sobrescrito: Faulty_Validation97.txt\n",
            "Arquivo já existe e será sobrescrito: Faulty_Validation90.txt\n",
            "Arquivo já existe e será sobrescrito: Faulty_Validation96.txt\n",
            "Arquivo já existe e será sobrescrito: Faulty_Validation86.txt\n",
            "Arquivo já existe e será sobrescrito: Faulty_Validation93.txt\n",
            "Arquivo já existe e será sobrescrito: Faulty_Validation85.txt\n",
            "Arquivo já existe e será sobrescrito: Faulty_Validation87.txt\n",
            "Arquivo já existe e será sobrescrito: Faulty_Validation88.txt\n",
            "Arquivo já existe e será sobrescrito: Areial_Healthy27.txt\n",
            "Arquivo já existe e será sobrescrito: Areial_Healthy218.txt\n",
            "Arquivo já existe e será sobrescrito: Areial_Healthy141.txt\n",
            "Arquivo já existe e será sobrescrito: Areial_Healthy3.txt\n",
            "Arquivo já existe e será sobrescrito: Areial_Healthy311.txt\n",
            "Arquivo já existe e será sobrescrito: Areial_Healthy143.txt\n",
            "Arquivo já existe e será sobrescrito: Areial_Healthy134.txt\n",
            "Arquivo já existe e será sobrescrito: Areial_Healthy231.txt\n",
            "Arquivo já existe e será sobrescrito: Areial_Healthy300.txt\n",
            "Arquivo já existe e será sobrescrito: Areial_Healthy288.txt\n",
            "Arquivo já existe e será sobrescrito: Areial_Healthy120.txt\n",
            "Arquivo já existe e será sobrescrito: Areial_Healthy151.txt\n",
            "Arquivo já existe e será sobrescrito: Areial_Healthy159.txt\n",
            "Arquivo já existe e será sobrescrito: Areial_Healthy331.txt\n",
            "Arquivo já existe e será sobrescrito: Areial_Healthy203.txt\n",
            "Arquivo já existe e será sobrescrito: Areial_Healthy337.txt\n",
            "Arquivo já existe e será sobrescrito: Areial_Healthy26.txt\n",
            "Arquivo já existe e será sobrescrito: Areial_Healthy205.txt\n",
            "Arquivo já existe e será sobrescrito: Areial_Healthy357.txt\n",
            "Arquivo já existe e será sobrescrito: Areial_Healthy348.txt\n",
            "Arquivo já existe e será sobrescrito: Areial_Healthy214.txt\n",
            "Arquivo já existe e será sobrescrito: Areial_Healthy261.txt\n",
            "Arquivo já existe e será sobrescrito: Areial_Healthy250.txt\n",
            "Arquivo já existe e será sobrescrito: Areial_Healthy31.txt\n",
            "Arquivo já existe e será sobrescrito: Areial_Healthy104.txt\n",
            "Arquivo já existe e será sobrescrito: Areial_Healthy137.txt\n",
            "Arquivo já existe e será sobrescrito: Areial_Healthy317.txt\n",
            "Arquivo já existe e será sobrescrito: Areial_Healthy215.txt\n",
            "Arquivo já existe e será sobrescrito: Areial_Healthy379.txt\n",
            "Arquivo já existe e será sobrescrito: Areial_Healthy13.txt\n",
            "Arquivo já existe e será sobrescrito: Areial_Healthy209.txt\n",
            "Arquivo já existe e será sobrescrito: Areial_Healthy319.txt\n",
            "Arquivo já existe e será sobrescrito: Areial_Healthy256.txt\n",
            "Arquivo já existe e será sobrescrito: Areial_Healthy142.txt\n",
            "Arquivo já existe e será sobrescrito: Areial_Healthy322.txt\n",
            "Arquivo já existe e será sobrescrito: Areial_Healthy725.txt\n",
            "Arquivo já existe e será sobrescrito: Areial_Healthy544.txt\n",
            "Arquivo já existe e será sobrescrito: Areial_Healthy709.txt\n",
            "Arquivo já existe e será sobrescrito: Areial_Healthy51.txt\n",
            "Arquivo já existe e será sobrescrito: Areial_Healthy512.txt\n",
            "Arquivo já existe e será sobrescrito: Areial_Healthy380.txt\n",
            "Arquivo já existe e será sobrescrito: Areial_Healthy690.txt\n",
            "Arquivo já existe e será sobrescrito: Areial_Healthy419.txt\n",
            "Arquivo já existe e será sobrescrito: Areial_Healthy641.txt\n",
            "Arquivo já existe e será sobrescrito: Areial_Healthy660.txt\n",
            "Arquivo já existe e será sobrescrito: Areial_Healthy625.txt\n",
            "Arquivo já existe e será sobrescrito: Areial_Healthy721.txt\n",
            "Arquivo já existe e será sobrescrito: Areial_Healthy42.txt\n",
            "Arquivo já existe e será sobrescrito: Areial_Healthy572.txt\n",
            "Arquivo já existe e será sobrescrito: Areial_Healthy420.txt\n",
            "Arquivo já existe e será sobrescrito: Areial_Healthy729.txt\n",
            "Arquivo já existe e será sobrescrito: Areial_Healthy76.txt\n",
            "Arquivo já existe e será sobrescrito: Areial_Healthy43.txt\n",
            "Arquivo já existe e será sobrescrito: Areial_Healthy448.txt\n",
            "Arquivo já existe e será sobrescrito: Areial_Healthy647.txt\n",
            "Arquivo já existe e será sobrescrito: Areial_Healthy507.txt\n",
            "Arquivo já existe e será sobrescrito: Areial_Healthy684.txt\n",
            "Arquivo já existe e será sobrescrito: Areial_Healthy659.txt\n",
            "Arquivo já existe e será sobrescrito: Areial_Healthy569.txt\n",
            "Arquivo já existe e será sobrescrito: Areial_Healthy606.txt\n",
            "Arquivo já existe e será sobrescrito: Areial_Healthy555.txt\n",
            "Arquivo já existe e será sobrescrito: Areial_Healthy421.txt\n",
            "Arquivo já existe e será sobrescrito: Areial_Healthy540.txt\n",
            "Arquivo já existe e será sobrescrito: Areial_Healthy620.txt\n",
            "Arquivo já existe e será sobrescrito: Areial_Healthy453.txt\n",
            "Arquivo já existe e será sobrescrito: Areial_Healthy629.txt\n",
            "Arquivo já existe e será sobrescrito: Areial_Healthy547.txt\n",
            "Arquivo já existe e será sobrescrito: Areial_Healthy449.txt\n",
            "Arquivo já existe e será sobrescrito: Areial_Healthy740.txt\n",
            "Arquivo já existe e será sobrescrito: Areial_Healthy527.txt\n",
            "Arquivo já existe e será sobrescrito: Areial_Healthy633.txt\n",
            "Arquivo já existe e será sobrescrito: Areial_Healthy718.txt\n",
            "Arquivo já existe e será sobrescrito: Areial_Healthy464.txt\n",
            "Arquivo já existe e será sobrescrito: Areial_Healthy611.txt\n",
            "Arquivo já existe e será sobrescrito: Areial_Healthy732.txt\n",
            "Arquivo já existe e será sobrescrito: Areial_Healthy406.txt\n",
            "Arquivo já existe e será sobrescrito: Areial_Healthy542.txt\n",
            "Arquivo já existe e será sobrescrito: Areial_Healthy481.txt\n",
            "Arquivo já existe e será sobrescrito: Areial_Healthy753.txt\n",
            "Arquivo já existe e será sobrescrito: Healthy_Validation110.txt\n",
            "Arquivo já existe e será sobrescrito: Areial_Healthy856.txt\n",
            "Arquivo já existe e será sobrescrito: Healthy_Validation115.txt\n",
            "Arquivo já existe e será sobrescrito: Healthy_Validation12.txt\n",
            "Arquivo já existe e será sobrescrito: Healthy_Validation117.txt\n",
            "Arquivo já existe e será sobrescrito: Healthy_Validation102.txt\n",
            "Arquivo já existe e será sobrescrito: Areial_Healthy902.txt\n",
            "Arquivo já existe e será sobrescrito: Healthy_Validation119.txt\n",
            "Arquivo já existe e será sobrescrito: Healthy_Validation122.txt\n",
            "Arquivo já existe e será sobrescrito: Healthy_Validation108.txt\n",
            "Arquivo já existe e será sobrescrito: Areial_Healthy79.txt\n",
            "Arquivo já existe e será sobrescrito: Areial_Healthy989.txt\n",
            "Arquivo já existe e será sobrescrito: Healthy_Validation101.txt\n",
            "Arquivo já existe e será sobrescrito: Areial_Healthy862.txt\n",
            "Arquivo já existe e será sobrescrito: Areial_Healthy936.txt\n",
            "Arquivo já existe e será sobrescrito: Healthy_Validation120.txt\n",
            "Arquivo já existe e será sobrescrito: Healthy_Validation111.txt\n",
            "Arquivo já existe e será sobrescrito: Areial_Healthy866.txt\n",
            "Arquivo já existe e será sobrescrito: Areial_Healthy779.txt\n",
            "Arquivo já existe e será sobrescrito: Areial_Healthy897.txt\n",
            "Arquivo já existe e será sobrescrito: Areial_Healthy764.txt\n",
            "Arquivo já existe e será sobrescrito: Areial_Healthy780.txt\n",
            "Arquivo já existe e será sobrescrito: Healthy_Validation109.txt\n",
            "Arquivo já existe e será sobrescrito: Areial_Healthy899.txt\n",
            "Arquivo já existe e será sobrescrito: Areial_Healthy917.txt\n",
            "Arquivo já existe e será sobrescrito: Areial_Healthy949.txt\n",
            "Arquivo já existe e será sobrescrito: Areial_Healthy814.txt\n",
            "Arquivo já existe e será sobrescrito: Areial_Healthy804.txt\n",
            "Arquivo já existe e será sobrescrito: Healthy_Validation103.txt\n",
            "Arquivo já existe e será sobrescrito: Healthy_Validation118.txt\n",
            "Arquivo já existe e será sobrescrito: Healthy_Validation106.txt\n",
            "Arquivo já existe e será sobrescrito: Healthy_Validation116.txt\n",
            "Arquivo já existe e será sobrescrito: Healthy_Validation10.txt\n",
            "Arquivo já existe e será sobrescrito: Healthy_Validation11.txt\n",
            "Arquivo já existe e será sobrescrito: Healthy_Validation1.txt\n",
            "Arquivo já existe e será sobrescrito: Healthy_Validation114.txt\n",
            "Arquivo já existe e será sobrescrito: Healthy_Validation100.txt\n",
            "Arquivo já existe e será sobrescrito: Areial_Healthy78.txt\n",
            "Arquivo já existe e será sobrescrito: Areial_Healthy961.txt\n",
            "Arquivo já existe e será sobrescrito: Healthy_Validation107.txt\n",
            "Arquivo já existe e será sobrescrito: Areial_Healthy912.txt\n",
            "Arquivo já existe e será sobrescrito: Areial_Healthy791.txt\n",
            "Arquivo já existe e será sobrescrito: Healthy_Validation104.txt\n",
            "Arquivo já existe e será sobrescrito: Healthy_Validation112.txt\n",
            "Arquivo já existe e será sobrescrito: Areial_Healthy981.txt\n",
            "Arquivo já existe e será sobrescrito: Healthy_Validation105.txt\n",
            "Arquivo já existe e será sobrescrito: Healthy_Validation113.txt\n",
            "Arquivo já existe e será sobrescrito: Healthy_Validation121.txt\n",
            "Arquivo já existe e será sobrescrito: Healthy_Validation16.txt\n",
            "Arquivo já existe e será sobrescrito: Healthy_Validation127.txt\n",
            "Arquivo já existe e será sobrescrito: Healthy_Validation156.txt\n",
            "Arquivo já existe e será sobrescrito: Healthy_Validation126.txt\n",
            "Arquivo já existe e será sobrescrito: Healthy_Validation150.txt\n",
            "Arquivo já existe e será sobrescrito: Healthy_Validation147.txt\n",
            "Arquivo já existe e será sobrescrito: Healthy_Validation148.txt\n",
            "Arquivo já existe e será sobrescrito: Healthy_Validation134.txt\n",
            "Arquivo já existe e será sobrescrito: Healthy_Validation138.txt\n",
            "Arquivo já existe e será sobrescrito: Healthy_Validation132.txt\n",
            "Arquivo já existe e será sobrescrito: Healthy_Validation146.txt\n",
            "Arquivo já existe e será sobrescrito: Healthy_Validation155.txt\n",
            "Arquivo já existe e será sobrescrito: Healthy_Validation164.txt\n",
            "Arquivo já existe e será sobrescrito: Healthy_Validation159.txt\n",
            "Arquivo já existe e será sobrescrito: Healthy_Validation131.txt\n",
            "Arquivo já existe e será sobrescrito: Healthy_Validation123.txt\n",
            "Arquivo já existe e será sobrescrito: Healthy_Validation124.txt\n",
            "Arquivo já existe e será sobrescrito: Healthy_Validation142.txt\n",
            "Arquivo já existe e será sobrescrito: Healthy_Validation167.txt\n",
            "Arquivo já existe e será sobrescrito: Healthy_Validation13.txt\n",
            "Arquivo já existe e será sobrescrito: Healthy_Validation136.txt\n",
            "Arquivo já existe e será sobrescrito: Healthy_Validation145.txt\n",
            "Arquivo já existe e será sobrescrito: Healthy_Validation129.txt\n",
            "Arquivo já existe e será sobrescrito: Healthy_Validation162.txt\n",
            "Arquivo já existe e será sobrescrito: Healthy_Validation137.txt\n",
            "Arquivo já existe e será sobrescrito: Healthy_Validation15.txt\n",
            "Arquivo já existe e será sobrescrito: Healthy_Validation154.txt\n",
            "Arquivo já existe e será sobrescrito: Healthy_Validation153.txt\n",
            "Arquivo já existe e será sobrescrito: Healthy_Validation152.txt\n",
            "Arquivo já existe e será sobrescrito: Healthy_Validation141.txt\n",
            "Arquivo já existe e será sobrescrito: Healthy_Validation151.txt\n",
            "Arquivo já existe e será sobrescrito: Healthy_Validation157.txt\n",
            "Arquivo já existe e será sobrescrito: Healthy_Validation161.txt\n",
            "Arquivo já existe e será sobrescrito: Healthy_Validation130.txt\n",
            "Arquivo já existe e será sobrescrito: Healthy_Validation139.txt\n",
            "Arquivo já existe e será sobrescrito: Healthy_Validation140.txt\n",
            "Arquivo já existe e será sobrescrito: Healthy_Validation166.txt\n",
            "Arquivo já existe e será sobrescrito: Healthy_Validation14.txt\n",
            "Arquivo já existe e será sobrescrito: Healthy_Validation125.txt\n",
            "Arquivo já existe e será sobrescrito: Healthy_Validation128.txt\n",
            "Arquivo já existe e será sobrescrito: Healthy_Validation135.txt\n",
            "Arquivo já existe e será sobrescrito: Healthy_Validation133.txt\n",
            "Arquivo já existe e será sobrescrito: Healthy_Validation143.txt\n",
            "Arquivo já existe e será sobrescrito: Healthy_Validation149.txt\n",
            "Arquivo já existe e será sobrescrito: Healthy_Validation165.txt\n",
            "Arquivo já existe e será sobrescrito: Healthy_Validation158.txt\n",
            "Arquivo já existe e será sobrescrito: Healthy_Validation144.txt\n",
            "Arquivo já existe e será sobrescrito: Healthy_Validation163.txt\n",
            "Arquivo já existe e será sobrescrito: Healthy_Validation160.txt\n",
            "Arquivo já existe e será sobrescrito: Healthy_Validation28.txt\n",
            "Arquivo já existe e será sobrescrito: Healthy_Validation19.txt\n",
            "Arquivo já existe e será sobrescrito: Healthy_Validation168.txt\n",
            "Arquivo já existe e será sobrescrito: Healthy_Validation199.txt\n",
            "Arquivo já existe e será sobrescrito: Healthy_Validation171.txt\n",
            "Arquivo já existe e será sobrescrito: Healthy_Validation198.txt\n",
            "Arquivo já existe e será sobrescrito: Healthy_Validation188.txt\n",
            "Arquivo já existe e será sobrescrito: Healthy_Validation174.txt\n",
            "Arquivo já existe e será sobrescrito: Healthy_Validation176.txt\n",
            "Arquivo já existe e será sobrescrito: Healthy_Validation2.txt\n",
            "Arquivo já existe e será sobrescrito: Healthy_Validation200.txt\n",
            "Arquivo já existe e será sobrescrito: Healthy_Validation173.txt\n",
            "Arquivo já existe e será sobrescrito: Healthy_Validation24.txt\n",
            "Arquivo já existe e será sobrescrito: Healthy_Validation26.txt\n",
            "Arquivo já existe e será sobrescrito: Healthy_Validation27.txt\n",
            "Arquivo já existe e será sobrescrito: Healthy_Validation177.txt\n",
            "Arquivo já existe e será sobrescrito: Healthy_Validation18.txt\n",
            "Arquivo já existe e será sobrescrito: Healthy_Validation194.txt\n",
            "Arquivo já existe e será sobrescrito: Healthy_Validation170.txt\n",
            "Arquivo já existe e será sobrescrito: Healthy_Validation182.txt\n",
            "Arquivo já existe e será sobrescrito: Healthy_Validation178.txt\n",
            "Arquivo já existe e será sobrescrito: Healthy_Validation189.txt\n",
            "Arquivo já existe e será sobrescrito: Healthy_Validation192.txt\n",
            "Arquivo já existe e será sobrescrito: Healthy_Validation197.txt\n",
            "Arquivo já existe e será sobrescrito: Healthy_Validation183.txt\n",
            "Arquivo já existe e será sobrescrito: Healthy_Validation20.txt\n",
            "Arquivo já existe e será sobrescrito: Healthy_Validation179.txt\n",
            "Arquivo já existe e será sobrescrito: Healthy_Validation193.txt\n",
            "Arquivo já existe e será sobrescrito: Healthy_Validation195.txt\n",
            "Arquivo já existe e será sobrescrito: Healthy_Validation23.txt\n",
            "Arquivo já existe e será sobrescrito: Healthy_Validation185.txt\n",
            "Arquivo já existe e será sobrescrito: Healthy_Validation191.txt\n",
            "Arquivo já existe e será sobrescrito: Healthy_Validation196.txt\n",
            "Arquivo já existe e será sobrescrito: Healthy_Validation22.txt\n",
            "Arquivo já existe e será sobrescrito: Healthy_Validation180.txt\n",
            "Arquivo já existe e será sobrescrito: Healthy_Validation25.txt\n",
            "Arquivo já existe e será sobrescrito: Healthy_Validation175.txt\n",
            "Arquivo já existe e será sobrescrito: Healthy_Validation21.txt\n",
            "Arquivo já existe e será sobrescrito: Healthy_Validation17.txt\n",
            "Arquivo já existe e será sobrescrito: Healthy_Validation169.txt\n",
            "Arquivo já existe e será sobrescrito: Healthy_Validation181.txt\n",
            "Arquivo já existe e será sobrescrito: Healthy_Validation172.txt\n",
            "Arquivo já existe e será sobrescrito: Healthy_Validation184.txt\n",
            "Arquivo já existe e será sobrescrito: Healthy_Validation190.txt\n",
            "Arquivo já existe e será sobrescrito: Healthy_Validation187.txt\n",
            "Arquivo já existe e será sobrescrito: Healthy_Validation186.txt\n",
            "Arquivo já existe e será sobrescrito: Healthy_Validation56.txt\n",
            "Arquivo já existe e será sobrescrito: Healthy_Validation40.txt\n",
            "Arquivo já existe e será sobrescrito: Healthy_Validation33.txt\n",
            "Arquivo já existe e será sobrescrito: Healthy_Validation44.txt\n",
            "Arquivo já existe e será sobrescrito: Healthy_Validation37.txt\n",
            "Arquivo já existe e será sobrescrito: Healthy_Validation3.txt\n",
            "Arquivo já existe e será sobrescrito: Healthy_Validation6.txt\n",
            "Arquivo já existe e será sobrescrito: Healthy_Validation38.txt\n",
            "Arquivo já existe e será sobrescrito: Healthy_Validation55.txt\n",
            "Arquivo já existe e será sobrescrito: Healthy_Validation52.txt\n",
            "Arquivo já existe e será sobrescrito: Healthy_Validation65.txt\n",
            "Arquivo já existe e será sobrescrito: Healthy_Validation70.txt\n",
            "Arquivo já existe e será sobrescrito: Healthy_Validation32.txt\n",
            "Arquivo já existe e será sobrescrito: Healthy_Validation29.txt\n",
            "Arquivo já existe e será sobrescrito: Healthy_Validation42.txt\n",
            "Arquivo já existe e será sobrescrito: Healthy_Validation67.txt\n",
            "Arquivo já existe e será sobrescrito: Healthy_Validation31.txt\n",
            "Arquivo já existe e será sobrescrito: Healthy_Validation45.txt\n",
            "Arquivo já existe e será sobrescrito: Healthy_Validation47.txt\n",
            "Arquivo já existe e será sobrescrito: Healthy_Validation4.txt\n",
            "Arquivo já existe e será sobrescrito: Healthy_Validation63.txt\n",
            "Arquivo já existe e será sobrescrito: Healthy_Validation69.txt\n",
            "Arquivo já existe e será sobrescrito: Healthy_Validation66.txt\n",
            "Arquivo já existe e será sobrescrito: Healthy_Validation50.txt\n",
            "Arquivo já existe e será sobrescrito: Healthy_Validation7.txt\n",
            "Arquivo já existe e será sobrescrito: Healthy_Validation49.txt\n",
            "Arquivo já existe e será sobrescrito: Healthy_Validation43.txt\n",
            "Arquivo já existe e será sobrescrito: Healthy_Validation39.txt\n",
            "Arquivo já existe e será sobrescrito: Healthy_Validation60.txt\n",
            "Arquivo já existe e será sobrescrito: Healthy_Validation46.txt\n",
            "Arquivo já existe e será sobrescrito: Healthy_Validation5.txt\n",
            "Arquivo já existe e será sobrescrito: Healthy_Validation57.txt\n",
            "Arquivo já existe e será sobrescrito: Healthy_Validation61.txt\n",
            "Arquivo já existe e será sobrescrito: Healthy_Validation68.txt\n",
            "Arquivo já existe e será sobrescrito: Healthy_Validation41.txt\n",
            "Arquivo já existe e será sobrescrito: Healthy_Validation36.txt\n",
            "Arquivo já existe e será sobrescrito: Healthy_Validation64.txt\n",
            "Arquivo já existe e será sobrescrito: Healthy_Validation34.txt\n",
            "Arquivo já existe e será sobrescrito: Healthy_Validation30.txt\n",
            "Arquivo já existe e será sobrescrito: Healthy_Validation58.txt\n",
            "Arquivo já existe e será sobrescrito: Healthy_Validation51.txt\n",
            "Arquivo já existe e será sobrescrito: Healthy_Validation54.txt\n",
            "Arquivo já existe e será sobrescrito: Healthy_Validation59.txt\n",
            "Arquivo já existe e será sobrescrito: Healthy_Validation35.txt\n",
            "Arquivo já existe e será sobrescrito: Healthy_Validation53.txt\n",
            "Arquivo já existe e será sobrescrito: Healthy_Validation48.txt\n",
            "Arquivo já existe e será sobrescrito: Healthy_Validation62.txt\n",
            "Arquivo já existe e será sobrescrito: Healthy_Validation74.txt\n",
            "Arquivo já existe e será sobrescrito: Healthy_Validation73.txt\n",
            "Arquivo já existe e será sobrescrito: Healthy_Validation80.txt\n",
            "Arquivo já existe e será sobrescrito: Healthy_Validation9.txt\n",
            "Arquivo já existe e será sobrescrito: Healthy_Validation8.txt\n",
            "Arquivo já existe e será sobrescrito: Healthy_Validation87.txt\n",
            "Arquivo já existe e será sobrescrito: Healthy_Validation86.txt\n",
            "Arquivo já existe e será sobrescrito: Healthy_Validation97.txt\n",
            "Arquivo já existe e será sobrescrito: Healthy_Validation78.txt\n",
            "Arquivo já existe e será sobrescrito: Healthy_Validation90.txt\n",
            "Arquivo já existe e será sobrescrito: Healthy_Validation83.txt\n",
            "Arquivo já existe e será sobrescrito: Healthy_Validation85.txt\n",
            "Arquivo já existe e será sobrescrito: Healthy_Validation77.txt\n",
            "Arquivo já existe e será sobrescrito: Healthy_Validation82.txt\n",
            "Arquivo já existe e será sobrescrito: Healthy_Validation98.txt\n",
            "Arquivo já existe e será sobrescrito: Healthy_Validation95.txt\n",
            "Arquivo já existe e será sobrescrito: Healthy_Validation91.txt\n",
            "Arquivo já existe e será sobrescrito: Healthy_Validation71.txt\n",
            "Arquivo já existe e será sobrescrito: Healthy_Validation76.txt\n",
            "Arquivo já existe e será sobrescrito: Healthy_Validation89.txt\n",
            "Arquivo já existe e será sobrescrito: Healthy_Validation96.txt\n",
            "Arquivo já existe e será sobrescrito: Healthy_Validation75.txt\n",
            "Arquivo já existe e será sobrescrito: Healthy_Validation84.txt\n",
            "Arquivo já existe e será sobrescrito: Healthy_Validation92.txt\n",
            "Arquivo já existe e será sobrescrito: Healthy_Validation79.txt\n",
            "Arquivo já existe e será sobrescrito: Healthy_Validation99.txt\n",
            "Arquivo já existe e será sobrescrito: Healthy_Validation81.txt\n",
            "Arquivo já existe e será sobrescrito: Healthy_Validation93.txt\n",
            "Arquivo já existe e será sobrescrito: Healthy_Validation88.txt\n",
            "Arquivo já existe e será sobrescrito: Healthy_Validation94.txt\n",
            "Arquivo já existe e será sobrescrito: Healthy_Validation72.txt\n",
            "Labels concluidas!\n"
          ]
        }
      ]
    },
    {
      "cell_type": "markdown",
      "source": [
        "Cração do arquivo yaml"
      ],
      "metadata": {
        "id": "Yt9pBSvxXN2E"
      }
    },
    {
      "cell_type": "code",
      "source": [
        "yaml_content=\"\"\"\n",
        "path:/content/drive/Shareddrives/Letícia Vieira Gonçalves - Pesquisa/dataset/CAI-SWTB-Dataset\n",
        "train:destino = '/content/drive/Shareddrives/Letícia Vieira Gonçalves - Pesquisa/dataset/CAI-SWTB-Dataset/Train/annotations'\n",
        "val:destino = '/content/drive/Shareddrives/Letícia Vieira Gonçalves - Pesquisa/dataset/CAI-SWTB-Dataset/Validation/annotations'\n",
        "test:destino = '/content/drive/Shareddrives/Letícia Vieira Gonçalves - Pesquisa/dataset/CAI-SWTB-Dataset/Test/annotations\n",
        "nc:2\n",
        "names:\n",
        "  0:Positivo\n",
        "  1:Negativo\n",
        "\"\"\"\n",
        "\n",
        "with open('/content/drive/Shareddrives/Letícia Vieira Gonçalves - Pesquisa/dataset/CAI-SWTB-Dataset/cai.yaml','w') as f:\n",
        "  f.write(yaml_content)"
      ],
      "metadata": {
        "id": "eW7HVwbXXQBw"
      },
      "execution_count": 37,
      "outputs": []
    },
    {
      "cell_type": "markdown",
      "source": [
        "Validacao do modelo"
      ],
      "metadata": {
        "id": "f3FSzF4qYFJE"
      }
    },
    {
      "cell_type": "code",
      "source": [
        "metrics = model.val(data='/content/drive/Shareddrives/Letícia Vieira Gonçalves - Pesquisa/dataset/CAI-SWTB-Dataset/cai.yaml')"
      ],
      "metadata": {
        "id": "RD6NVYLlYESs",
        "outputId": "13d581f0-6398-4944-a3cc-6521a875cb91",
        "colab": {
          "base_uri": "https://localhost:8080/",
          "height": 391
        }
      },
      "execution_count": 38,
      "outputs": [
        {
          "output_type": "stream",
          "name": "stdout",
          "text": [
            "Ultralytics 8.3.104 🚀 Python-3.11.11 torch-2.6.0+cu124 CUDA:0 (Tesla T4, 15095MiB)\n",
            "YOLO11n-seg summary (fused): 113 layers, 2,868,664 parameters, 0 gradients, 10.4 GFLOPs\n"
          ]
        },
        {
          "output_type": "error",
          "ename": "ScannerError",
          "evalue": "mapping values are not allowed here\n  in \"<unicode string>\", line 7, column 6:\n    names:\n         ^",
          "traceback": [
            "\u001b[0;31m---------------------------------------------------------------------------\u001b[0m",
            "\u001b[0;31mScannerError\u001b[0m                              Traceback (most recent call last)",
            "\u001b[0;32m<ipython-input-38-d1505beb87e8>\u001b[0m in \u001b[0;36m<cell line: 0>\u001b[0;34m()\u001b[0m\n\u001b[0;32m----> 1\u001b[0;31m \u001b[0mmetrics\u001b[0m \u001b[0;34m=\u001b[0m \u001b[0mmodel\u001b[0m\u001b[0;34m.\u001b[0m\u001b[0mval\u001b[0m\u001b[0;34m(\u001b[0m\u001b[0mdata\u001b[0m\u001b[0;34m=\u001b[0m\u001b[0;34m'/content/drive/Shareddrives/Letícia Vieira Gonçalves - Pesquisa/dataset/CAI-SWTB-Dataset/cai.yaml'\u001b[0m\u001b[0;34m)\u001b[0m\u001b[0;34m\u001b[0m\u001b[0;34m\u001b[0m\u001b[0m\n\u001b[0m",
            "\u001b[0;32m/usr/local/lib/python3.11/dist-packages/ultralytics/engine/model.py\u001b[0m in \u001b[0;36mval\u001b[0;34m(self, validator, **kwargs)\u001b[0m\n\u001b[1;32m    626\u001b[0m \u001b[0;34m\u001b[0m\u001b[0m\n\u001b[1;32m    627\u001b[0m         \u001b[0mvalidator\u001b[0m \u001b[0;34m=\u001b[0m \u001b[0;34m(\u001b[0m\u001b[0mvalidator\u001b[0m \u001b[0;32mor\u001b[0m \u001b[0mself\u001b[0m\u001b[0;34m.\u001b[0m\u001b[0m_smart_load\u001b[0m\u001b[0;34m(\u001b[0m\u001b[0;34m\"validator\"\u001b[0m\u001b[0;34m)\u001b[0m\u001b[0;34m)\u001b[0m\u001b[0;34m(\u001b[0m\u001b[0margs\u001b[0m\u001b[0;34m=\u001b[0m\u001b[0margs\u001b[0m\u001b[0;34m,\u001b[0m \u001b[0m_callbacks\u001b[0m\u001b[0;34m=\u001b[0m\u001b[0mself\u001b[0m\u001b[0;34m.\u001b[0m\u001b[0mcallbacks\u001b[0m\u001b[0;34m)\u001b[0m\u001b[0;34m\u001b[0m\u001b[0;34m\u001b[0m\u001b[0m\n\u001b[0;32m--> 628\u001b[0;31m         \u001b[0mvalidator\u001b[0m\u001b[0;34m(\u001b[0m\u001b[0mmodel\u001b[0m\u001b[0;34m=\u001b[0m\u001b[0mself\u001b[0m\u001b[0;34m.\u001b[0m\u001b[0mmodel\u001b[0m\u001b[0;34m)\u001b[0m\u001b[0;34m\u001b[0m\u001b[0;34m\u001b[0m\u001b[0m\n\u001b[0m\u001b[1;32m    629\u001b[0m         \u001b[0mself\u001b[0m\u001b[0;34m.\u001b[0m\u001b[0mmetrics\u001b[0m \u001b[0;34m=\u001b[0m \u001b[0mvalidator\u001b[0m\u001b[0;34m.\u001b[0m\u001b[0mmetrics\u001b[0m\u001b[0;34m\u001b[0m\u001b[0;34m\u001b[0m\u001b[0m\n\u001b[1;32m    630\u001b[0m         \u001b[0;32mreturn\u001b[0m \u001b[0mvalidator\u001b[0m\u001b[0;34m.\u001b[0m\u001b[0mmetrics\u001b[0m\u001b[0;34m\u001b[0m\u001b[0;34m\u001b[0m\u001b[0m\n",
            "\u001b[0;32m/usr/local/lib/python3.11/dist-packages/torch/utils/_contextlib.py\u001b[0m in \u001b[0;36mdecorate_context\u001b[0;34m(*args, **kwargs)\u001b[0m\n\u001b[1;32m    114\u001b[0m     \u001b[0;32mdef\u001b[0m \u001b[0mdecorate_context\u001b[0m\u001b[0;34m(\u001b[0m\u001b[0;34m*\u001b[0m\u001b[0margs\u001b[0m\u001b[0;34m,\u001b[0m \u001b[0;34m**\u001b[0m\u001b[0mkwargs\u001b[0m\u001b[0;34m)\u001b[0m\u001b[0;34m:\u001b[0m\u001b[0;34m\u001b[0m\u001b[0;34m\u001b[0m\u001b[0m\n\u001b[1;32m    115\u001b[0m         \u001b[0;32mwith\u001b[0m \u001b[0mctx_factory\u001b[0m\u001b[0;34m(\u001b[0m\u001b[0;34m)\u001b[0m\u001b[0;34m:\u001b[0m\u001b[0;34m\u001b[0m\u001b[0;34m\u001b[0m\u001b[0m\n\u001b[0;32m--> 116\u001b[0;31m             \u001b[0;32mreturn\u001b[0m \u001b[0mfunc\u001b[0m\u001b[0;34m(\u001b[0m\u001b[0;34m*\u001b[0m\u001b[0margs\u001b[0m\u001b[0;34m,\u001b[0m \u001b[0;34m**\u001b[0m\u001b[0mkwargs\u001b[0m\u001b[0;34m)\u001b[0m\u001b[0;34m\u001b[0m\u001b[0;34m\u001b[0m\u001b[0m\n\u001b[0m\u001b[1;32m    117\u001b[0m \u001b[0;34m\u001b[0m\u001b[0m\n\u001b[1;32m    118\u001b[0m     \u001b[0;32mreturn\u001b[0m \u001b[0mdecorate_context\u001b[0m\u001b[0;34m\u001b[0m\u001b[0;34m\u001b[0m\u001b[0m\n",
            "\u001b[0;32m/usr/local/lib/python3.11/dist-packages/ultralytics/engine/validator.py\u001b[0m in \u001b[0;36m__call__\u001b[0;34m(self, trainer, model)\u001b[0m\n\u001b[1;32m    177\u001b[0m \u001b[0;34m\u001b[0m\u001b[0m\n\u001b[1;32m    178\u001b[0m             \u001b[0;32mif\u001b[0m \u001b[0mstr\u001b[0m\u001b[0;34m(\u001b[0m\u001b[0mself\u001b[0m\u001b[0;34m.\u001b[0m\u001b[0margs\u001b[0m\u001b[0;34m.\u001b[0m\u001b[0mdata\u001b[0m\u001b[0;34m)\u001b[0m\u001b[0;34m.\u001b[0m\u001b[0msplit\u001b[0m\u001b[0;34m(\u001b[0m\u001b[0;34m\".\"\u001b[0m\u001b[0;34m)\u001b[0m\u001b[0;34m[\u001b[0m\u001b[0;34m-\u001b[0m\u001b[0;36m1\u001b[0m\u001b[0;34m]\u001b[0m \u001b[0;32min\u001b[0m \u001b[0;34m{\u001b[0m\u001b[0;34m\"yaml\"\u001b[0m\u001b[0;34m,\u001b[0m \u001b[0;34m\"yml\"\u001b[0m\u001b[0;34m}\u001b[0m\u001b[0;34m:\u001b[0m\u001b[0;34m\u001b[0m\u001b[0;34m\u001b[0m\u001b[0m\n\u001b[0;32m--> 179\u001b[0;31m                 \u001b[0mself\u001b[0m\u001b[0;34m.\u001b[0m\u001b[0mdata\u001b[0m \u001b[0;34m=\u001b[0m \u001b[0mcheck_det_dataset\u001b[0m\u001b[0;34m(\u001b[0m\u001b[0mself\u001b[0m\u001b[0;34m.\u001b[0m\u001b[0margs\u001b[0m\u001b[0;34m.\u001b[0m\u001b[0mdata\u001b[0m\u001b[0;34m)\u001b[0m\u001b[0;34m\u001b[0m\u001b[0;34m\u001b[0m\u001b[0m\n\u001b[0m\u001b[1;32m    180\u001b[0m             \u001b[0;32melif\u001b[0m \u001b[0mself\u001b[0m\u001b[0;34m.\u001b[0m\u001b[0margs\u001b[0m\u001b[0;34m.\u001b[0m\u001b[0mtask\u001b[0m \u001b[0;34m==\u001b[0m \u001b[0;34m\"classify\"\u001b[0m\u001b[0;34m:\u001b[0m\u001b[0;34m\u001b[0m\u001b[0;34m\u001b[0m\u001b[0m\n\u001b[1;32m    181\u001b[0m                 \u001b[0mself\u001b[0m\u001b[0;34m.\u001b[0m\u001b[0mdata\u001b[0m \u001b[0;34m=\u001b[0m \u001b[0mcheck_cls_dataset\u001b[0m\u001b[0;34m(\u001b[0m\u001b[0mself\u001b[0m\u001b[0;34m.\u001b[0m\u001b[0margs\u001b[0m\u001b[0;34m.\u001b[0m\u001b[0mdata\u001b[0m\u001b[0;34m,\u001b[0m \u001b[0msplit\u001b[0m\u001b[0;34m=\u001b[0m\u001b[0mself\u001b[0m\u001b[0;34m.\u001b[0m\u001b[0margs\u001b[0m\u001b[0;34m.\u001b[0m\u001b[0msplit\u001b[0m\u001b[0;34m)\u001b[0m\u001b[0;34m\u001b[0m\u001b[0;34m\u001b[0m\u001b[0m\n",
            "\u001b[0;32m/usr/local/lib/python3.11/dist-packages/ultralytics/data/utils.py\u001b[0m in \u001b[0;36mcheck_det_dataset\u001b[0;34m(dataset, autodownload)\u001b[0m\n\u001b[1;32m    320\u001b[0m \u001b[0;34m\u001b[0m\u001b[0m\n\u001b[1;32m    321\u001b[0m     \u001b[0;31m# Read YAML\u001b[0m\u001b[0;34m\u001b[0m\u001b[0;34m\u001b[0m\u001b[0m\n\u001b[0;32m--> 322\u001b[0;31m     \u001b[0mdata\u001b[0m \u001b[0;34m=\u001b[0m \u001b[0myaml_load\u001b[0m\u001b[0;34m(\u001b[0m\u001b[0mfile\u001b[0m\u001b[0;34m,\u001b[0m \u001b[0mappend_filename\u001b[0m\u001b[0;34m=\u001b[0m\u001b[0;32mTrue\u001b[0m\u001b[0;34m)\u001b[0m  \u001b[0;31m# dictionary\u001b[0m\u001b[0;34m\u001b[0m\u001b[0;34m\u001b[0m\u001b[0m\n\u001b[0m\u001b[1;32m    323\u001b[0m \u001b[0;34m\u001b[0m\u001b[0m\n\u001b[1;32m    324\u001b[0m     \u001b[0;31m# Checks\u001b[0m\u001b[0;34m\u001b[0m\u001b[0;34m\u001b[0m\u001b[0m\n",
            "\u001b[0;32m/usr/local/lib/python3.11/dist-packages/ultralytics/utils/__init__.py\u001b[0m in \u001b[0;36myaml_load\u001b[0;34m(file, append_filename)\u001b[0m\n\u001b[1;32m    515\u001b[0m \u001b[0;34m\u001b[0m\u001b[0m\n\u001b[1;32m    516\u001b[0m         \u001b[0;31m# Add YAML filename to dict and return\u001b[0m\u001b[0;34m\u001b[0m\u001b[0;34m\u001b[0m\u001b[0m\n\u001b[0;32m--> 517\u001b[0;31m         \u001b[0mdata\u001b[0m \u001b[0;34m=\u001b[0m \u001b[0myaml\u001b[0m\u001b[0;34m.\u001b[0m\u001b[0msafe_load\u001b[0m\u001b[0;34m(\u001b[0m\u001b[0ms\u001b[0m\u001b[0;34m)\u001b[0m \u001b[0;32mor\u001b[0m \u001b[0;34m{\u001b[0m\u001b[0;34m}\u001b[0m  \u001b[0;31m# always return a dict (yaml.safe_load() may return None for empty files)\u001b[0m\u001b[0;34m\u001b[0m\u001b[0;34m\u001b[0m\u001b[0m\n\u001b[0m\u001b[1;32m    518\u001b[0m         \u001b[0;32mif\u001b[0m \u001b[0mappend_filename\u001b[0m\u001b[0;34m:\u001b[0m\u001b[0;34m\u001b[0m\u001b[0;34m\u001b[0m\u001b[0m\n\u001b[1;32m    519\u001b[0m             \u001b[0mdata\u001b[0m\u001b[0;34m[\u001b[0m\u001b[0;34m\"yaml_file\"\u001b[0m\u001b[0;34m]\u001b[0m \u001b[0;34m=\u001b[0m \u001b[0mstr\u001b[0m\u001b[0;34m(\u001b[0m\u001b[0mfile\u001b[0m\u001b[0;34m)\u001b[0m\u001b[0;34m\u001b[0m\u001b[0;34m\u001b[0m\u001b[0m\n",
            "\u001b[0;32m/usr/local/lib/python3.11/dist-packages/yaml/__init__.py\u001b[0m in \u001b[0;36msafe_load\u001b[0;34m(stream)\u001b[0m\n\u001b[1;32m    123\u001b[0m     \u001b[0mto\u001b[0m \u001b[0mbe\u001b[0m \u001b[0msafe\u001b[0m \u001b[0;32mfor\u001b[0m \u001b[0muntrusted\u001b[0m \u001b[0minput\u001b[0m\u001b[0;34m.\u001b[0m\u001b[0;34m\u001b[0m\u001b[0;34m\u001b[0m\u001b[0m\n\u001b[1;32m    124\u001b[0m     \"\"\"\n\u001b[0;32m--> 125\u001b[0;31m     \u001b[0;32mreturn\u001b[0m \u001b[0mload\u001b[0m\u001b[0;34m(\u001b[0m\u001b[0mstream\u001b[0m\u001b[0;34m,\u001b[0m \u001b[0mSafeLoader\u001b[0m\u001b[0;34m)\u001b[0m\u001b[0;34m\u001b[0m\u001b[0;34m\u001b[0m\u001b[0m\n\u001b[0m\u001b[1;32m    126\u001b[0m \u001b[0;34m\u001b[0m\u001b[0m\n\u001b[1;32m    127\u001b[0m \u001b[0;32mdef\u001b[0m \u001b[0msafe_load_all\u001b[0m\u001b[0;34m(\u001b[0m\u001b[0mstream\u001b[0m\u001b[0;34m)\u001b[0m\u001b[0;34m:\u001b[0m\u001b[0;34m\u001b[0m\u001b[0;34m\u001b[0m\u001b[0m\n",
            "\u001b[0;32m/usr/local/lib/python3.11/dist-packages/yaml/__init__.py\u001b[0m in \u001b[0;36mload\u001b[0;34m(stream, Loader)\u001b[0m\n\u001b[1;32m     79\u001b[0m     \u001b[0mloader\u001b[0m \u001b[0;34m=\u001b[0m \u001b[0mLoader\u001b[0m\u001b[0;34m(\u001b[0m\u001b[0mstream\u001b[0m\u001b[0;34m)\u001b[0m\u001b[0;34m\u001b[0m\u001b[0;34m\u001b[0m\u001b[0m\n\u001b[1;32m     80\u001b[0m     \u001b[0;32mtry\u001b[0m\u001b[0;34m:\u001b[0m\u001b[0;34m\u001b[0m\u001b[0;34m\u001b[0m\u001b[0m\n\u001b[0;32m---> 81\u001b[0;31m         \u001b[0;32mreturn\u001b[0m \u001b[0mloader\u001b[0m\u001b[0;34m.\u001b[0m\u001b[0mget_single_data\u001b[0m\u001b[0;34m(\u001b[0m\u001b[0;34m)\u001b[0m\u001b[0;34m\u001b[0m\u001b[0;34m\u001b[0m\u001b[0m\n\u001b[0m\u001b[1;32m     82\u001b[0m     \u001b[0;32mfinally\u001b[0m\u001b[0;34m:\u001b[0m\u001b[0;34m\u001b[0m\u001b[0;34m\u001b[0m\u001b[0m\n\u001b[1;32m     83\u001b[0m         \u001b[0mloader\u001b[0m\u001b[0;34m.\u001b[0m\u001b[0mdispose\u001b[0m\u001b[0;34m(\u001b[0m\u001b[0;34m)\u001b[0m\u001b[0;34m\u001b[0m\u001b[0;34m\u001b[0m\u001b[0m\n",
            "\u001b[0;32m/usr/local/lib/python3.11/dist-packages/yaml/constructor.py\u001b[0m in \u001b[0;36mget_single_data\u001b[0;34m(self)\u001b[0m\n\u001b[1;32m     47\u001b[0m     \u001b[0;32mdef\u001b[0m \u001b[0mget_single_data\u001b[0m\u001b[0;34m(\u001b[0m\u001b[0mself\u001b[0m\u001b[0;34m)\u001b[0m\u001b[0;34m:\u001b[0m\u001b[0;34m\u001b[0m\u001b[0;34m\u001b[0m\u001b[0m\n\u001b[1;32m     48\u001b[0m         \u001b[0;31m# Ensure that the stream contains a single document and construct it.\u001b[0m\u001b[0;34m\u001b[0m\u001b[0;34m\u001b[0m\u001b[0m\n\u001b[0;32m---> 49\u001b[0;31m         \u001b[0mnode\u001b[0m \u001b[0;34m=\u001b[0m \u001b[0mself\u001b[0m\u001b[0;34m.\u001b[0m\u001b[0mget_single_node\u001b[0m\u001b[0;34m(\u001b[0m\u001b[0;34m)\u001b[0m\u001b[0;34m\u001b[0m\u001b[0;34m\u001b[0m\u001b[0m\n\u001b[0m\u001b[1;32m     50\u001b[0m         \u001b[0;32mif\u001b[0m \u001b[0mnode\u001b[0m \u001b[0;32mis\u001b[0m \u001b[0;32mnot\u001b[0m \u001b[0;32mNone\u001b[0m\u001b[0;34m:\u001b[0m\u001b[0;34m\u001b[0m\u001b[0;34m\u001b[0m\u001b[0m\n\u001b[1;32m     51\u001b[0m             \u001b[0;32mreturn\u001b[0m \u001b[0mself\u001b[0m\u001b[0;34m.\u001b[0m\u001b[0mconstruct_document\u001b[0m\u001b[0;34m(\u001b[0m\u001b[0mnode\u001b[0m\u001b[0;34m)\u001b[0m\u001b[0;34m\u001b[0m\u001b[0;34m\u001b[0m\u001b[0m\n",
            "\u001b[0;32m/usr/local/lib/python3.11/dist-packages/yaml/composer.py\u001b[0m in \u001b[0;36mget_single_node\u001b[0;34m(self)\u001b[0m\n\u001b[1;32m     34\u001b[0m         \u001b[0mdocument\u001b[0m \u001b[0;34m=\u001b[0m \u001b[0;32mNone\u001b[0m\u001b[0;34m\u001b[0m\u001b[0;34m\u001b[0m\u001b[0m\n\u001b[1;32m     35\u001b[0m         \u001b[0;32mif\u001b[0m \u001b[0;32mnot\u001b[0m \u001b[0mself\u001b[0m\u001b[0;34m.\u001b[0m\u001b[0mcheck_event\u001b[0m\u001b[0;34m(\u001b[0m\u001b[0mStreamEndEvent\u001b[0m\u001b[0;34m)\u001b[0m\u001b[0;34m:\u001b[0m\u001b[0;34m\u001b[0m\u001b[0;34m\u001b[0m\u001b[0m\n\u001b[0;32m---> 36\u001b[0;31m             \u001b[0mdocument\u001b[0m \u001b[0;34m=\u001b[0m \u001b[0mself\u001b[0m\u001b[0;34m.\u001b[0m\u001b[0mcompose_document\u001b[0m\u001b[0;34m(\u001b[0m\u001b[0;34m)\u001b[0m\u001b[0;34m\u001b[0m\u001b[0;34m\u001b[0m\u001b[0m\n\u001b[0m\u001b[1;32m     37\u001b[0m \u001b[0;34m\u001b[0m\u001b[0m\n\u001b[1;32m     38\u001b[0m         \u001b[0;31m# Ensure that the stream contains no more documents.\u001b[0m\u001b[0;34m\u001b[0m\u001b[0;34m\u001b[0m\u001b[0m\n",
            "\u001b[0;32m/usr/local/lib/python3.11/dist-packages/yaml/composer.py\u001b[0m in \u001b[0;36mcompose_document\u001b[0;34m(self)\u001b[0m\n\u001b[1;32m     56\u001b[0m \u001b[0;34m\u001b[0m\u001b[0m\n\u001b[1;32m     57\u001b[0m         \u001b[0;31m# Drop the DOCUMENT-END event.\u001b[0m\u001b[0;34m\u001b[0m\u001b[0;34m\u001b[0m\u001b[0m\n\u001b[0;32m---> 58\u001b[0;31m         \u001b[0mself\u001b[0m\u001b[0;34m.\u001b[0m\u001b[0mget_event\u001b[0m\u001b[0;34m(\u001b[0m\u001b[0;34m)\u001b[0m\u001b[0;34m\u001b[0m\u001b[0;34m\u001b[0m\u001b[0m\n\u001b[0m\u001b[1;32m     59\u001b[0m \u001b[0;34m\u001b[0m\u001b[0m\n\u001b[1;32m     60\u001b[0m         \u001b[0mself\u001b[0m\u001b[0;34m.\u001b[0m\u001b[0manchors\u001b[0m \u001b[0;34m=\u001b[0m \u001b[0;34m{\u001b[0m\u001b[0;34m}\u001b[0m\u001b[0;34m\u001b[0m\u001b[0;34m\u001b[0m\u001b[0m\n",
            "\u001b[0;32m/usr/local/lib/python3.11/dist-packages/yaml/parser.py\u001b[0m in \u001b[0;36mget_event\u001b[0;34m(self)\u001b[0m\n\u001b[1;32m    116\u001b[0m         \u001b[0;32mif\u001b[0m \u001b[0mself\u001b[0m\u001b[0;34m.\u001b[0m\u001b[0mcurrent_event\u001b[0m \u001b[0;32mis\u001b[0m \u001b[0;32mNone\u001b[0m\u001b[0;34m:\u001b[0m\u001b[0;34m\u001b[0m\u001b[0;34m\u001b[0m\u001b[0m\n\u001b[1;32m    117\u001b[0m             \u001b[0;32mif\u001b[0m \u001b[0mself\u001b[0m\u001b[0;34m.\u001b[0m\u001b[0mstate\u001b[0m\u001b[0;34m:\u001b[0m\u001b[0;34m\u001b[0m\u001b[0;34m\u001b[0m\u001b[0m\n\u001b[0;32m--> 118\u001b[0;31m                 \u001b[0mself\u001b[0m\u001b[0;34m.\u001b[0m\u001b[0mcurrent_event\u001b[0m \u001b[0;34m=\u001b[0m \u001b[0mself\u001b[0m\u001b[0;34m.\u001b[0m\u001b[0mstate\u001b[0m\u001b[0;34m(\u001b[0m\u001b[0;34m)\u001b[0m\u001b[0;34m\u001b[0m\u001b[0;34m\u001b[0m\u001b[0m\n\u001b[0m\u001b[1;32m    119\u001b[0m         \u001b[0mvalue\u001b[0m \u001b[0;34m=\u001b[0m \u001b[0mself\u001b[0m\u001b[0;34m.\u001b[0m\u001b[0mcurrent_event\u001b[0m\u001b[0;34m\u001b[0m\u001b[0;34m\u001b[0m\u001b[0m\n\u001b[1;32m    120\u001b[0m         \u001b[0mself\u001b[0m\u001b[0;34m.\u001b[0m\u001b[0mcurrent_event\u001b[0m \u001b[0;34m=\u001b[0m \u001b[0;32mNone\u001b[0m\u001b[0;34m\u001b[0m\u001b[0;34m\u001b[0m\u001b[0m\n",
            "\u001b[0;32m/usr/local/lib/python3.11/dist-packages/yaml/parser.py\u001b[0m in \u001b[0;36mparse_document_end\u001b[0;34m(self)\u001b[0m\n\u001b[1;32m    191\u001b[0m \u001b[0;34m\u001b[0m\u001b[0m\n\u001b[1;32m    192\u001b[0m         \u001b[0;31m# Parse the document end.\u001b[0m\u001b[0;34m\u001b[0m\u001b[0;34m\u001b[0m\u001b[0m\n\u001b[0;32m--> 193\u001b[0;31m         \u001b[0mtoken\u001b[0m \u001b[0;34m=\u001b[0m \u001b[0mself\u001b[0m\u001b[0;34m.\u001b[0m\u001b[0mpeek_token\u001b[0m\u001b[0;34m(\u001b[0m\u001b[0;34m)\u001b[0m\u001b[0;34m\u001b[0m\u001b[0;34m\u001b[0m\u001b[0m\n\u001b[0m\u001b[1;32m    194\u001b[0m         \u001b[0mstart_mark\u001b[0m \u001b[0;34m=\u001b[0m \u001b[0mend_mark\u001b[0m \u001b[0;34m=\u001b[0m \u001b[0mtoken\u001b[0m\u001b[0;34m.\u001b[0m\u001b[0mstart_mark\u001b[0m\u001b[0;34m\u001b[0m\u001b[0;34m\u001b[0m\u001b[0m\n\u001b[1;32m    195\u001b[0m         \u001b[0mexplicit\u001b[0m \u001b[0;34m=\u001b[0m \u001b[0;32mFalse\u001b[0m\u001b[0;34m\u001b[0m\u001b[0;34m\u001b[0m\u001b[0m\n",
            "\u001b[0;32m/usr/local/lib/python3.11/dist-packages/yaml/scanner.py\u001b[0m in \u001b[0;36mpeek_token\u001b[0;34m(self)\u001b[0m\n\u001b[1;32m    127\u001b[0m         \u001b[0;31m# Return None if no more tokens.\u001b[0m\u001b[0;34m\u001b[0m\u001b[0;34m\u001b[0m\u001b[0m\n\u001b[1;32m    128\u001b[0m         \u001b[0;32mwhile\u001b[0m \u001b[0mself\u001b[0m\u001b[0;34m.\u001b[0m\u001b[0mneed_more_tokens\u001b[0m\u001b[0;34m(\u001b[0m\u001b[0;34m)\u001b[0m\u001b[0;34m:\u001b[0m\u001b[0;34m\u001b[0m\u001b[0;34m\u001b[0m\u001b[0m\n\u001b[0;32m--> 129\u001b[0;31m             \u001b[0mself\u001b[0m\u001b[0;34m.\u001b[0m\u001b[0mfetch_more_tokens\u001b[0m\u001b[0;34m(\u001b[0m\u001b[0;34m)\u001b[0m\u001b[0;34m\u001b[0m\u001b[0;34m\u001b[0m\u001b[0m\n\u001b[0m\u001b[1;32m    130\u001b[0m         \u001b[0;32mif\u001b[0m \u001b[0mself\u001b[0m\u001b[0;34m.\u001b[0m\u001b[0mtokens\u001b[0m\u001b[0;34m:\u001b[0m\u001b[0;34m\u001b[0m\u001b[0;34m\u001b[0m\u001b[0m\n\u001b[1;32m    131\u001b[0m             \u001b[0;32mreturn\u001b[0m \u001b[0mself\u001b[0m\u001b[0;34m.\u001b[0m\u001b[0mtokens\u001b[0m\u001b[0;34m[\u001b[0m\u001b[0;36m0\u001b[0m\u001b[0;34m]\u001b[0m\u001b[0;34m\u001b[0m\u001b[0;34m\u001b[0m\u001b[0m\n",
            "\u001b[0;32m/usr/local/lib/python3.11/dist-packages/yaml/scanner.py\u001b[0m in \u001b[0;36mfetch_more_tokens\u001b[0;34m(self)\u001b[0m\n\u001b[1;32m    221\u001b[0m         \u001b[0;31m# Is it the value indicator?\u001b[0m\u001b[0;34m\u001b[0m\u001b[0;34m\u001b[0m\u001b[0m\n\u001b[1;32m    222\u001b[0m         \u001b[0;32mif\u001b[0m \u001b[0mch\u001b[0m \u001b[0;34m==\u001b[0m \u001b[0;34m':'\u001b[0m \u001b[0;32mand\u001b[0m \u001b[0mself\u001b[0m\u001b[0;34m.\u001b[0m\u001b[0mcheck_value\u001b[0m\u001b[0;34m(\u001b[0m\u001b[0;34m)\u001b[0m\u001b[0;34m:\u001b[0m\u001b[0;34m\u001b[0m\u001b[0;34m\u001b[0m\u001b[0m\n\u001b[0;32m--> 223\u001b[0;31m             \u001b[0;32mreturn\u001b[0m \u001b[0mself\u001b[0m\u001b[0;34m.\u001b[0m\u001b[0mfetch_value\u001b[0m\u001b[0;34m(\u001b[0m\u001b[0;34m)\u001b[0m\u001b[0;34m\u001b[0m\u001b[0;34m\u001b[0m\u001b[0m\n\u001b[0m\u001b[1;32m    224\u001b[0m \u001b[0;34m\u001b[0m\u001b[0m\n\u001b[1;32m    225\u001b[0m         \u001b[0;31m# Is it an alias?\u001b[0m\u001b[0;34m\u001b[0m\u001b[0;34m\u001b[0m\u001b[0m\n",
            "\u001b[0;32m/usr/local/lib/python3.11/dist-packages/yaml/scanner.py\u001b[0m in \u001b[0;36mfetch_value\u001b[0;34m(self)\u001b[0m\n\u001b[1;32m    575\u001b[0m                 \u001b[0;31m# we can start a simple key.\u001b[0m\u001b[0;34m\u001b[0m\u001b[0;34m\u001b[0m\u001b[0m\n\u001b[1;32m    576\u001b[0m                 \u001b[0;32mif\u001b[0m \u001b[0;32mnot\u001b[0m \u001b[0mself\u001b[0m\u001b[0;34m.\u001b[0m\u001b[0mallow_simple_key\u001b[0m\u001b[0;34m:\u001b[0m\u001b[0;34m\u001b[0m\u001b[0;34m\u001b[0m\u001b[0m\n\u001b[0;32m--> 577\u001b[0;31m                     raise ScannerError(None, None,\n\u001b[0m\u001b[1;32m    578\u001b[0m                             \u001b[0;34m\"mapping values are not allowed here\"\u001b[0m\u001b[0;34m,\u001b[0m\u001b[0;34m\u001b[0m\u001b[0;34m\u001b[0m\u001b[0m\n\u001b[1;32m    579\u001b[0m                             self.get_mark())\n",
            "\u001b[0;31mScannerError\u001b[0m: mapping values are not allowed here\n  in \"<unicode string>\", line 7, column 6:\n    names:\n         ^"
          ]
        }
      ]
    }
  ],
  "metadata": {
    "accelerator": "GPU",
    "colab": {
      "gpuType": "T4",
      "provenance": [],
      "authorship_tag": "ABX9TyN/FTHWY+Ew1gGEt2FtEjWz",
      "include_colab_link": true
    },
    "kernelspec": {
      "display_name": "Python 3",
      "name": "python3"
    },
    "language_info": {
      "name": "python"
    }
  },
  "nbformat": 4,
  "nbformat_minor": 0
}